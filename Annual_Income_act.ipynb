{
  "nbformat": 4,
  "nbformat_minor": 0,
  "metadata": {
    "colab": {
      "name": "Annual_Income_act.ipynb",
      "provenance": [],
      "collapsed_sections": [],
      "authorship_tag": "ABX9TyN6J1dOkNDYkvZGXzXg+CXf",
      "include_colab_link": true
    },
    "kernelspec": {
      "name": "python3",
      "display_name": "Python 3"
    },
    "language_info": {
      "name": "python"
    }
  },
  "cells": [
    {
      "cell_type": "markdown",
      "metadata": {
        "id": "view-in-github",
        "colab_type": "text"
      },
      "source": [
        "<a href=\"https://colab.research.google.com/github/chitinglow/Classification-Machine-learning/blob/master/Annual_Income_act.ipynb\" target=\"_parent\"><img src=\"https://colab.research.google.com/assets/colab-badge.svg\" alt=\"Open In Colab\"/></a>"
      ]
    },
    {
      "cell_type": "code",
      "metadata": {
        "colab": {
          "base_uri": "https://localhost:8080/"
        },
        "id": "AVNkravLF5ji",
        "outputId": "955dbc02-d5cc-462f-a552-bc9f8f3e516d"
      },
      "source": [
        "import pandas as pd\n",
        "from sklearn.naive_bayes import GaussianNB\n",
        "from sklearn.model_selection import train_test_split\n",
        "\n",
        "data = pd.read_csv(\"https://raw.githubusercontent.com/PacktWorkshops/The-Machine-Learning-Workshop/master/Chapter04/Activity4.01/census_income_dataset_preprocessed.csv\")\n",
        "X = data.drop(\"target\", axis=1)\n",
        "Y = data['target']\n",
        "print(X.shape, Y.shape)"
      ],
      "execution_count": 5,
      "outputs": [
        {
          "output_type": "stream",
          "text": [
            "(32561, 9) (32561,)\n"
          ],
          "name": "stdout"
        }
      ]
    },
    {
      "cell_type": "code",
      "metadata": {
        "colab": {
          "base_uri": "https://localhost:8080/"
        },
        "id": "AZdDeFbZF_H8",
        "outputId": "3ebb953f-7324-4b70-afa5-b60d3cb92ace"
      },
      "source": [
        "X_new, X_test, Y_new, Y_test = train_test_split(X, Y, test_size=0.1, random_state=101)\n",
        "test_size = X_test.shape[0] / X_new.shape[0]\n",
        "X_train, X_dev, Y_train, Y_dev = train_test_split(X_new, Y_new, test_size=test_size, random_state=101)\n",
        "print(X_train.shape, Y_train.shape, X_dev.shape, Y_dev.shape, X_test.shape, Y_test.shape)\n",
        "\n",
        "model_NB = GaussianNB()\n",
        "model_NB.fit(X_train, Y_train)"
      ],
      "execution_count": 6,
      "outputs": [
        {
          "output_type": "stream",
          "text": [
            "(26047, 9) (26047,) (3257, 9) (3257,) (3257, 9) (3257,)\n"
          ],
          "name": "stdout"
        },
        {
          "output_type": "execute_result",
          "data": {
            "text/plain": [
              "GaussianNB(priors=None, var_smoothing=1e-09)"
            ]
          },
          "metadata": {
            "tags": []
          },
          "execution_count": 6
        }
      ]
    },
    {
      "cell_type": "code",
      "metadata": {
        "colab": {
          "base_uri": "https://localhost:8080/"
        },
        "id": "lbhDh2FNMvGy",
        "outputId": "63dd384b-e24c-4ea9-c350-57fdd1594607"
      },
      "source": [
        "pred_1 = model_NB.predict([[39,6,13,4,0,2174,0,40,38]])\n",
        "print(pred_1)"
      ],
      "execution_count": 7,
      "outputs": [
        {
          "output_type": "stream",
          "text": [
            "[0]\n"
          ],
          "name": "stdout"
        }
      ]
    },
    {
      "cell_type": "code",
      "metadata": {
        "colab": {
          "base_uri": "https://localhost:8080/"
        },
        "id": "DOO3rT5vMwnh",
        "outputId": "d4f1d4ce-76c9-4eab-d3e9-8b0bba4d8a46"
      },
      "source": [
        "from sklearn.tree import DecisionTreeClassifier\n",
        "\n",
        "model_tree = DecisionTreeClassifier()\n",
        "model_tree.fit(X_train, Y_train)"
      ],
      "execution_count": 9,
      "outputs": [
        {
          "output_type": "execute_result",
          "data": {
            "text/plain": [
              "DecisionTreeClassifier(ccp_alpha=0.0, class_weight=None, criterion='gini',\n",
              "                       max_depth=None, max_features=None, max_leaf_nodes=None,\n",
              "                       min_impurity_decrease=0.0, min_impurity_split=None,\n",
              "                       min_samples_leaf=1, min_samples_split=2,\n",
              "                       min_weight_fraction_leaf=0.0, presort='deprecated',\n",
              "                       random_state=None, splitter='best')"
            ]
          },
          "metadata": {
            "tags": []
          },
          "execution_count": 9
        }
      ]
    },
    {
      "cell_type": "code",
      "metadata": {
        "colab": {
          "base_uri": "https://localhost:8080/"
        },
        "id": "ad2FeqVzNilb",
        "outputId": "3f6f00d2-9ff0-4036-c45e-45aec555e9e6"
      },
      "source": [
        "pred_2 = model_NB.predict([[39,6,13,4,0,2174,0,40,38]])\n",
        "print(pred_2)"
      ],
      "execution_count": 10,
      "outputs": [
        {
          "output_type": "stream",
          "text": [
            "[0]\n"
          ],
          "name": "stdout"
        }
      ]
    },
    {
      "cell_type": "code",
      "metadata": {
        "colab": {
          "base_uri": "https://localhost:8080/"
        },
        "id": "EzexiYhsNo7A",
        "outputId": "bc942c1a-14a8-4b83-8481-85693e69c269"
      },
      "source": [
        "from sklearn.svm import SVC\n",
        "\n",
        "model_svc = SVC()\n",
        "model_svc.fit(X_train, Y_train)\n"
      ],
      "execution_count": 11,
      "outputs": [
        {
          "output_type": "execute_result",
          "data": {
            "text/plain": [
              "SVC(C=1.0, break_ties=False, cache_size=200, class_weight=None, coef0=0.0,\n",
              "    decision_function_shape='ovr', degree=3, gamma='scale', kernel='rbf',\n",
              "    max_iter=-1, probability=False, random_state=None, shrinking=True,\n",
              "    tol=0.001, verbose=False)"
            ]
          },
          "metadata": {
            "tags": []
          },
          "execution_count": 11
        }
      ]
    },
    {
      "cell_type": "code",
      "metadata": {
        "colab": {
          "base_uri": "https://localhost:8080/"
        },
        "id": "cbAZ_2YNOEE6",
        "outputId": "d9d8f4b4-31bd-431e-e47e-9169b0fa6b3e"
      },
      "source": [
        "pred_2 = model_NB.predict([[39,6,13,4,0,2174,0,40,38]])\n",
        "print(pred_2)"
      ],
      "execution_count": 12,
      "outputs": [
        {
          "output_type": "stream",
          "text": [
            "[0]\n"
          ],
          "name": "stdout"
        }
      ]
    },
    {
      "cell_type": "code",
      "metadata": {
        "id": "3wwSw2iGOIFw"
      },
      "source": [
        "from sklearn.metrics import accuracy_score, precision_score, recall_score\n",
        "\n",
        "X_sets = [X_train, X_dev, X_test]\n",
        "Y_sets = [Y_train, Y_dev, Y_test]\n",
        "\n",
        "metrics = {\"NB\":{\"ACC\":[], \"Pre\":[], \"Rec\":[]},\n",
        "           \"DT\":{\"ACC\":[], \"Pre\":[], \"Rec\":[]},\n",
        "           \"SVM\":{\"ACC\":[], \"Pre\":[], \"Rec\":[]}}\n",
        "\n",
        "for i in range(0, len(X_sets)):\n",
        "  pred_NB = model_NB.predict(X_sets[i])\n",
        "  metrics[\"NB\"][\"ACC\"].append(accuracy_score(Y_sets[i], pred_NB))\n",
        "  metrics[\"NB\"][\"Pre\"].append(precision_score(Y_sets[i], pred_NB))\n",
        "  metrics[\"NB\"][\"Rec\"].append(recall_score(Y_sets[i], pred_NB))\n",
        "  pred_tree = model_tree.predict(X_sets[i])\n",
        "  metrics[\"DT\"][\"ACC\"].append(accuracy_score(Y_sets[i], pred_tree))\n",
        "  metrics[\"DT\"][\"Pre\"].append(precision_score(Y_sets[i], pred_tree))\n",
        "  metrics[\"DT\"][\"Rec\"].append(recall_score(Y_sets[i], pred_tree))\n",
        "  pred_svm = model_svc.predict(X_sets[i])\n",
        "  metrics[\"SVM\"][\"ACC\"].append(accuracy_score(Y_sets[i], pred_svm))\n",
        "  metrics[\"SVM\"][\"Pre\"].append(precision_score(Y_sets[i], pred_svm))\n",
        "  metrics[\"SVM\"][\"Rec\"].append(recall_score(Y_sets[i], pred_svm))\n",
        "              "
      ],
      "execution_count": 13,
      "outputs": []
    },
    {
      "cell_type": "code",
      "metadata": {
        "colab": {
          "base_uri": "https://localhost:8080/"
        },
        "id": "GjIMjWeCPzkr",
        "outputId": "35f10657-8f79-463d-f2f1-934663336bb7"
      },
      "source": [
        "metrics"
      ],
      "execution_count": 15,
      "outputs": [
        {
          "output_type": "execute_result",
          "data": {
            "text/plain": [
              "{'DT': {'ACC': [0.9723960532882866, 0.8044212465459011, 0.8259134172551428],\n",
              "  'Pre': [0.9827856025039123, 0.6152832674571805, 0.6283783783783784],\n",
              "  'Rec': [0.9011479591836735, 0.5751231527093597, 0.6142668428005285]},\n",
              " 'NB': {'ACC': [0.7970975544208546, 0.7902978200798281, 0.8084126496776174],\n",
              "  'Pre': [0.6683725690890481, 0.6816901408450704, 0.6873239436619718],\n",
              "  'Rec': [0.3123405612244898, 0.29802955665024633, 0.32232496697490093]},\n",
              " 'SVM': {'ACC': [0.8024724536414942, 0.7958243782622045, 0.8099478047282775],\n",
              "  'Pre': [0.7411210954214805, 0.7474747474747475, 0.7429577464788732],\n",
              "  'Rec': [0.27614795918367346, 0.2733990147783251, 0.27873183619550856]}}"
            ]
          },
          "metadata": {
            "tags": []
          },
          "execution_count": 15
        }
      ]
    },
    {
      "cell_type": "code",
      "metadata": {
        "id": "mLOOhXeYP2wI"
      },
      "source": [
        ""
      ],
      "execution_count": null,
      "outputs": []
    }
  ]
}