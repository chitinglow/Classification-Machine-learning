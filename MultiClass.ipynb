{
  "nbformat": 4,
  "nbformat_minor": 0,
  "metadata": {
    "colab": {
      "name": "MultiClass.ipynb",
      "provenance": [],
      "collapsed_sections": [],
      "authorship_tag": "ABX9TyMLvnAznDFNdrRXf9y7H8LK",
      "include_colab_link": true
    },
    "kernelspec": {
      "name": "python3",
      "display_name": "Python 3"
    },
    "language_info": {
      "name": "python"
    }
  },
  "cells": [
    {
      "cell_type": "markdown",
      "metadata": {
        "id": "view-in-github",
        "colab_type": "text"
      },
      "source": [
        "<a href=\"https://colab.research.google.com/github/chitinglow/Classification-Machine-learning/blob/master/MultiClass.ipynb\" target=\"_parent\"><img src=\"https://colab.research.google.com/assets/colab-badge.svg\" alt=\"Open In Colab\"/></a>"
      ]
    },
    {
      "cell_type": "code",
      "metadata": {
        "colab": {
          "base_uri": "https://localhost:8080/",
          "height": 204
        },
        "id": "31oe9heqwUbk",
        "outputId": "fdc49525-9bde-4d05-b0f9-814fece7668e"
      },
      "source": [
        "## Training a random forest classifier\n",
        "import pandas as pd\n",
        "from sklearn.model_selection import train_test_split\n",
        "from sklearn.ensemble import RandomForestClassifier\n",
        "from sklearn.metrics import accuracy_score\n",
        "file_url = \"https://raw.githubusercontent.com/PacktWorkshops/The-Data-Science-Workshop/master/Chapter04/Dataset/activity.csv\"\n",
        "df = pd.read_csv(file_url)\n",
        "df.head()"
      ],
      "execution_count": null,
      "outputs": [
        {
          "output_type": "execute_result",
          "data": {
            "text/html": [
              "<div>\n",
              "<style scoped>\n",
              "    .dataframe tbody tr th:only-of-type {\n",
              "        vertical-align: middle;\n",
              "    }\n",
              "\n",
              "    .dataframe tbody tr th {\n",
              "        vertical-align: top;\n",
              "    }\n",
              "\n",
              "    .dataframe thead th {\n",
              "        text-align: right;\n",
              "    }\n",
              "</style>\n",
              "<table border=\"1\" class=\"dataframe\">\n",
              "  <thead>\n",
              "    <tr style=\"text-align: right;\">\n",
              "      <th></th>\n",
              "      <th>avg_rss12</th>\n",
              "      <th>var_rss12</th>\n",
              "      <th>avg_rss13</th>\n",
              "      <th>var_rss13</th>\n",
              "      <th>avg_rss23</th>\n",
              "      <th>var_rss23</th>\n",
              "      <th>Activity</th>\n",
              "    </tr>\n",
              "  </thead>\n",
              "  <tbody>\n",
              "    <tr>\n",
              "      <th>0</th>\n",
              "      <td>42.00</td>\n",
              "      <td>0.00</td>\n",
              "      <td>18.50</td>\n",
              "      <td>0.50</td>\n",
              "      <td>12.00</td>\n",
              "      <td>0.00</td>\n",
              "      <td>bending1</td>\n",
              "    </tr>\n",
              "    <tr>\n",
              "      <th>1</th>\n",
              "      <td>42.00</td>\n",
              "      <td>0.00</td>\n",
              "      <td>18.00</td>\n",
              "      <td>0.00</td>\n",
              "      <td>11.33</td>\n",
              "      <td>0.94</td>\n",
              "      <td>bending1</td>\n",
              "    </tr>\n",
              "    <tr>\n",
              "      <th>2</th>\n",
              "      <td>42.75</td>\n",
              "      <td>0.43</td>\n",
              "      <td>16.75</td>\n",
              "      <td>1.79</td>\n",
              "      <td>18.25</td>\n",
              "      <td>0.43</td>\n",
              "      <td>bending1</td>\n",
              "    </tr>\n",
              "    <tr>\n",
              "      <th>3</th>\n",
              "      <td>42.50</td>\n",
              "      <td>0.50</td>\n",
              "      <td>16.75</td>\n",
              "      <td>0.83</td>\n",
              "      <td>19.00</td>\n",
              "      <td>1.22</td>\n",
              "      <td>bending1</td>\n",
              "    </tr>\n",
              "    <tr>\n",
              "      <th>4</th>\n",
              "      <td>43.00</td>\n",
              "      <td>0.82</td>\n",
              "      <td>16.25</td>\n",
              "      <td>0.83</td>\n",
              "      <td>18.00</td>\n",
              "      <td>0.00</td>\n",
              "      <td>bending1</td>\n",
              "    </tr>\n",
              "  </tbody>\n",
              "</table>\n",
              "</div>"
            ],
            "text/plain": [
              "   avg_rss12  var_rss12  avg_rss13  var_rss13  avg_rss23  var_rss23  Activity\n",
              "0      42.00       0.00      18.50       0.50      12.00       0.00  bending1\n",
              "1      42.00       0.00      18.00       0.00      11.33       0.94  bending1\n",
              "2      42.75       0.43      16.75       1.79      18.25       0.43  bending1\n",
              "3      42.50       0.50      16.75       0.83      19.00       1.22  bending1\n",
              "4      43.00       0.82      16.25       0.83      18.00       0.00  bending1"
            ]
          },
          "metadata": {
            "tags": []
          },
          "execution_count": 1
        }
      ]
    },
    {
      "cell_type": "code",
      "metadata": {
        "id": "Q7o3ox8Rxqqt"
      },
      "source": [
        "## Data preprocessing and split train test data\n",
        "target = df.pop('Activity')\n",
        "X_train, X_test, y_train, y_test = train_test_split(df, target, test_size=0.33, random_state=42)"
      ],
      "execution_count": null,
      "outputs": []
    },
    {
      "cell_type": "code",
      "metadata": {
        "colab": {
          "base_uri": "https://localhost:8080/"
        },
        "id": "tQHHkAgIyNM-",
        "outputId": "d4bad338-7f71-4577-8702-00e80a5f1f71"
      },
      "source": [
        "## Random forest model\n",
        "rf_model = RandomForestClassifier(random_state=1)\n",
        "\n",
        "## Fit the data\n",
        "rf_model.fit(X_train, y_train)"
      ],
      "execution_count": null,
      "outputs": [
        {
          "output_type": "execute_result",
          "data": {
            "text/plain": [
              "RandomForestClassifier(bootstrap=True, ccp_alpha=0.0, class_weight=None,\n",
              "                       criterion='gini', max_depth=None, max_features='auto',\n",
              "                       max_leaf_nodes=None, max_samples=None,\n",
              "                       min_impurity_decrease=0.0, min_impurity_split=None,\n",
              "                       min_samples_leaf=1, min_samples_split=2,\n",
              "                       min_weight_fraction_leaf=0.0, n_estimators=100,\n",
              "                       n_jobs=None, oob_score=False, random_state=1, verbose=0,\n",
              "                       warm_start=False)"
            ]
          },
          "metadata": {
            "tags": []
          },
          "execution_count": 3
        }
      ]
    },
    {
      "cell_type": "code",
      "metadata": {
        "colab": {
          "base_uri": "https://localhost:8080/"
        },
        "id": "Rxoku40qydlV",
        "outputId": "dd293933-7646-41fb-9169-cdf8416bba49"
      },
      "source": [
        "## Prediction\n",
        "preds = rf_model.predict(X_train)\n",
        "preds"
      ],
      "execution_count": null,
      "outputs": [
        {
          "output_type": "execute_result",
          "data": {
            "text/plain": [
              "array(['lying', 'bending1', 'cycling', ..., 'cycling', 'bending1',\n",
              "       'standing'], dtype=object)"
            ]
          },
          "metadata": {
            "tags": []
          },
          "execution_count": 4
        }
      ]
    },
    {
      "cell_type": "code",
      "metadata": {
        "colab": {
          "base_uri": "https://localhost:8080/"
        },
        "id": "2Q7Qk1BD0Des",
        "outputId": "dd1f8d76-ff68-4cbb-e50d-6bb86bbe90da"
      },
      "source": [
        "test_preds = rf_model.predict(X_test)\n",
        "test_preds"
      ],
      "execution_count": null,
      "outputs": [
        {
          "output_type": "execute_result",
          "data": {
            "text/plain": [
              "array(['lying', 'lying', 'lying', ..., 'walking', 'standing', 'cycling'],\n",
              "      dtype=object)"
            ]
          },
          "metadata": {
            "tags": []
          },
          "execution_count": 5
        }
      ]
    },
    {
      "cell_type": "code",
      "metadata": {
        "colab": {
          "base_uri": "https://localhost:8080/"
        },
        "id": "joNyebvFyluB",
        "outputId": "c62b1363-52b7-495d-8861-b9f6080cf18f"
      },
      "source": [
        "## Evaluating performance\n",
        "accuracy_score(y_train, preds)"
      ],
      "execution_count": null,
      "outputs": [
        {
          "output_type": "execute_result",
          "data": {
            "text/plain": [
              "0.9972120952176711"
            ]
          },
          "metadata": {
            "tags": []
          },
          "execution_count": 6
        }
      ]
    },
    {
      "cell_type": "code",
      "metadata": {
        "colab": {
          "base_uri": "https://localhost:8080/"
        },
        "id": "Lje4Y8nuzVhu",
        "outputId": "c6e5ec0d-fe24-432e-c0ed-3fd84fe802d0"
      },
      "source": [
        "## Evaluating prediction performance\n",
        "accuracy_score(y_test, test_preds)"
      ],
      "execution_count": null,
      "outputs": [
        {
          "output_type": "execute_result",
          "data": {
            "text/plain": [
              "0.7916696901531094"
            ]
          },
          "metadata": {
            "tags": []
          },
          "execution_count": 7
        }
      ]
    },
    {
      "cell_type": "code",
      "metadata": {
        "colab": {
          "base_uri": "https://localhost:8080/",
          "height": 204
        },
        "id": "JOpvip73zirv",
        "outputId": "564e5134-eaaf-49be-fccf-33a3da855dee"
      },
      "source": [
        "## Model for animal types and evaluating performance\n",
        "file_url = 'https://raw.githubusercontent.com/PacktWorkshops/The-Data-Science-Workshop/master/Chapter04/Dataset/openml_phpZNNasq.csv'\n",
        "df = pd.read_csv(file_url)\n",
        "df.head()"
      ],
      "execution_count": null,
      "outputs": [
        {
          "output_type": "execute_result",
          "data": {
            "text/html": [
              "<div>\n",
              "<style scoped>\n",
              "    .dataframe tbody tr th:only-of-type {\n",
              "        vertical-align: middle;\n",
              "    }\n",
              "\n",
              "    .dataframe tbody tr th {\n",
              "        vertical-align: top;\n",
              "    }\n",
              "\n",
              "    .dataframe thead th {\n",
              "        text-align: right;\n",
              "    }\n",
              "</style>\n",
              "<table border=\"1\" class=\"dataframe\">\n",
              "  <thead>\n",
              "    <tr style=\"text-align: right;\">\n",
              "      <th></th>\n",
              "      <th>animal</th>\n",
              "      <th>hair</th>\n",
              "      <th>feathers</th>\n",
              "      <th>eggs</th>\n",
              "      <th>milk</th>\n",
              "      <th>airborne</th>\n",
              "      <th>aquatic</th>\n",
              "      <th>predator</th>\n",
              "      <th>toothed</th>\n",
              "      <th>backbone</th>\n",
              "      <th>breathes</th>\n",
              "      <th>venomous</th>\n",
              "      <th>fins</th>\n",
              "      <th>legs</th>\n",
              "      <th>tail</th>\n",
              "      <th>domestic</th>\n",
              "      <th>catsize</th>\n",
              "      <th>type</th>\n",
              "    </tr>\n",
              "  </thead>\n",
              "  <tbody>\n",
              "    <tr>\n",
              "      <th>0</th>\n",
              "      <td>aardvark</td>\n",
              "      <td>True</td>\n",
              "      <td>False</td>\n",
              "      <td>False</td>\n",
              "      <td>True</td>\n",
              "      <td>False</td>\n",
              "      <td>False</td>\n",
              "      <td>True</td>\n",
              "      <td>True</td>\n",
              "      <td>True</td>\n",
              "      <td>True</td>\n",
              "      <td>False</td>\n",
              "      <td>False</td>\n",
              "      <td>4</td>\n",
              "      <td>False</td>\n",
              "      <td>False</td>\n",
              "      <td>True</td>\n",
              "      <td>mammal</td>\n",
              "    </tr>\n",
              "    <tr>\n",
              "      <th>1</th>\n",
              "      <td>antelope</td>\n",
              "      <td>True</td>\n",
              "      <td>False</td>\n",
              "      <td>False</td>\n",
              "      <td>True</td>\n",
              "      <td>False</td>\n",
              "      <td>False</td>\n",
              "      <td>False</td>\n",
              "      <td>True</td>\n",
              "      <td>True</td>\n",
              "      <td>True</td>\n",
              "      <td>False</td>\n",
              "      <td>False</td>\n",
              "      <td>4</td>\n",
              "      <td>True</td>\n",
              "      <td>False</td>\n",
              "      <td>True</td>\n",
              "      <td>mammal</td>\n",
              "    </tr>\n",
              "    <tr>\n",
              "      <th>2</th>\n",
              "      <td>bass</td>\n",
              "      <td>False</td>\n",
              "      <td>False</td>\n",
              "      <td>True</td>\n",
              "      <td>False</td>\n",
              "      <td>False</td>\n",
              "      <td>True</td>\n",
              "      <td>True</td>\n",
              "      <td>True</td>\n",
              "      <td>True</td>\n",
              "      <td>False</td>\n",
              "      <td>False</td>\n",
              "      <td>True</td>\n",
              "      <td>0</td>\n",
              "      <td>True</td>\n",
              "      <td>False</td>\n",
              "      <td>False</td>\n",
              "      <td>fish</td>\n",
              "    </tr>\n",
              "    <tr>\n",
              "      <th>3</th>\n",
              "      <td>bear</td>\n",
              "      <td>True</td>\n",
              "      <td>False</td>\n",
              "      <td>False</td>\n",
              "      <td>True</td>\n",
              "      <td>False</td>\n",
              "      <td>False</td>\n",
              "      <td>True</td>\n",
              "      <td>True</td>\n",
              "      <td>True</td>\n",
              "      <td>True</td>\n",
              "      <td>False</td>\n",
              "      <td>False</td>\n",
              "      <td>4</td>\n",
              "      <td>False</td>\n",
              "      <td>False</td>\n",
              "      <td>True</td>\n",
              "      <td>mammal</td>\n",
              "    </tr>\n",
              "    <tr>\n",
              "      <th>4</th>\n",
              "      <td>boar</td>\n",
              "      <td>True</td>\n",
              "      <td>False</td>\n",
              "      <td>False</td>\n",
              "      <td>True</td>\n",
              "      <td>False</td>\n",
              "      <td>False</td>\n",
              "      <td>True</td>\n",
              "      <td>True</td>\n",
              "      <td>True</td>\n",
              "      <td>True</td>\n",
              "      <td>False</td>\n",
              "      <td>False</td>\n",
              "      <td>4</td>\n",
              "      <td>True</td>\n",
              "      <td>False</td>\n",
              "      <td>True</td>\n",
              "      <td>mammal</td>\n",
              "    </tr>\n",
              "  </tbody>\n",
              "</table>\n",
              "</div>"
            ],
            "text/plain": [
              "     animal   hair  feathers   eggs  ...   tail  domestic  catsize    type\n",
              "0  aardvark   True     False  False  ...  False     False     True  mammal\n",
              "1  antelope   True     False  False  ...   True     False     True  mammal\n",
              "2      bass  False     False   True  ...   True     False    False    fish\n",
              "3      bear   True     False  False  ...  False     False     True  mammal\n",
              "4      boar   True     False  False  ...   True     False     True  mammal\n",
              "\n",
              "[5 rows x 18 columns]"
            ]
          },
          "metadata": {
            "tags": []
          },
          "execution_count": 8
        }
      ]
    },
    {
      "cell_type": "code",
      "metadata": {
        "id": "HPNBrsKs0lxE"
      },
      "source": [
        "# Drop columns and set target\n",
        "df.drop(columns='animal', inplace=True)\n",
        "y = df.pop('type')"
      ],
      "execution_count": null,
      "outputs": []
    },
    {
      "cell_type": "code",
      "metadata": {
        "colab": {
          "base_uri": "https://localhost:8080/",
          "height": 204
        },
        "id": "6Y0VFqfD0xHZ",
        "outputId": "32faa0e0-f82e-4d30-b3d1-f95c42912812"
      },
      "source": [
        "df.head()"
      ],
      "execution_count": null,
      "outputs": [
        {
          "output_type": "execute_result",
          "data": {
            "text/html": [
              "<div>\n",
              "<style scoped>\n",
              "    .dataframe tbody tr th:only-of-type {\n",
              "        vertical-align: middle;\n",
              "    }\n",
              "\n",
              "    .dataframe tbody tr th {\n",
              "        vertical-align: top;\n",
              "    }\n",
              "\n",
              "    .dataframe thead th {\n",
              "        text-align: right;\n",
              "    }\n",
              "</style>\n",
              "<table border=\"1\" class=\"dataframe\">\n",
              "  <thead>\n",
              "    <tr style=\"text-align: right;\">\n",
              "      <th></th>\n",
              "      <th>hair</th>\n",
              "      <th>feathers</th>\n",
              "      <th>eggs</th>\n",
              "      <th>milk</th>\n",
              "      <th>airborne</th>\n",
              "      <th>aquatic</th>\n",
              "      <th>predator</th>\n",
              "      <th>toothed</th>\n",
              "      <th>backbone</th>\n",
              "      <th>breathes</th>\n",
              "      <th>venomous</th>\n",
              "      <th>fins</th>\n",
              "      <th>legs</th>\n",
              "      <th>tail</th>\n",
              "      <th>domestic</th>\n",
              "      <th>catsize</th>\n",
              "    </tr>\n",
              "  </thead>\n",
              "  <tbody>\n",
              "    <tr>\n",
              "      <th>0</th>\n",
              "      <td>True</td>\n",
              "      <td>False</td>\n",
              "      <td>False</td>\n",
              "      <td>True</td>\n",
              "      <td>False</td>\n",
              "      <td>False</td>\n",
              "      <td>True</td>\n",
              "      <td>True</td>\n",
              "      <td>True</td>\n",
              "      <td>True</td>\n",
              "      <td>False</td>\n",
              "      <td>False</td>\n",
              "      <td>4</td>\n",
              "      <td>False</td>\n",
              "      <td>False</td>\n",
              "      <td>True</td>\n",
              "    </tr>\n",
              "    <tr>\n",
              "      <th>1</th>\n",
              "      <td>True</td>\n",
              "      <td>False</td>\n",
              "      <td>False</td>\n",
              "      <td>True</td>\n",
              "      <td>False</td>\n",
              "      <td>False</td>\n",
              "      <td>False</td>\n",
              "      <td>True</td>\n",
              "      <td>True</td>\n",
              "      <td>True</td>\n",
              "      <td>False</td>\n",
              "      <td>False</td>\n",
              "      <td>4</td>\n",
              "      <td>True</td>\n",
              "      <td>False</td>\n",
              "      <td>True</td>\n",
              "    </tr>\n",
              "    <tr>\n",
              "      <th>2</th>\n",
              "      <td>False</td>\n",
              "      <td>False</td>\n",
              "      <td>True</td>\n",
              "      <td>False</td>\n",
              "      <td>False</td>\n",
              "      <td>True</td>\n",
              "      <td>True</td>\n",
              "      <td>True</td>\n",
              "      <td>True</td>\n",
              "      <td>False</td>\n",
              "      <td>False</td>\n",
              "      <td>True</td>\n",
              "      <td>0</td>\n",
              "      <td>True</td>\n",
              "      <td>False</td>\n",
              "      <td>False</td>\n",
              "    </tr>\n",
              "    <tr>\n",
              "      <th>3</th>\n",
              "      <td>True</td>\n",
              "      <td>False</td>\n",
              "      <td>False</td>\n",
              "      <td>True</td>\n",
              "      <td>False</td>\n",
              "      <td>False</td>\n",
              "      <td>True</td>\n",
              "      <td>True</td>\n",
              "      <td>True</td>\n",
              "      <td>True</td>\n",
              "      <td>False</td>\n",
              "      <td>False</td>\n",
              "      <td>4</td>\n",
              "      <td>False</td>\n",
              "      <td>False</td>\n",
              "      <td>True</td>\n",
              "    </tr>\n",
              "    <tr>\n",
              "      <th>4</th>\n",
              "      <td>True</td>\n",
              "      <td>False</td>\n",
              "      <td>False</td>\n",
              "      <td>True</td>\n",
              "      <td>False</td>\n",
              "      <td>False</td>\n",
              "      <td>True</td>\n",
              "      <td>True</td>\n",
              "      <td>True</td>\n",
              "      <td>True</td>\n",
              "      <td>False</td>\n",
              "      <td>False</td>\n",
              "      <td>4</td>\n",
              "      <td>True</td>\n",
              "      <td>False</td>\n",
              "      <td>True</td>\n",
              "    </tr>\n",
              "  </tbody>\n",
              "</table>\n",
              "</div>"
            ],
            "text/plain": [
              "    hair  feathers   eggs   milk  ...  legs   tail  domestic  catsize\n",
              "0   True     False  False   True  ...     4  False     False     True\n",
              "1   True     False  False   True  ...     4   True     False     True\n",
              "2  False     False   True  False  ...     0   True     False    False\n",
              "3   True     False  False   True  ...     4  False     False     True\n",
              "4   True     False  False   True  ...     4   True     False     True\n",
              "\n",
              "[5 rows x 16 columns]"
            ]
          },
          "metadata": {
            "tags": []
          },
          "execution_count": 10
        }
      ]
    },
    {
      "cell_type": "code",
      "metadata": {
        "colab": {
          "base_uri": "https://localhost:8080/"
        },
        "id": "XYY8ndfn0yMH",
        "outputId": "78cb01ce-4810-46da-9b8d-e1487f2665ba"
      },
      "source": [
        "## Train test split and evaluating performance\n",
        "X_train, X_test, y_train, y_test = train_test_split(df, y, test_size = 0.4, random_state=188)\n",
        "rf_model = RandomForestClassifier(random_state=42)\n",
        "rf_model.fit(X_train, y_train)"
      ],
      "execution_count": null,
      "outputs": [
        {
          "output_type": "execute_result",
          "data": {
            "text/plain": [
              "RandomForestClassifier(bootstrap=True, ccp_alpha=0.0, class_weight=None,\n",
              "                       criterion='gini', max_depth=None, max_features='auto',\n",
              "                       max_leaf_nodes=None, max_samples=None,\n",
              "                       min_impurity_decrease=0.0, min_impurity_split=None,\n",
              "                       min_samples_leaf=1, min_samples_split=2,\n",
              "                       min_weight_fraction_leaf=0.0, n_estimators=100,\n",
              "                       n_jobs=None, oob_score=False, random_state=42, verbose=0,\n",
              "                       warm_start=False)"
            ]
          },
          "metadata": {
            "tags": []
          },
          "execution_count": 11
        }
      ]
    },
    {
      "cell_type": "code",
      "metadata": {
        "colab": {
          "base_uri": "https://localhost:8080/"
        },
        "id": "AWD-GrVo1EmK",
        "outputId": "b440a49f-43ad-4183-96b0-35c3509f8598"
      },
      "source": [
        "train_preds = rf_model.predict(X_train)\n",
        "train_preds"
      ],
      "execution_count": null,
      "outputs": [
        {
          "output_type": "execute_result",
          "data": {
            "text/plain": [
              "array(['mammal', 'mammal', 'mammal', 'fish', 'mammal', 'insect', 'fish',\n",
              "       'bird', 'mammal', 'mammal', 'fish', 'bird', 'reptile', 'bird',\n",
              "       'fish', 'mammal', 'mammal', 'bird', 'bird', 'mammal', 'bird',\n",
              "       'bird', 'mammal', 'invertebrate', 'reptile', 'invertebrate',\n",
              "       'fish', 'bird', 'mammal', 'mammal', 'amphibian', 'mammal',\n",
              "       'invertebrate', 'mammal', 'mammal', 'insect', 'mammal', 'fish',\n",
              "       'invertebrate', 'mammal', 'invertebrate', 'invertebrate', 'insect',\n",
              "       'amphibian', 'mammal', 'reptile', 'amphibian', 'invertebrate',\n",
              "       'mammal', 'fish', 'bird', 'mammal', 'mammal', 'bird', 'mammal',\n",
              "       'mammal', 'fish', 'mammal', 'bird', 'fish'], dtype=object)"
            ]
          },
          "metadata": {
            "tags": []
          },
          "execution_count": 12
        }
      ]
    },
    {
      "cell_type": "code",
      "metadata": {
        "colab": {
          "base_uri": "https://localhost:8080/"
        },
        "id": "p52VodL31IYE",
        "outputId": "f6634365-0078-4993-8d53-90edf6fc063b"
      },
      "source": [
        "train_acc = accuracy_score(y_train, train_preds)\n",
        "print(train_acc)"
      ],
      "execution_count": null,
      "outputs": [
        {
          "output_type": "stream",
          "text": [
            "1.0\n"
          ],
          "name": "stdout"
        }
      ]
    },
    {
      "cell_type": "code",
      "metadata": {
        "colab": {
          "base_uri": "https://localhost:8080/"
        },
        "id": "KigcPVDR1NmV",
        "outputId": "613822cc-7066-4752-8661-13bc55749a85"
      },
      "source": [
        "## Test set performance\n",
        "test_preds = rf_model.predict(X_test)\n",
        "test_acc= accuracy_score(y_test, test_preds)\n",
        "print(test_acc)"
      ],
      "execution_count": null,
      "outputs": [
        {
          "output_type": "stream",
          "text": [
            "0.9024390243902439\n"
          ],
          "name": "stdout"
        }
      ]
    },
    {
      "cell_type": "code",
      "metadata": {
        "colab": {
          "base_uri": "https://localhost:8080/"
        },
        "id": "OA7Ia-aB1ZdV",
        "outputId": "1f32dee9-d8d3-4984-bb78-9eb930dfc021"
      },
      "source": [
        "## N trees estimator\n",
        "rf_model2 = RandomForestClassifier(random_state=1, n_estimators=2)\n",
        "rf_model2.fit(X_train, y_train)\n",
        "\n",
        "preds2 = rf_model2.predict(X_train)\n",
        "test_preds2 = rf_model.predict(X_test)\n",
        "print(accuracy_score(y_train, preds2))\n",
        "print(accuracy_score(y_test,test_preds2))"
      ],
      "execution_count": null,
      "outputs": [
        {
          "output_type": "stream",
          "text": [
            "0.95\n",
            "0.9024390243902439\n"
          ],
          "name": "stdout"
        }
      ]
    },
    {
      "cell_type": "code",
      "metadata": {
        "colab": {
          "base_uri": "https://localhost:8080/"
        },
        "id": "NCFkb8gy75OJ",
        "outputId": "a5f91eea-a81e-444c-968c-34ded3fa442e"
      },
      "source": [
        "rf_model3 = RandomForestClassifier(random_state=1, n_estimators=50)\n",
        "rf_model3.fit(X_train, y_train)\n",
        "\n",
        "preds3 = rf_model3.predict(X_train)\n",
        "test_preds3 = rf_model.predict(X_test)\n",
        "print(accuracy_score(y_train, preds3))\n",
        "print(accuracy_score(y_test,test_preds3))"
      ],
      "execution_count": null,
      "outputs": [
        {
          "output_type": "stream",
          "text": [
            "1.0\n",
            "0.9024390243902439\n"
          ],
          "name": "stdout"
        }
      ]
    },
    {
      "cell_type": "code",
      "metadata": {
        "colab": {
          "base_uri": "https://localhost:8080/"
        },
        "id": "he95W_yI8Qre",
        "outputId": "34275c6a-4452-47b4-e21b-fa1c0966225b"
      },
      "source": [
        "## Tuning \n",
        "\n",
        "file_url = 'https://raw.githubusercontent.com/PacktWorkshops/The-Data-Science-Workshop/master/Chapter04/Dataset/openml_phpZNNasq.csv'\n",
        "df = pd.read_csv(file_url)\n",
        "df.drop(columns='animal', inplace=True)\n",
        "y = df.pop('type')\n",
        "\n",
        "X_train, X_test, y_train, y_test = train_test_split(df, y, test_size=0.4, random_state=188)\n",
        "rf_model = RandomForestClassifier(random_state=42, n_estimators=1)\n",
        "rf_model.fit(X_train, y_train)"
      ],
      "execution_count": null,
      "outputs": [
        {
          "output_type": "execute_result",
          "data": {
            "text/plain": [
              "RandomForestClassifier(bootstrap=True, ccp_alpha=0.0, class_weight=None,\n",
              "                       criterion='gini', max_depth=None, max_features='auto',\n",
              "                       max_leaf_nodes=None, max_samples=None,\n",
              "                       min_impurity_decrease=0.0, min_impurity_split=None,\n",
              "                       min_samples_leaf=1, min_samples_split=2,\n",
              "                       min_weight_fraction_leaf=0.0, n_estimators=1,\n",
              "                       n_jobs=None, oob_score=False, random_state=42, verbose=0,\n",
              "                       warm_start=False)"
            ]
          },
          "metadata": {
            "tags": []
          },
          "execution_count": 17
        }
      ]
    },
    {
      "cell_type": "code",
      "metadata": {
        "id": "6mYu1og88p3y"
      },
      "source": [
        "train_preds = rf_model.predict(X_train)\n",
        "test_preds = rf_model.predict(X_test)"
      ],
      "execution_count": null,
      "outputs": []
    },
    {
      "cell_type": "code",
      "metadata": {
        "id": "ZCKksQcL8rMr"
      },
      "source": [
        "train_acc = accuracy_score(y_train, train_preds)\n",
        "test_acc = accuracy_score(y_test, test_preds)"
      ],
      "execution_count": null,
      "outputs": []
    },
    {
      "cell_type": "code",
      "metadata": {
        "colab": {
          "base_uri": "https://localhost:8080/"
        },
        "id": "Gy9De-mN8sWm",
        "outputId": "e7e92b5b-1c21-40f7-d748-902239c99249"
      },
      "source": [
        "\n",
        "print(train_acc)\n",
        "print(test_acc)"
      ],
      "execution_count": null,
      "outputs": [
        {
          "output_type": "stream",
          "text": [
            "0.9166666666666666\n",
            "0.8048780487804879\n"
          ],
          "name": "stdout"
        }
      ]
    },
    {
      "cell_type": "code",
      "metadata": {
        "colab": {
          "base_uri": "https://localhost:8080/"
        },
        "id": "Ntq2na7d8tQz",
        "outputId": "52641c6e-ee4f-4124-918e-80d24cbd79d3"
      },
      "source": [
        "rf_model2 = RandomForestClassifier(random_state=42, n_estimators=30)\n",
        "rf_model2.fit(X_train, y_train)"
      ],
      "execution_count": null,
      "outputs": [
        {
          "output_type": "execute_result",
          "data": {
            "text/plain": [
              "RandomForestClassifier(bootstrap=True, ccp_alpha=0.0, class_weight=None,\n",
              "                       criterion='gini', max_depth=None, max_features='auto',\n",
              "                       max_leaf_nodes=None, max_samples=None,\n",
              "                       min_impurity_decrease=0.0, min_impurity_split=None,\n",
              "                       min_samples_leaf=1, min_samples_split=2,\n",
              "                       min_weight_fraction_leaf=0.0, n_estimators=30,\n",
              "                       n_jobs=None, oob_score=False, random_state=42, verbose=0,\n",
              "                       warm_start=False)"
            ]
          },
          "metadata": {
            "tags": []
          },
          "execution_count": 21
        }
      ]
    },
    {
      "cell_type": "code",
      "metadata": {
        "id": "QsgKVSXX8vK4"
      },
      "source": [
        "train_preds2 = rf_model2.predict(X_train)\n",
        "test_preds2 = rf_model2.predict(X_test)"
      ],
      "execution_count": null,
      "outputs": []
    },
    {
      "cell_type": "code",
      "metadata": {
        "id": "RtETdn3F8y6v"
      },
      "source": [
        "train_acc2 = accuracy_score(y_train, train_preds2)\n",
        "test_acc2 = accuracy_score(y_test, test_preds2)"
      ],
      "execution_count": null,
      "outputs": []
    },
    {
      "cell_type": "code",
      "metadata": {
        "colab": {
          "base_uri": "https://localhost:8080/"
        },
        "id": "-FdtL1EC82eQ",
        "outputId": "65a48a2f-3213-415c-993a-b8cdfc83c7fc"
      },
      "source": [
        "print(train_acc2)\n",
        "print(test_acc2)"
      ],
      "execution_count": null,
      "outputs": [
        {
          "output_type": "stream",
          "text": [
            "1.0\n",
            "0.9024390243902439\n"
          ],
          "name": "stdout"
        }
      ]
    },
    {
      "cell_type": "code",
      "metadata": {
        "colab": {
          "base_uri": "https://localhost:8080/"
        },
        "id": "HzRDPARU85S8",
        "outputId": "9531204e-f8b7-46d7-816c-897766f74876"
      },
      "source": [
        "## Maximum depth tuning\n",
        "file_url = 'https://raw.githubusercontent.com/PacktWorkshops/The-Data-Science-Workshop/master/Chapter04/Dataset/openml_phpZNNasq.csv'\n",
        "df = pd.read_csv(file_url)\n",
        "df.drop(columns='animal', inplace=True)\n",
        "y = df.pop('type')\n",
        "\n",
        "X_train, X_test, y_train, y_test = train_test_split(df, y, test_size=0.4, random_state=188)\n",
        "rf_model = RandomForestClassifier(random_state=42, n_estimators=30, max_depth=5)\n",
        "rf_model.fit(X_train, y_train)"
      ],
      "execution_count": null,
      "outputs": [
        {
          "output_type": "execute_result",
          "data": {
            "text/plain": [
              "RandomForestClassifier(bootstrap=True, ccp_alpha=0.0, class_weight=None,\n",
              "                       criterion='gini', max_depth=5, max_features='auto',\n",
              "                       max_leaf_nodes=None, max_samples=None,\n",
              "                       min_impurity_decrease=0.0, min_impurity_split=None,\n",
              "                       min_samples_leaf=1, min_samples_split=2,\n",
              "                       min_weight_fraction_leaf=0.0, n_estimators=30,\n",
              "                       n_jobs=None, oob_score=False, random_state=42, verbose=0,\n",
              "                       warm_start=False)"
            ]
          },
          "metadata": {
            "tags": []
          },
          "execution_count": 27
        }
      ]
    },
    {
      "cell_type": "code",
      "metadata": {
        "id": "ZMH7lvEN9iOX"
      },
      "source": [
        "train_preds = rf_model.predict(X_train)\n",
        "test_preds = rf_model.predict(X_test)"
      ],
      "execution_count": null,
      "outputs": []
    },
    {
      "cell_type": "code",
      "metadata": {
        "id": "tHjrv1Fz9kJo"
      },
      "source": [
        "train_acc = accuracy_score(y_train, train_preds)\n",
        "test_acc = accuracy_score(y_test, test_preds)"
      ],
      "execution_count": null,
      "outputs": []
    },
    {
      "cell_type": "code",
      "metadata": {
        "colab": {
          "base_uri": "https://localhost:8080/"
        },
        "id": "D8EgncJv9lMj",
        "outputId": "8de2b521-bf29-4497-f36e-9b54db642919"
      },
      "source": [
        "print(train_acc)\n",
        "print(test_acc)"
      ],
      "execution_count": null,
      "outputs": [
        {
          "output_type": "stream",
          "text": [
            "1.0\n",
            "0.9024390243902439\n"
          ],
          "name": "stdout"
        }
      ]
    },
    {
      "cell_type": "code",
      "metadata": {
        "colab": {
          "base_uri": "https://localhost:8080/"
        },
        "id": "CtjfqK9R9oef",
        "outputId": "3f0e478d-27c3-4c8b-cc89-4e0c3c806ba1"
      },
      "source": [
        "rf_model2 = RandomForestClassifier(random_state=42, n_estimators=30, max_depth=2)\n",
        "rf_model2.fit(X_train, y_train)"
      ],
      "execution_count": null,
      "outputs": [
        {
          "output_type": "execute_result",
          "data": {
            "text/plain": [
              "RandomForestClassifier(bootstrap=True, ccp_alpha=0.0, class_weight=None,\n",
              "                       criterion='gini', max_depth=2, max_features='auto',\n",
              "                       max_leaf_nodes=None, max_samples=None,\n",
              "                       min_impurity_decrease=0.0, min_impurity_split=None,\n",
              "                       min_samples_leaf=1, min_samples_split=2,\n",
              "                       min_weight_fraction_leaf=0.0, n_estimators=30,\n",
              "                       n_jobs=None, oob_score=False, random_state=42, verbose=0,\n",
              "                       warm_start=False)"
            ]
          },
          "metadata": {
            "tags": []
          },
          "execution_count": 33
        }
      ]
    },
    {
      "cell_type": "code",
      "metadata": {
        "id": "H3kvV1_V9pj-"
      },
      "source": [
        "train_preds2 = rf_model2.predict(X_train)\n",
        "test_preds2 = rf_model2.predict(X_test)"
      ],
      "execution_count": null,
      "outputs": []
    },
    {
      "cell_type": "code",
      "metadata": {
        "id": "XqSw0w3z9sU9"
      },
      "source": [
        "train_acc2 = accuracy_score(y_train, train_preds2)\n",
        "test_acc2 = accuracy_score(y_test, test_preds2)"
      ],
      "execution_count": null,
      "outputs": []
    },
    {
      "cell_type": "code",
      "metadata": {
        "colab": {
          "base_uri": "https://localhost:8080/"
        },
        "id": "3qd0OVGW9tnx",
        "outputId": "909989c7-61c3-4bbe-d966-5cbfd92cecdd"
      },
      "source": [
        "print(train_acc2)\n",
        "print(test_acc2)"
      ],
      "execution_count": null,
      "outputs": [
        {
          "output_type": "stream",
          "text": [
            "0.9\n",
            "0.8292682926829268\n"
          ],
          "name": "stdout"
        }
      ]
    },
    {
      "cell_type": "code",
      "metadata": {
        "colab": {
          "base_uri": "https://localhost:8080/"
        },
        "id": "xKMDLKYWG9-c",
        "outputId": "537e261c-4d3e-44d0-9e1c-90312cf3f0c2"
      },
      "source": [
        "## Maximum depth tuning\n",
        "file_url = 'https://raw.githubusercontent.com/PacktWorkshops/The-Data-Science-Workshop/master/Chapter04/Dataset/openml_phpZNNasq.csv'\n",
        "df = pd.read_csv(file_url)\n",
        "df.drop(columns='animal', inplace=True)\n",
        "y = df.pop('type')\n",
        "\n",
        "X_train, X_test, y_train, y_test = train_test_split(df, y, test_size=0.4, random_state=188)\n",
        "rf_model = RandomForestClassifier(random_state=1, n_estimators=30, max_depth=2, min_samples_leaf=3)\n",
        "rf_model.fit(X_train, y_train)\n",
        "preds = rf_model.predict(X_train)\n",
        "test_preds = rf_model.predict(X_test)\n",
        "print(accuracy_score(y_train, preds))\n",
        "print(accuracy_score(y_test, test_preds))"
      ],
      "execution_count": null,
      "outputs": [
        {
          "output_type": "stream",
          "text": [
            "0.8833333333333333\n",
            "0.8292682926829268\n"
          ],
          "name": "stdout"
        }
      ]
    },
    {
      "cell_type": "code",
      "metadata": {
        "colab": {
          "base_uri": "https://localhost:8080/"
        },
        "id": "oVhOm_MWGzuC",
        "outputId": "2a8e1270-9256-4311-8e56-9ff2f0e0602d"
      },
      "source": [
        "rf_model2 = RandomForestClassifier(random_state=1, n_estimators=30, max_depth=2, min_samples_leaf=7)\n",
        "rf_model2.fit(X_train, y_train)\n",
        "preds = rf_model2.predict(X_train)\n",
        "test_preds = rf_model2.predict(X_test)\n",
        "print(accuracy_score(y_train, preds))\n",
        "print(accuracy_score(y_test, test_preds))"
      ],
      "execution_count": null,
      "outputs": [
        {
          "output_type": "stream",
          "text": [
            "0.8\n",
            "0.8048780487804879\n"
          ],
          "name": "stdout"
        }
      ]
    },
    {
      "cell_type": "code",
      "metadata": {
        "colab": {
          "base_uri": "https://localhost:8080/"
        },
        "id": "pEkpm4p3Hkfk",
        "outputId": "3b6b2f66-b16c-4f10-a196-2c297e2baa8e"
      },
      "source": [
        "## Maximum feature\n",
        "file_url = 'https://raw.githubusercontent.com/PacktWorkshops/The-Data-Science-Workshop/master/Chapter04/Dataset/openml_phpZNNasq.csv'\n",
        "df = pd.read_csv(file_url)\n",
        "df.drop(columns='animal', inplace=True)\n",
        "y = df.pop('type')\n",
        "\n",
        "X_train, X_test, y_train, y_test = train_test_split(df, y, test_size=0.4, random_state=188)\n",
        "rf_model = RandomForestClassifier(random_state=1, n_estimators=30, max_depth=2, min_samples_leaf=7, max_features=10)\n",
        "rf_model.fit(X_train, y_train)\n",
        "preds = rf_model.predict(X_train)\n",
        "test_preds = rf_model.predict(X_test)\n",
        "print(accuracy_score(y_train, preds))\n",
        "print(accuracy_score(y_test, test_preds))"
      ],
      "execution_count": null,
      "outputs": [
        {
          "output_type": "stream",
          "text": [
            "0.8166666666666667\n",
            "0.7804878048780488\n"
          ],
          "name": "stdout"
        }
      ]
    },
    {
      "cell_type": "code",
      "metadata": {
        "colab": {
          "base_uri": "https://localhost:8080/"
        },
        "id": "PNGy2JhGIS3R",
        "outputId": "f9a03869-dcb4-4d3b-c8c1-82bfc400981b"
      },
      "source": [
        "rf_model2 = RandomForestClassifier(random_state=1, n_estimators=30, max_depth=2, min_samples_leaf=7, max_features=0.2)\n",
        "rf_model2.fit(X_train, y_train)\n",
        "preds = rf_model2.predict(X_train)\n",
        "test_preds = rf_model2.predict(X_test)\n",
        "print(accuracy_score(y_train, preds))\n",
        "print(accuracy_score(y_test, test_preds))"
      ],
      "execution_count": null,
      "outputs": [
        {
          "output_type": "stream",
          "text": [
            "0.8\n",
            "0.8048780487804879\n"
          ],
          "name": "stdout"
        }
      ]
    },
    {
      "cell_type": "code",
      "metadata": {
        "colab": {
          "base_uri": "https://localhost:8080/",
          "height": 253
        },
        "id": "9CS2zGotIcBT",
        "outputId": "375a65b9-22cb-44f8-c29a-a59f247968cc"
      },
      "source": [
        "## Train random forest on ISOLET Dataset\n",
        "## Training a random forest classifier\n",
        "import pandas as pd\n",
        "from sklearn.model_selection import train_test_split\n",
        "from sklearn.ensemble import RandomForestClassifier\n",
        "from sklearn.metrics import accuracy_score\n",
        "file_url = 'https://raw.githubusercontent.com/PacktWorkshops/The-Data-Science-Workshop/master/Chapter04/Dataset/phpB0xrNj.csv'\n",
        "df = pd.read_csv(file_url)\n",
        "df.head()"
      ],
      "execution_count": null,
      "outputs": [
        {
          "output_type": "execute_result",
          "data": {
            "text/html": [
              "<div>\n",
              "<style scoped>\n",
              "    .dataframe tbody tr th:only-of-type {\n",
              "        vertical-align: middle;\n",
              "    }\n",
              "\n",
              "    .dataframe tbody tr th {\n",
              "        vertical-align: top;\n",
              "    }\n",
              "\n",
              "    .dataframe thead th {\n",
              "        text-align: right;\n",
              "    }\n",
              "</style>\n",
              "<table border=\"1\" class=\"dataframe\">\n",
              "  <thead>\n",
              "    <tr style=\"text-align: right;\">\n",
              "      <th></th>\n",
              "      <th>f1</th>\n",
              "      <th>f2</th>\n",
              "      <th>f3</th>\n",
              "      <th>f4</th>\n",
              "      <th>f5</th>\n",
              "      <th>f6</th>\n",
              "      <th>f7</th>\n",
              "      <th>f8</th>\n",
              "      <th>f9</th>\n",
              "      <th>f10</th>\n",
              "      <th>f11</th>\n",
              "      <th>f12</th>\n",
              "      <th>f13</th>\n",
              "      <th>f14</th>\n",
              "      <th>f15</th>\n",
              "      <th>f16</th>\n",
              "      <th>f17</th>\n",
              "      <th>f18</th>\n",
              "      <th>f19</th>\n",
              "      <th>f20</th>\n",
              "      <th>f21</th>\n",
              "      <th>f22</th>\n",
              "      <th>f23</th>\n",
              "      <th>f24</th>\n",
              "      <th>f25</th>\n",
              "      <th>f26</th>\n",
              "      <th>f27</th>\n",
              "      <th>f28</th>\n",
              "      <th>f29</th>\n",
              "      <th>f30</th>\n",
              "      <th>f31</th>\n",
              "      <th>f32</th>\n",
              "      <th>f33</th>\n",
              "      <th>f34</th>\n",
              "      <th>f35</th>\n",
              "      <th>f36</th>\n",
              "      <th>f37</th>\n",
              "      <th>f38</th>\n",
              "      <th>f39</th>\n",
              "      <th>f40</th>\n",
              "      <th>...</th>\n",
              "      <th>f579</th>\n",
              "      <th>f580</th>\n",
              "      <th>f581</th>\n",
              "      <th>f582</th>\n",
              "      <th>f583</th>\n",
              "      <th>f584</th>\n",
              "      <th>f585</th>\n",
              "      <th>f586</th>\n",
              "      <th>f587</th>\n",
              "      <th>f588</th>\n",
              "      <th>f589</th>\n",
              "      <th>f590</th>\n",
              "      <th>f591</th>\n",
              "      <th>f592</th>\n",
              "      <th>f593</th>\n",
              "      <th>f594</th>\n",
              "      <th>f595</th>\n",
              "      <th>f596</th>\n",
              "      <th>f597</th>\n",
              "      <th>f598</th>\n",
              "      <th>f599</th>\n",
              "      <th>f600</th>\n",
              "      <th>f601</th>\n",
              "      <th>f602</th>\n",
              "      <th>f603</th>\n",
              "      <th>f604</th>\n",
              "      <th>f605</th>\n",
              "      <th>f606</th>\n",
              "      <th>f607</th>\n",
              "      <th>f608</th>\n",
              "      <th>f609</th>\n",
              "      <th>f610</th>\n",
              "      <th>f611</th>\n",
              "      <th>f612</th>\n",
              "      <th>f613</th>\n",
              "      <th>f614</th>\n",
              "      <th>f615</th>\n",
              "      <th>f616</th>\n",
              "      <th>f617</th>\n",
              "      <th>class</th>\n",
              "    </tr>\n",
              "  </thead>\n",
              "  <tbody>\n",
              "    <tr>\n",
              "      <th>0</th>\n",
              "      <td>-0.4394</td>\n",
              "      <td>-0.0930</td>\n",
              "      <td>0.1718</td>\n",
              "      <td>0.4620</td>\n",
              "      <td>0.6226</td>\n",
              "      <td>0.4704</td>\n",
              "      <td>0.3578</td>\n",
              "      <td>0.0478</td>\n",
              "      <td>-0.1184</td>\n",
              "      <td>-0.2310</td>\n",
              "      <td>-0.2958</td>\n",
              "      <td>-0.2704</td>\n",
              "      <td>-0.2620</td>\n",
              "      <td>-0.2170</td>\n",
              "      <td>-0.0874</td>\n",
              "      <td>-0.0564</td>\n",
              "      <td>0.0254</td>\n",
              "      <td>0.0958</td>\n",
              "      <td>0.4226</td>\n",
              "      <td>0.6648</td>\n",
              "      <td>0.9184</td>\n",
              "      <td>0.9718</td>\n",
              "      <td>0.9324</td>\n",
              "      <td>0.7070</td>\n",
              "      <td>0.6986</td>\n",
              "      <td>0.7550</td>\n",
              "      <td>0.8816</td>\n",
              "      <td>1.0000</td>\n",
              "      <td>0.9380</td>\n",
              "      <td>0.8450</td>\n",
              "      <td>0.7268</td>\n",
              "      <td>0.5578</td>\n",
              "      <td>-0.4330</td>\n",
              "      <td>-0.1982</td>\n",
              "      <td>0.1270</td>\n",
              "      <td>0.3666</td>\n",
              "      <td>0.4496</td>\n",
              "      <td>0.4258</td>\n",
              "      <td>0.2646</td>\n",
              "      <td>-0.0368</td>\n",
              "      <td>...</td>\n",
              "      <td>1</td>\n",
              "      <td>-1</td>\n",
              "      <td>-1.0</td>\n",
              "      <td>-1.0</td>\n",
              "      <td>-1.0</td>\n",
              "      <td>0.1334</td>\n",
              "      <td>-1</td>\n",
              "      <td>-0.0770</td>\n",
              "      <td>0.0512</td>\n",
              "      <td>0.2564</td>\n",
              "      <td>0.5642</td>\n",
              "      <td>0.4872</td>\n",
              "      <td>0.0770</td>\n",
              "      <td>0.4358</td>\n",
              "      <td>0.7436</td>\n",
              "      <td>0.5128</td>\n",
              "      <td>0.6666</td>\n",
              "      <td>0.6410</td>\n",
              "      <td>0.6154</td>\n",
              "      <td>1.0000</td>\n",
              "      <td>0.8206</td>\n",
              "      <td>0.6410</td>\n",
              "      <td>0.3590</td>\n",
              "      <td>0.6924</td>\n",
              "      <td>0.4358</td>\n",
              "      <td>0.1538</td>\n",
              "      <td>0.4616</td>\n",
              "      <td>0.6154</td>\n",
              "      <td>0.3334</td>\n",
              "      <td>0.3334</td>\n",
              "      <td>0.4102</td>\n",
              "      <td>0.2052</td>\n",
              "      <td>0.3846</td>\n",
              "      <td>0.3590</td>\n",
              "      <td>0.5898</td>\n",
              "      <td>0.3334</td>\n",
              "      <td>0.6410</td>\n",
              "      <td>0.5898</td>\n",
              "      <td>-0.4872</td>\n",
              "      <td>'1'</td>\n",
              "    </tr>\n",
              "    <tr>\n",
              "      <th>1</th>\n",
              "      <td>-0.4348</td>\n",
              "      <td>-0.1198</td>\n",
              "      <td>0.2474</td>\n",
              "      <td>0.4036</td>\n",
              "      <td>0.5026</td>\n",
              "      <td>0.6328</td>\n",
              "      <td>0.4948</td>\n",
              "      <td>0.0338</td>\n",
              "      <td>-0.0520</td>\n",
              "      <td>-0.1302</td>\n",
              "      <td>-0.0964</td>\n",
              "      <td>-0.2084</td>\n",
              "      <td>-0.0494</td>\n",
              "      <td>-0.0494</td>\n",
              "      <td>-0.2942</td>\n",
              "      <td>0.0704</td>\n",
              "      <td>0.0546</td>\n",
              "      <td>0.1302</td>\n",
              "      <td>0.5652</td>\n",
              "      <td>0.6848</td>\n",
              "      <td>0.7760</td>\n",
              "      <td>0.9558</td>\n",
              "      <td>0.8542</td>\n",
              "      <td>0.7474</td>\n",
              "      <td>0.6094</td>\n",
              "      <td>0.7708</td>\n",
              "      <td>0.8282</td>\n",
              "      <td>1.0000</td>\n",
              "      <td>0.9974</td>\n",
              "      <td>0.9480</td>\n",
              "      <td>0.7422</td>\n",
              "      <td>0.5678</td>\n",
              "      <td>-0.2196</td>\n",
              "      <td>0.1090</td>\n",
              "      <td>0.5892</td>\n",
              "      <td>0.8768</td>\n",
              "      <td>1.0000</td>\n",
              "      <td>0.9936</td>\n",
              "      <td>0.7852</td>\n",
              "      <td>0.3712</td>\n",
              "      <td>...</td>\n",
              "      <td>-1</td>\n",
              "      <td>-1</td>\n",
              "      <td>-1.0</td>\n",
              "      <td>-1.0</td>\n",
              "      <td>-1.0</td>\n",
              "      <td>-1.0000</td>\n",
              "      <td>-1</td>\n",
              "      <td>0.0228</td>\n",
              "      <td>-0.0910</td>\n",
              "      <td>0.2728</td>\n",
              "      <td>0.8636</td>\n",
              "      <td>0.7500</td>\n",
              "      <td>0.4318</td>\n",
              "      <td>0.7272</td>\n",
              "      <td>0.6590</td>\n",
              "      <td>0.4090</td>\n",
              "      <td>0.7728</td>\n",
              "      <td>1.0000</td>\n",
              "      <td>0.7272</td>\n",
              "      <td>0.4772</td>\n",
              "      <td>0.4772</td>\n",
              "      <td>0.4772</td>\n",
              "      <td>0.6590</td>\n",
              "      <td>0.1818</td>\n",
              "      <td>0.4318</td>\n",
              "      <td>0.3864</td>\n",
              "      <td>0.8410</td>\n",
              "      <td>0.8864</td>\n",
              "      <td>0.2500</td>\n",
              "      <td>0.2272</td>\n",
              "      <td>0.0000</td>\n",
              "      <td>0.2954</td>\n",
              "      <td>0.2046</td>\n",
              "      <td>0.4772</td>\n",
              "      <td>0.0454</td>\n",
              "      <td>0.2046</td>\n",
              "      <td>0.4318</td>\n",
              "      <td>0.4546</td>\n",
              "      <td>-0.0910</td>\n",
              "      <td>'1'</td>\n",
              "    </tr>\n",
              "    <tr>\n",
              "      <th>2</th>\n",
              "      <td>-0.2330</td>\n",
              "      <td>0.2124</td>\n",
              "      <td>0.5014</td>\n",
              "      <td>0.5222</td>\n",
              "      <td>-0.3422</td>\n",
              "      <td>-0.5840</td>\n",
              "      <td>-0.7168</td>\n",
              "      <td>-0.6342</td>\n",
              "      <td>-0.8614</td>\n",
              "      <td>-0.8318</td>\n",
              "      <td>-0.7228</td>\n",
              "      <td>-0.6312</td>\n",
              "      <td>-0.4986</td>\n",
              "      <td>-0.7080</td>\n",
              "      <td>-0.6666</td>\n",
              "      <td>-0.5428</td>\n",
              "      <td>-0.4130</td>\n",
              "      <td>-0.3776</td>\n",
              "      <td>-0.0472</td>\n",
              "      <td>0.1356</td>\n",
              "      <td>0.6136</td>\n",
              "      <td>0.8024</td>\n",
              "      <td>1.0000</td>\n",
              "      <td>0.9794</td>\n",
              "      <td>0.9352</td>\n",
              "      <td>0.8732</td>\n",
              "      <td>0.9440</td>\n",
              "      <td>0.9588</td>\n",
              "      <td>0.6962</td>\n",
              "      <td>0.4838</td>\n",
              "      <td>0.3982</td>\n",
              "      <td>0.2064</td>\n",
              "      <td>-0.3270</td>\n",
              "      <td>0.0134</td>\n",
              "      <td>0.3620</td>\n",
              "      <td>0.3218</td>\n",
              "      <td>-0.4558</td>\n",
              "      <td>-0.8096</td>\n",
              "      <td>-0.7748</td>\n",
              "      <td>-0.7238</td>\n",
              "      <td>...</td>\n",
              "      <td>-1</td>\n",
              "      <td>1</td>\n",
              "      <td>-0.8</td>\n",
              "      <td>-1.0</td>\n",
              "      <td>-0.6</td>\n",
              "      <td>-0.8334</td>\n",
              "      <td>-1</td>\n",
              "      <td>-0.4286</td>\n",
              "      <td>-0.2540</td>\n",
              "      <td>-0.3650</td>\n",
              "      <td>-0.0952</td>\n",
              "      <td>-0.0794</td>\n",
              "      <td>0.0318</td>\n",
              "      <td>-0.2064</td>\n",
              "      <td>0.0634</td>\n",
              "      <td>0.1112</td>\n",
              "      <td>0.1746</td>\n",
              "      <td>0.2380</td>\n",
              "      <td>0.1904</td>\n",
              "      <td>0.5080</td>\n",
              "      <td>0.5396</td>\n",
              "      <td>0.0318</td>\n",
              "      <td>-0.0158</td>\n",
              "      <td>0.7142</td>\n",
              "      <td>1.0000</td>\n",
              "      <td>0.4126</td>\n",
              "      <td>-0.0794</td>\n",
              "      <td>-0.0476</td>\n",
              "      <td>0.0000</td>\n",
              "      <td>0.0952</td>\n",
              "      <td>-0.1112</td>\n",
              "      <td>-0.0476</td>\n",
              "      <td>-0.1746</td>\n",
              "      <td>0.0318</td>\n",
              "      <td>-0.0476</td>\n",
              "      <td>0.1112</td>\n",
              "      <td>0.2540</td>\n",
              "      <td>0.1588</td>\n",
              "      <td>-0.4762</td>\n",
              "      <td>'2'</td>\n",
              "    </tr>\n",
              "    <tr>\n",
              "      <th>3</th>\n",
              "      <td>-0.3808</td>\n",
              "      <td>-0.0096</td>\n",
              "      <td>0.2602</td>\n",
              "      <td>0.2554</td>\n",
              "      <td>-0.4290</td>\n",
              "      <td>-0.6746</td>\n",
              "      <td>-0.6868</td>\n",
              "      <td>-0.6650</td>\n",
              "      <td>-0.8410</td>\n",
              "      <td>-0.9614</td>\n",
              "      <td>-0.7374</td>\n",
              "      <td>-0.7084</td>\n",
              "      <td>-0.6772</td>\n",
              "      <td>-0.6338</td>\n",
              "      <td>-0.6482</td>\n",
              "      <td>-0.6240</td>\n",
              "      <td>-0.3976</td>\n",
              "      <td>-0.5662</td>\n",
              "      <td>-0.2168</td>\n",
              "      <td>0.0458</td>\n",
              "      <td>0.3832</td>\n",
              "      <td>0.6168</td>\n",
              "      <td>0.8988</td>\n",
              "      <td>1.0000</td>\n",
              "      <td>0.9156</td>\n",
              "      <td>0.8796</td>\n",
              "      <td>0.9132</td>\n",
              "      <td>0.7132</td>\n",
              "      <td>0.7590</td>\n",
              "      <td>0.7278</td>\n",
              "      <td>0.5856</td>\n",
              "      <td>0.5060</td>\n",
              "      <td>-0.3710</td>\n",
              "      <td>-0.0868</td>\n",
              "      <td>0.4114</td>\n",
              "      <td>0.3438</td>\n",
              "      <td>-0.1816</td>\n",
              "      <td>-0.5964</td>\n",
              "      <td>-0.6888</td>\n",
              "      <td>-0.6686</td>\n",
              "      <td>...</td>\n",
              "      <td>-1</td>\n",
              "      <td>1</td>\n",
              "      <td>-1.0</td>\n",
              "      <td>-1.0</td>\n",
              "      <td>-1.0</td>\n",
              "      <td>-0.8334</td>\n",
              "      <td>-1</td>\n",
              "      <td>-0.2374</td>\n",
              "      <td>-0.5396</td>\n",
              "      <td>0.1798</td>\n",
              "      <td>0.2086</td>\n",
              "      <td>0.0792</td>\n",
              "      <td>0.0360</td>\n",
              "      <td>0.3238</td>\n",
              "      <td>0.3956</td>\n",
              "      <td>0.4100</td>\n",
              "      <td>0.2662</td>\n",
              "      <td>0.5252</td>\n",
              "      <td>0.3670</td>\n",
              "      <td>0.9136</td>\n",
              "      <td>1.0000</td>\n",
              "      <td>0.4100</td>\n",
              "      <td>0.1224</td>\n",
              "      <td>0.5252</td>\n",
              "      <td>0.4388</td>\n",
              "      <td>0.0216</td>\n",
              "      <td>-0.0792</td>\n",
              "      <td>0.3812</td>\n",
              "      <td>0.2806</td>\n",
              "      <td>0.0648</td>\n",
              "      <td>-0.0504</td>\n",
              "      <td>-0.0360</td>\n",
              "      <td>-0.1224</td>\n",
              "      <td>0.1366</td>\n",
              "      <td>0.2950</td>\n",
              "      <td>0.0792</td>\n",
              "      <td>-0.0072</td>\n",
              "      <td>0.0936</td>\n",
              "      <td>-0.1510</td>\n",
              "      <td>'2'</td>\n",
              "    </tr>\n",
              "    <tr>\n",
              "      <th>4</th>\n",
              "      <td>-0.3412</td>\n",
              "      <td>0.0946</td>\n",
              "      <td>0.6082</td>\n",
              "      <td>0.6216</td>\n",
              "      <td>-0.1622</td>\n",
              "      <td>-0.3784</td>\n",
              "      <td>-0.4324</td>\n",
              "      <td>-0.4358</td>\n",
              "      <td>-0.4966</td>\n",
              "      <td>-0.5406</td>\n",
              "      <td>-0.5472</td>\n",
              "      <td>-0.5440</td>\n",
              "      <td>-0.4494</td>\n",
              "      <td>-0.2332</td>\n",
              "      <td>-0.2332</td>\n",
              "      <td>-0.1148</td>\n",
              "      <td>0.0068</td>\n",
              "      <td>0.0778</td>\n",
              "      <td>0.4864</td>\n",
              "      <td>0.9054</td>\n",
              "      <td>0.9560</td>\n",
              "      <td>0.7602</td>\n",
              "      <td>0.7770</td>\n",
              "      <td>0.7636</td>\n",
              "      <td>0.8818</td>\n",
              "      <td>1.0000</td>\n",
              "      <td>0.9426</td>\n",
              "      <td>0.7162</td>\n",
              "      <td>0.5472</td>\n",
              "      <td>0.4122</td>\n",
              "      <td>0.2770</td>\n",
              "      <td>0.2364</td>\n",
              "      <td>-0.4684</td>\n",
              "      <td>-0.1394</td>\n",
              "      <td>0.4210</td>\n",
              "      <td>0.4316</td>\n",
              "      <td>-0.3106</td>\n",
              "      <td>-0.5448</td>\n",
              "      <td>-0.5132</td>\n",
              "      <td>-0.6368</td>\n",
              "      <td>...</td>\n",
              "      <td>1</td>\n",
              "      <td>-1</td>\n",
              "      <td>-1.0</td>\n",
              "      <td>-1.0</td>\n",
              "      <td>-1.0</td>\n",
              "      <td>1.0000</td>\n",
              "      <td>-1</td>\n",
              "      <td>0.2500</td>\n",
              "      <td>0.5000</td>\n",
              "      <td>0.0624</td>\n",
              "      <td>0.3438</td>\n",
              "      <td>0.2500</td>\n",
              "      <td>0.2500</td>\n",
              "      <td>0.6250</td>\n",
              "      <td>0.2500</td>\n",
              "      <td>0.5312</td>\n",
              "      <td>0.4376</td>\n",
              "      <td>0.4688</td>\n",
              "      <td>0.5626</td>\n",
              "      <td>0.5938</td>\n",
              "      <td>0.3438</td>\n",
              "      <td>0.5626</td>\n",
              "      <td>0.2500</td>\n",
              "      <td>1.0000</td>\n",
              "      <td>0.9376</td>\n",
              "      <td>0.3438</td>\n",
              "      <td>0.2812</td>\n",
              "      <td>-0.0312</td>\n",
              "      <td>0.4376</td>\n",
              "      <td>0.2812</td>\n",
              "      <td>0.1562</td>\n",
              "      <td>0.3124</td>\n",
              "      <td>0.2500</td>\n",
              "      <td>-0.0938</td>\n",
              "      <td>0.1562</td>\n",
              "      <td>0.3124</td>\n",
              "      <td>0.3124</td>\n",
              "      <td>0.2188</td>\n",
              "      <td>-0.2500</td>\n",
              "      <td>'3'</td>\n",
              "    </tr>\n",
              "  </tbody>\n",
              "</table>\n",
              "<p>5 rows × 618 columns</p>\n",
              "</div>"
            ],
            "text/plain": [
              "       f1      f2      f3      f4  ...    f615    f616    f617  class\n",
              "0 -0.4394 -0.0930  0.1718  0.4620  ...  0.6410  0.5898 -0.4872    '1'\n",
              "1 -0.4348 -0.1198  0.2474  0.4036  ...  0.4318  0.4546 -0.0910    '1'\n",
              "2 -0.2330  0.2124  0.5014  0.5222  ...  0.2540  0.1588 -0.4762    '2'\n",
              "3 -0.3808 -0.0096  0.2602  0.2554  ... -0.0072  0.0936 -0.1510    '2'\n",
              "4 -0.3412  0.0946  0.6082  0.6216  ...  0.3124  0.2188 -0.2500    '3'\n",
              "\n",
              "[5 rows x 618 columns]"
            ]
          },
          "metadata": {
            "tags": []
          },
          "execution_count": 53
        }
      ]
    },
    {
      "cell_type": "code",
      "metadata": {
        "colab": {
          "base_uri": "https://localhost:8080/"
        },
        "id": "O1p8w4KEIykl",
        "outputId": "ced581bd-4dff-436a-d146-23f9482b2a4c"
      },
      "source": [
        "y = df.pop('class')\n",
        "X_train, X_test, y_train, y_test = train_test_split(df, y, test_size=0.4, random_state=188)\n",
        "rf_model = RandomForestClassifier(random_state=1, n_estimators=20, max_depth=5, min_samples_leaf=10, max_features=0.5)\n",
        "rf_model.fit(X_train, y_train)\n",
        "preds = rf_model.predict(X_train)\n",
        "test_preds = rf_model.predict(X_test)\n",
        "print(accuracy_score(y_train, preds))\n",
        "print(accuracy_score(y_test, test_preds))"
      ],
      "execution_count": null,
      "outputs": [
        {
          "output_type": "stream",
          "text": [
            "0.7522445489525438\n",
            "0.7021481243988458\n"
          ],
          "name": "stdout"
        }
      ]
    },
    {
      "cell_type": "code",
      "metadata": {
        "colab": {
          "base_uri": "https://localhost:8080/"
        },
        "id": "LUWhgbVWJGTy",
        "outputId": "9b76d5bb-e01d-4e32-e2e5-331ac9939743"
      },
      "source": [
        "rf_model2 = RandomForestClassifier(random_state=1, n_estimators=50, max_depth=10, min_samples_leaf=50, max_features=0.3)\n",
        "rf_model2.fit(X_train, y_train)\n",
        "preds2 = rf_model2.predict(X_train)\n",
        "test_preds2 = rf_model2.predict(X_test)\n",
        "print(accuracy_score(y_train, preds2))\n",
        "print(accuracy_score(y_test, test_preds2))"
      ],
      "execution_count": null,
      "outputs": [
        {
          "output_type": "stream",
          "text": [
            "0.8965369816160752\n",
            "0.8544405258095543\n"
          ],
          "name": "stdout"
        }
      ]
    },
    {
      "cell_type": "code",
      "metadata": {
        "id": "kPbOqMWXKW9r"
      },
      "source": [
        ""
      ],
      "execution_count": null,
      "outputs": []
    }
  ]
}