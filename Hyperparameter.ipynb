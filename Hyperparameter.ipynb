{
  "nbformat": 4,
  "nbformat_minor": 0,
  "metadata": {
    "accelerator": "GPU",
    "colab": {
      "name": "Hyperparameter.ipynb",
      "provenance": [],
      "collapsed_sections": [],
      "authorship_tag": "ABX9TyMqSoSARjeaKC4cZ4UBocM+",
      "include_colab_link": true
    },
    "kernelspec": {
      "display_name": "Python 3",
      "name": "python3"
    },
    "language_info": {
      "name": "python"
    }
  },
  "cells": [
    {
      "cell_type": "markdown",
      "metadata": {
        "id": "view-in-github",
        "colab_type": "text"
      },
      "source": [
        "<a href=\"https://colab.research.google.com/github/chitinglow/Classification-Machine-learning/blob/master/Hyperparameter.ipynb\" target=\"_parent\"><img src=\"https://colab.research.google.com/assets/colab-badge.svg\" alt=\"Open In Colab\"/></a>"
      ]
    },
    {
      "cell_type": "code",
      "metadata": {
        "colab": {
          "base_uri": "https://localhost:8080/"
        },
        "id": "etXo3trt8eFy",
        "outputId": "6bff80ab-4959-4d1e-92e9-0d0dd496801d"
      },
      "source": [
        "from sklearn import neighbors\n",
        "## Initialize with default parameters\n",
        "knn = neighbors.KNeighborsClassifier()\n",
        "print(knn.get_params())"
      ],
      "execution_count": null,
      "outputs": [
        {
          "output_type": "stream",
          "text": [
            "{'algorithm': 'auto', 'leaf_size': 30, 'metric': 'minkowski', 'metric_params': None, 'n_jobs': None, 'n_neighbors': 5, 'p': 2, 'weights': 'uniform'}\n"
          ],
          "name": "stdout"
        }
      ]
    },
    {
      "cell_type": "code",
      "metadata": {
        "colab": {
          "base_uri": "https://localhost:8080/"
        },
        "id": "oLL_MWy6Ul0V",
        "outputId": "557705e8-b7b7-4c00-c0ba-eb8a01f22533"
      },
      "source": [
        "# Initialize wiht K = 15 and all other hyperparameters as result\n",
        "knn = neighbors.KNeighborsClassifier(n_neighbors=15)\n",
        "#examine\n",
        "print(knn.get_params())"
      ],
      "execution_count": null,
      "outputs": [
        {
          "output_type": "stream",
          "text": [
            "{'algorithm': 'auto', 'leaf_size': 30, 'metric': 'minkowski', 'metric_params': None, 'n_jobs': None, 'n_neighbors': 15, 'p': 2, 'weights': 'uniform'}\n"
          ],
          "name": "stdout"
        }
      ]
    },
    {
      "cell_type": "code",
      "metadata": {
        "colab": {
          "base_uri": "https://localhost:8080/"
        },
        "id": "ib40CtiQU22A",
        "outputId": "83781e12-4739-4d7b-cb83-3c1042435451"
      },
      "source": [
        "# Initialize wiht K = 15 and all other hyperparameters as result\n",
        "knn = neighbors.KNeighborsClassifier(n_neighbors=15, weights=\"distance\")\n",
        "#examine\n",
        "print(knn.get_params())"
      ],
      "execution_count": null,
      "outputs": [
        {
          "output_type": "stream",
          "text": [
            "{'algorithm': 'auto', 'leaf_size': 30, 'metric': 'minkowski', 'metric_params': None, 'n_jobs': None, 'n_neighbors': 15, 'p': 2, 'weights': 'distance'}\n"
          ],
          "name": "stdout"
        }
      ]
    },
    {
      "cell_type": "code",
      "metadata": {
        "id": "1yu1LHm2U9UB"
      },
      "source": [
        "## KNN\n",
        "from sklearn import neighbors, datasets, model_selection\n",
        "\n",
        "cancer = datasets.load_breast_cancer()\n",
        "y = cancer.target\n",
        "X = cancer.data\n",
        "\n",
        "knn = neighbors.KNeighborsClassifier()"
      ],
      "execution_count": null,
      "outputs": []
    },
    {
      "cell_type": "code",
      "metadata": {
        "colab": {
          "base_uri": "https://localhost:8080/"
        },
        "id": "yXsusDoXVZPs",
        "outputId": "2f7bbc41-25e3-4c8a-87bd-86c43221fab8"
      },
      "source": [
        "## 10 fold cross validation\n",
        "cv = model_selection.cross_val_score(knn, X, y, cv=10, scoring='precision')\n",
        "print(cv)"
      ],
      "execution_count": null,
      "outputs": [
        {
          "output_type": "stream",
          "text": [
            "[0.91666667 0.85       0.91666667 0.94736842 0.94594595 0.94444444\n",
            " 0.97222222 0.92105263 0.96969697 0.97142857]\n"
          ],
          "name": "stdout"
        }
      ]
    },
    {
      "cell_type": "code",
      "metadata": {
        "colab": {
          "base_uri": "https://localhost:8080/"
        },
        "id": "9G1xbXDHVh6x",
        "outputId": "58dcf829-e597-497e-ed61-006f2a99b6d3"
      },
      "source": [
        "print(round(cv.mean(),2))"
      ],
      "execution_count": null,
      "outputs": [
        {
          "output_type": "stream",
          "text": [
            "0.94\n"
          ],
          "name": "stdout"
        }
      ]
    },
    {
      "cell_type": "code",
      "metadata": {
        "colab": {
          "base_uri": "https://localhost:8080/"
        },
        "id": "J4bOJcvaVmuQ",
        "outputId": "3d829715-42ae-4457-c91a-f26cd6fcf035"
      },
      "source": [
        "## 10 fold cross validation\n",
        "knn = neighbors.KNeighborsClassifier(n_neighbors=15)\n",
        "cv = model_selection.cross_val_score(knn, X, y, cv=10, scoring='precision')\n",
        "print(cv)\n",
        "print(round(cv.mean(),2))"
      ],
      "execution_count": null,
      "outputs": [
        {
          "output_type": "stream",
          "text": [
            "[0.85       0.82926829 0.91891892 0.94736842 0.94736842 0.94444444\n",
            " 0.97222222 0.94594595 0.96969697 0.94594595]\n",
            "0.93\n"
          ],
          "name": "stdout"
        }
      ]
    },
    {
      "cell_type": "code",
      "metadata": {
        "colab": {
          "base_uri": "https://localhost:8080/"
        },
        "id": "DDaLSFVEVwDG",
        "outputId": "81fe6640-df44-4be1-f113-de471cb7f3fb"
      },
      "source": [
        "def evaluate_knn(k):\n",
        "  knn = neighbors.KNeighborsClassifier(n_neighbors=k)\n",
        "\n",
        "  cv = model_selection.cross_val_score(knn, X, y, cv=10, scoring='precision')\n",
        "  print(round(cv.mean(),2))\n",
        "\n",
        "evaluate_knn(k=7)\n",
        "evaluate_knn(k=3)\n",
        "evaluate_knn(k=1)"
      ],
      "execution_count": null,
      "outputs": [
        {
          "output_type": "stream",
          "text": [
            "0.93\n",
            "0.93\n",
            "0.92\n"
          ],
          "name": "stdout"
        }
      ]
    },
    {
      "cell_type": "code",
      "metadata": {
        "colab": {
          "base_uri": "https://localhost:8080/"
        },
        "id": "nXXQewUUWCxP",
        "outputId": "478738c3-a5c2-44bc-ff1b-2ba73291da31"
      },
      "source": [
        "## 10 fold cross validation\n",
        "knn = neighbors.KNeighborsClassifier(n_neighbors=5, weights='distance')\n",
        "cv = model_selection.cross_val_score(knn, X, y, cv=10, scoring='precision')\n",
        "print(cv)\n",
        "print(round(cv.mean(),2))"
      ],
      "execution_count": null,
      "outputs": [
        {
          "output_type": "stream",
          "text": [
            "[0.91666667 0.85       0.91891892 0.94736842 0.94594595 0.94444444\n",
            " 0.94594595 0.92105263 0.94285714 0.97142857]\n",
            "0.93\n"
          ],
          "name": "stdout"
        }
      ]
    },
    {
      "cell_type": "code",
      "metadata": {
        "id": "fiGAuWLrWHl-"
      },
      "source": [
        "## Grid search\n",
        "\n",
        "from sklearn import neighbors, datasets, model_selection\n",
        "\n",
        "cancer = datasets.load_breast_cancer()\n",
        "y = cancer.target\n",
        "X = cancer.data\n",
        "\n",
        "## Hyperparameter grid\n",
        "grid = {'k': [1,3,5,7]}"
      ],
      "execution_count": null,
      "outputs": []
    },
    {
      "cell_type": "code",
      "metadata": {
        "colab": {
          "base_uri": "https://localhost:8080/"
        },
        "id": "Ghs_N8KDWtLw",
        "outputId": "75fe267b-a969-4b03-95cc-6092f0799db2"
      },
      "source": [
        "for k in grid['k']:\n",
        "  knn = neighbors.KNeighborsClassifier(n_neighbors=k)\n",
        "\n",
        "  cv = model_selection.cross_val_score(knn, X, y, cv=10, scoring='precision')\n",
        "\n",
        "  cv_mean = round(cv.mean(), 2)\n",
        "\n",
        "  print('Wik k = {}, mean percision = {}'.format(k, cv_mean))\n",
        "  print(knn.get_params())"
      ],
      "execution_count": null,
      "outputs": [
        {
          "output_type": "stream",
          "text": [
            "Wik k = 1, mean percision = 0.92\n",
            "{'algorithm': 'auto', 'leaf_size': 30, 'metric': 'minkowski', 'metric_params': None, 'n_jobs': None, 'n_neighbors': 1, 'p': 2, 'weights': 'uniform'}\n",
            "Wik k = 3, mean percision = 0.93\n",
            "{'algorithm': 'auto', 'leaf_size': 30, 'metric': 'minkowski', 'metric_params': None, 'n_jobs': None, 'n_neighbors': 3, 'p': 2, 'weights': 'uniform'}\n",
            "Wik k = 5, mean percision = 0.94\n",
            "{'algorithm': 'auto', 'leaf_size': 30, 'metric': 'minkowski', 'metric_params': None, 'n_jobs': None, 'n_neighbors': 5, 'p': 2, 'weights': 'uniform'}\n",
            "Wik k = 7, mean percision = 0.93\n",
            "{'algorithm': 'auto', 'leaf_size': 30, 'metric': 'minkowski', 'metric_params': None, 'n_jobs': None, 'n_neighbors': 7, 'p': 2, 'weights': 'uniform'}\n"
          ],
          "name": "stdout"
        }
      ]
    },
    {
      "cell_type": "code",
      "metadata": {
        "colab": {
          "base_uri": "https://localhost:8080/"
        },
        "id": "W4UT_j8hXrvx",
        "outputId": "cde1309e-3916-45b7-f4f7-1a47a4d3734a"
      },
      "source": [
        "## Hyperparameter grid\n",
        "grid = {'k': [1,3,5,7],\n",
        "        'weight_function': ['uniform', 'distance']}\n",
        "\n",
        "\n",
        "for k in grid['k']:\n",
        "  for weight_function in grid['weight_function']:\n",
        "    knn = neighbors.KNeighborsClassifier(n_neighbors=k, weights=weight_function)\n",
        "    cv = model_selection.cross_val_score(knn, X, y, cv=10, scoring='precision')\n",
        "    cv_mean = round(cv.mean(), 2)\n",
        "\n",
        "    print('Wik k = {} and weight function {}, mean percision = {}'.format(k, weight_function, cv_mean))\n",
        "    print(knn.get_params())"
      ],
      "execution_count": null,
      "outputs": [
        {
          "output_type": "stream",
          "text": [
            "Wik k = 1 and weight function uniform, mean percision = 0.92\n",
            "{'algorithm': 'auto', 'leaf_size': 30, 'metric': 'minkowski', 'metric_params': None, 'n_jobs': None, 'n_neighbors': 1, 'p': 2, 'weights': 'uniform'}\n",
            "Wik k = 1 and weight function distance, mean percision = 0.92\n",
            "{'algorithm': 'auto', 'leaf_size': 30, 'metric': 'minkowski', 'metric_params': None, 'n_jobs': None, 'n_neighbors': 1, 'p': 2, 'weights': 'distance'}\n",
            "Wik k = 3 and weight function uniform, mean percision = 0.93\n",
            "{'algorithm': 'auto', 'leaf_size': 30, 'metric': 'minkowski', 'metric_params': None, 'n_jobs': None, 'n_neighbors': 3, 'p': 2, 'weights': 'uniform'}\n",
            "Wik k = 3 and weight function distance, mean percision = 0.93\n",
            "{'algorithm': 'auto', 'leaf_size': 30, 'metric': 'minkowski', 'metric_params': None, 'n_jobs': None, 'n_neighbors': 3, 'p': 2, 'weights': 'distance'}\n",
            "Wik k = 5 and weight function uniform, mean percision = 0.94\n",
            "{'algorithm': 'auto', 'leaf_size': 30, 'metric': 'minkowski', 'metric_params': None, 'n_jobs': None, 'n_neighbors': 5, 'p': 2, 'weights': 'uniform'}\n",
            "Wik k = 5 and weight function distance, mean percision = 0.93\n",
            "{'algorithm': 'auto', 'leaf_size': 30, 'metric': 'minkowski', 'metric_params': None, 'n_jobs': None, 'n_neighbors': 5, 'p': 2, 'weights': 'distance'}\n",
            "Wik k = 7 and weight function uniform, mean percision = 0.93\n",
            "{'algorithm': 'auto', 'leaf_size': 30, 'metric': 'minkowski', 'metric_params': None, 'n_jobs': None, 'n_neighbors': 7, 'p': 2, 'weights': 'uniform'}\n",
            "Wik k = 7 and weight function distance, mean percision = 0.93\n",
            "{'algorithm': 'auto', 'leaf_size': 30, 'metric': 'minkowski', 'metric_params': None, 'n_jobs': None, 'n_neighbors': 7, 'p': 2, 'weights': 'distance'}\n"
          ],
          "name": "stdout"
        }
      ]
    },
    {
      "cell_type": "code",
      "metadata": {
        "colab": {
          "base_uri": "https://localhost:8080/"
        },
        "id": "rHfrI_80YZvg",
        "outputId": "4d93f78e-4f2e-412d-ff26-137a1748d1fb"
      },
      "source": [
        "## GridsearchCV\n",
        "\n",
        "from sklearn import neighbors, datasets, model_selection\n",
        "\n",
        "cancer = datasets.load_breast_cancer()\n",
        "y = cancer.target\n",
        "X = cancer.data\n",
        "\n",
        "knn = neighbors.KNeighborsClassifier()\n",
        "\n",
        "grid = {'n_neighbors': [1,3,5,7],\n",
        "        'weights': ['uniform', 'distance']}\n",
        "\n",
        "## Gric search parameter\n",
        "gscv = model_selection.GridSearchCV(estimator=knn, param_grid=grid, scoring='precision', cv=10)\n",
        "gscv.fit(X,y)"
      ],
      "execution_count": null,
      "outputs": [
        {
          "output_type": "execute_result",
          "data": {
            "text/plain": [
              "GridSearchCV(cv=10, error_score=nan,\n",
              "             estimator=KNeighborsClassifier(algorithm='auto', leaf_size=30,\n",
              "                                            metric='minkowski',\n",
              "                                            metric_params=None, n_jobs=None,\n",
              "                                            n_neighbors=5, p=2,\n",
              "                                            weights='uniform'),\n",
              "             iid='deprecated', n_jobs=None,\n",
              "             param_grid={'n_neighbors': [1, 3, 5, 7],\n",
              "                         'weights': ['uniform', 'distance']},\n",
              "             pre_dispatch='2*n_jobs', refit=True, return_train_score=False,\n",
              "             scoring='precision', verbose=0)"
            ]
          },
          "metadata": {
            "tags": []
          },
          "execution_count": 14
        }
      ]
    },
    {
      "cell_type": "code",
      "metadata": {
        "colab": {
          "base_uri": "https://localhost:8080/"
        },
        "id": "zMySRh_RZILv",
        "outputId": "8532f9cd-73bf-4cf8-a77f-711670cc4fb3"
      },
      "source": [
        "print(gscv.cv_results_)"
      ],
      "execution_count": null,
      "outputs": [
        {
          "output_type": "stream",
          "text": [
            "{'mean_fit_time': array([0.00114713, 0.00115337, 0.00114379, 0.0012929 , 0.00112789,\n",
            "       0.00114172, 0.00115366, 0.00113721]), 'std_fit_time': array([3.77857270e-05, 6.03343358e-05, 6.44717695e-05, 2.58848973e-04,\n",
            "       1.63155845e-05, 3.44928407e-05, 4.31284382e-05, 1.58370966e-05]), 'mean_score_time': array([0.00269403, 0.00141304, 0.00271444, 0.00163155, 0.00281975,\n",
            "       0.0014735 , 0.00273304, 0.00163701]), 'std_score_time': array([2.27695590e-04, 1.00611513e-04, 1.34117849e-04, 3.25580064e-04,\n",
            "       2.82501820e-04, 7.92367962e-05, 8.01922441e-05, 4.34885232e-04]), 'param_n_neighbors': masked_array(data=[1, 1, 3, 3, 5, 5, 7, 7],\n",
            "             mask=[False, False, False, False, False, False, False, False],\n",
            "       fill_value='?',\n",
            "            dtype=object), 'param_weights': masked_array(data=['uniform', 'distance', 'uniform', 'distance',\n",
            "                   'uniform', 'distance', 'uniform', 'distance'],\n",
            "             mask=[False, False, False, False, False, False, False, False],\n",
            "       fill_value='?',\n",
            "            dtype=object), 'params': [{'n_neighbors': 1, 'weights': 'uniform'}, {'n_neighbors': 1, 'weights': 'distance'}, {'n_neighbors': 3, 'weights': 'uniform'}, {'n_neighbors': 3, 'weights': 'distance'}, {'n_neighbors': 5, 'weights': 'uniform'}, {'n_neighbors': 5, 'weights': 'distance'}, {'n_neighbors': 7, 'weights': 'uniform'}, {'n_neighbors': 7, 'weights': 'distance'}], 'split0_test_score': array([0.91891892, 0.91891892, 0.89473684, 0.89473684, 0.91666667,\n",
            "       0.91666667, 0.91891892, 0.91891892]), 'split1_test_score': array([0.86111111, 0.86111111, 0.82926829, 0.82926829, 0.85      ,\n",
            "       0.85      , 0.82926829, 0.82926829]), 'split2_test_score': array([0.92105263, 0.92105263, 0.91666667, 0.91891892, 0.91666667,\n",
            "       0.91891892, 0.91891892, 0.91891892]), 'split3_test_score': array([0.92105263, 0.92105263, 0.94594595, 0.94594595, 0.94736842,\n",
            "       0.94736842, 0.94736842, 0.94736842]), 'split4_test_score': array([0.8974359 , 0.8974359 , 0.94594595, 0.94594595, 0.94594595,\n",
            "       0.94594595, 0.92105263, 0.92105263]), 'split5_test_score': array([0.91666667, 0.91666667, 0.94594595, 0.94594595, 0.94444444,\n",
            "       0.94444444, 0.94444444, 0.94444444]), 'split6_test_score': array([0.92105263, 0.92105263, 0.94736842, 0.94736842, 0.97222222,\n",
            "       0.94594595, 0.97222222, 0.94594595]), 'split7_test_score': array([0.94594595, 0.94594595, 0.94594595, 0.94594595, 0.92105263,\n",
            "       0.92105263, 0.94444444, 0.94444444]), 'split8_test_score': array([0.94117647, 0.94117647, 0.96969697, 0.97058824, 0.96969697,\n",
            "       0.94285714, 0.96969697, 0.94285714]), 'split9_test_score': array([0.94444444, 0.94444444, 0.94285714, 0.94285714, 0.97142857,\n",
            "       0.97142857, 0.94444444, 0.94444444]), 'mean_test_score': array([0.91888573, 0.91888573, 0.92843781, 0.92875216, 0.93554925,\n",
            "       0.93046287, 0.93107797, 0.92576636]), 'std_test_score': array([0.0238734 , 0.0238734 , 0.03821472, 0.03824794, 0.03516694,\n",
            "       0.03111103, 0.03840188, 0.03411809]), 'rank_test_score': array([7, 7, 5, 4, 1, 3, 2, 6], dtype=int32)}\n"
          ],
          "name": "stdout"
        }
      ]
    },
    {
      "cell_type": "code",
      "metadata": {
        "colab": {
          "base_uri": "https://localhost:8080/"
        },
        "id": "vPB-GK0RZwV_",
        "outputId": "51c293ab-e407-4b76-c6ff-21fc1eddb345"
      },
      "source": [
        "\n",
        "import pandas as pd\n",
        "\n",
        "# convert the results dictionary to a dataframe\n",
        "results = pd.DataFrame(gscv.cv_results_)\n",
        "\n",
        "# select just the hyperparameterizations tried, the mean test scores, order by score and show the top 5 models\n",
        "print(\n",
        "results.loc[:,['params','mean_test_score']].sort_values('mean_test_score', ascending=False).head(5)\n",
        ")"
      ],
      "execution_count": null,
      "outputs": [
        {
          "output_type": "stream",
          "text": [
            "                                      params  mean_test_score\n",
            "4   {'n_neighbors': 5, 'weights': 'uniform'}         0.935549\n",
            "6   {'n_neighbors': 7, 'weights': 'uniform'}         0.931078\n",
            "5  {'n_neighbors': 5, 'weights': 'distance'}         0.930463\n",
            "3  {'n_neighbors': 3, 'weights': 'distance'}         0.928752\n",
            "2   {'n_neighbors': 3, 'weights': 'uniform'}         0.928438\n"
          ],
          "name": "stdout"
        }
      ]
    },
    {
      "cell_type": "code",
      "metadata": {
        "colab": {
          "base_uri": "https://localhost:8080/",
          "height": 282
        },
        "id": "MOYFIslOaEw_",
        "outputId": "ed0e0d84-86f8-4a05-8f06-bffd7520ac37"
      },
      "source": [
        "# visualize the result\n",
        "results.loc[:,['params','mean_test_score']].plot.barh(x = 'params')"
      ],
      "execution_count": null,
      "outputs": [
        {
          "output_type": "execute_result",
          "data": {
            "text/plain": [
              "<matplotlib.axes._subplots.AxesSubplot at 0x7fbf49ecf790>"
            ]
          },
          "metadata": {
            "tags": []
          },
          "execution_count": 17
        },
        {
          "output_type": "display_data",
          "data": {
            "image/png": "[encoded data removed]",
            "text/plain": [
              "<Figure size 432x288 with 1 Axes>"
            ]
          },
          "metadata": {
            "tags": [],
            "needs_background": "light"
          }
        }
      ]
    },
    {
      "cell_type": "code",
      "metadata": {
        "colab": {
          "base_uri": "https://localhost:8080/"
        },
        "id": "t-sRX36yaE9X",
        "outputId": "9b40a221-17d1-47dc-908c-822d0c1ad2da"
      },
      "source": [
        "## Support vector machince\n",
        "from sklearn import datasets, svm, model_selection\n",
        "digits = datasets.load_digits()\n",
        "y = digits.target\n",
        "X = digits.data\n",
        "\n",
        "clr = svm.SVC(gamma='scale')\n",
        "grid = [{'kernel':['linear']},\n",
        "        {'kernel': ['poly'], 'degree':[2,3,4]}]\n",
        "\n",
        "cv_spec = model_selection.GridSearchCV(estimator=clr, param_grid=grid, scoring='accuracy', cv=10)\n",
        "\n",
        "cv_spec.fit(X,y)\n",
        "\n",
        "print(cv_spec.cv_results_.keys())"
      ],
      "execution_count": null,
      "outputs": [
        {
          "output_type": "stream",
          "text": [
            "dict_keys(['mean_fit_time', 'std_fit_time', 'mean_score_time', 'std_score_time', 'param_kernel', 'param_degree', 'params', 'split0_test_score', 'split1_test_score', 'split2_test_score', 'split3_test_score', 'split4_test_score', 'split5_test_score', 'split6_test_score', 'split7_test_score', 'split8_test_score', 'split9_test_score', 'mean_test_score', 'std_test_score', 'rank_test_score'])\n"
          ],
          "name": "stdout"
        }
      ]
    },
    {
      "cell_type": "code",
      "metadata": {
        "colab": {
          "base_uri": "https://localhost:8080/"
        },
        "id": "3mec-2s1a8lk",
        "outputId": "78491217-b30a-4971-8077-6004f6131cda"
      },
      "source": [
        "cv_spec.cv_results_['mean_test_score']"
      ],
      "execution_count": null,
      "outputs": [
        {
          "output_type": "execute_result",
          "data": {
            "text/plain": [
              "array([0.96048727, 0.97049969, 0.97773433, 0.97328367])"
            ]
          },
          "metadata": {
            "tags": []
          },
          "execution_count": 19
        }
      ]
    },
    {
      "cell_type": "code",
      "metadata": {
        "colab": {
          "base_uri": "https://localhost:8080/"
        },
        "id": "eLEfaJlRbNKe",
        "outputId": "8a7dab85-3b3a-4959-8576-7e0c7f389540"
      },
      "source": [
        "cv_spec.cv_results_['params']"
      ],
      "execution_count": null,
      "outputs": [
        {
          "output_type": "execute_result",
          "data": {
            "text/plain": [
              "[{'kernel': 'linear'},\n",
              " {'degree': 2, 'kernel': 'poly'},\n",
              " {'degree': 3, 'kernel': 'poly'},\n",
              " {'degree': 4, 'kernel': 'poly'}]"
            ]
          },
          "metadata": {
            "tags": []
          },
          "execution_count": 20
        }
      ]
    },
    {
      "cell_type": "code",
      "metadata": {
        "colab": {
          "base_uri": "https://localhost:8080/"
        },
        "id": "rFis-xE8bQFk",
        "outputId": "03c06174-6052-47e7-da62-cb93ae8cdc62"
      },
      "source": [
        "results = pd.DataFrame(cv_spec.cv_results_)\n",
        "print(results.loc[:, ['params', 'mean_test_score']].sort_values('mean_test_score', ascending=False))"
      ],
      "execution_count": null,
      "outputs": [
        {
          "output_type": "stream",
          "text": [
            "                            params  mean_test_score\n",
            "2  {'degree': 3, 'kernel': 'poly'}         0.977734\n",
            "3  {'degree': 4, 'kernel': 'poly'}         0.973284\n",
            "1  {'degree': 2, 'kernel': 'poly'}         0.970500\n",
            "0             {'kernel': 'linear'}         0.960487\n"
          ],
          "name": "stdout"
        }
      ]
    },
    {
      "cell_type": "code",
      "metadata": {
        "colab": {
          "base_uri": "https://localhost:8080/",
          "height": 282
        },
        "id": "Rm6smDAmbdpH",
        "outputId": "720fbfe7-2711-4896-c6b9-4b6f0f4bf657"
      },
      "source": [
        "(results.loc[:, ['params', 'mean_test_score']].sort_values('mean_test_score', ascending=False).plot.barh(x='params', xlim=(0.8)))"
      ],
      "execution_count": null,
      "outputs": [
        {
          "output_type": "execute_result",
          "data": {
            "text/plain": [
              "<matplotlib.axes._subplots.AxesSubplot at 0x7fbf49dbf710>"
            ]
          },
          "metadata": {
            "tags": []
          },
          "execution_count": 22
        },
        {
          "output_type": "display_data",
          "data": {
            "image/png": "[encoded data removed]",
            "text/plain": [
              "<Figure size 432x288 with 1 Axes>"
            ]
          },
          "metadata": {
            "tags": [],
            "needs_background": "light"
          }
        }
      ]
    },
    {
      "cell_type": "code",
      "metadata": {
        "id": "UKSSXEHrbp7U"
      },
      "source": [
        "## RandomSearchCV\n",
        "\n",
        "from sklearn import datasets\n",
        "\n",
        "# import data\n",
        "digits = datasets.load_digits()\n",
        "\n",
        "# target\n",
        "y = digits.target\n",
        "\n",
        "# features\n",
        "X = digits.data\n",
        "\n",
        "from sklearn import ensemble\n",
        "\n",
        "# an ensemble of 100 estimators\n",
        "rfc = ensemble.RandomForestClassifier(n_estimators=100, random_state=100)"
      ],
      "execution_count": null,
      "outputs": []
    },
    {
      "cell_type": "code",
      "metadata": {
        "colab": {
          "base_uri": "https://localhost:8080/"
        },
        "id": "lBvamHvkcFOO",
        "outputId": "5c2ab1d8-eaba-4147-f23c-04693b439b19"
      },
      "source": [
        "\n",
        "# how many features do we have in our dataset?\n",
        "n_features = X.shape[1]\n",
        "\n",
        "print(n_features)"
      ],
      "execution_count": null,
      "outputs": [
        {
          "output_type": "stream",
          "text": [
            "64\n"
          ],
          "name": "stdout"
        }
      ]
    },
    {
      "cell_type": "code",
      "metadata": {
        "id": "vmDwHWKEcHEH"
      },
      "source": [
        "from scipy import stats\n",
        "import numpy as np\n",
        "np.random.seed(100)\n",
        "\n",
        "# we would like to smaple from criterion and max_features as discrete uniform distributions\n",
        "param_dist = {\n",
        "    'criterion': ['gini', 'entropy'],\n",
        "    'max_features': stats.randint(low=1, high=n_features)\n",
        "}"
      ],
      "execution_count": null,
      "outputs": []
    },
    {
      "cell_type": "code",
      "metadata": {
        "id": "CL-xlsrTcI26"
      },
      "source": [
        "from sklearn import model_selection\n",
        "\n",
        "# setting up the random search sampling 50 times and conducting 5-fold cross-validation\n",
        "rscv = model_selection.RandomizedSearchCV(estimator=rfc, param_distributions=param_dist, n_iter=50, cv=5, scoring='accuracy', random_state=100)"
      ],
      "execution_count": null,
      "outputs": []
    },
    {
      "cell_type": "code",
      "metadata": {
        "id": "2QEYZGuQcKVG",
        "colab": {
          "base_uri": "https://localhost:8080/"
        },
        "outputId": "a151512c-535a-4bd2-98b0-b7e180b16a0c"
      },
      "source": [
        "# start the process\n",
        "rscv.fit(X,y)"
      ],
      "execution_count": null,
      "outputs": [
        {
          "output_type": "execute_result",
          "data": {
            "text/plain": [
              "RandomizedSearchCV(cv=5, error_score=nan,\n",
              "                   estimator=RandomForestClassifier(bootstrap=True,\n",
              "                                                    ccp_alpha=0.0,\n",
              "                                                    class_weight=None,\n",
              "                                                    criterion='gini',\n",
              "                                                    max_depth=None,\n",
              "                                                    max_features='auto',\n",
              "                                                    max_leaf_nodes=None,\n",
              "                                                    max_samples=None,\n",
              "                                                    min_impurity_decrease=0.0,\n",
              "                                                    min_impurity_split=None,\n",
              "                                                    min_samples_leaf=1,\n",
              "                                                    min_samples_split=2,\n",
              "                                                    min_weight_fraction_leaf=0.0,\n",
              "                                                    n_estimators=100,\n",
              "                                                    n_jobs=None,\n",
              "                                                    oob_score=False,\n",
              "                                                    random_state=100, verbose=0,\n",
              "                                                    warm_start=False),\n",
              "                   iid='deprecated', n_iter=50, n_jobs=None,\n",
              "                   param_distributions={'criterion': ['gini', 'entropy'],\n",
              "                                        'max_features': <scipy.stats._distn_infrastructure.rv_frozen object at 0x7fbf497d2190>},\n",
              "                   pre_dispatch='2*n_jobs', random_state=100, refit=True,\n",
              "                   return_train_score=False, scoring='accuracy', verbose=0)"
            ]
          },
          "metadata": {
            "tags": []
          },
          "execution_count": 27
        }
      ]
    },
    {
      "cell_type": "code",
      "metadata": {
        "id": "RmPRDXq3cLu0",
        "colab": {
          "base_uri": "https://localhost:8080/"
        },
        "outputId": "7fc6b016-cba2-4046-f6b9-dd182fe1a429"
      },
      "source": [
        "import pandas as pd\n",
        "\n",
        "# convert the dictionary of results to a pandas dataframe\n",
        "results = pd.DataFrame(rscv.cv_results_)\n",
        "\n",
        "# removing duplication\n",
        "distinct_results = results.loc[:,['params','mean_test_score']]\n",
        "\n",
        "# convert the params dictionaries to string data types\n",
        "distinct_results.loc[:,'params'] = distinct_results.loc[:,'params'].astype('str')\n",
        "\n",
        "# remove duplicates\n",
        "distinct_results.drop_duplicates(inplace=True)\n",
        "\n",
        "# look at the top 5 best hyperparamaterizations\n",
        "print(distinct_results.sort_values('mean_test_score', ascending=False).head(5))"
      ],
      "execution_count": null,
      "outputs": [
        {
          "output_type": "stream",
          "text": [
            "                                         params  mean_test_score\n",
            "3     {'criterion': 'gini', 'max_features': 11}         0.940470\n",
            "48     {'criterion': 'gini', 'max_features': 4}         0.939913\n",
            "19     {'criterion': 'gini', 'max_features': 5}         0.937700\n",
            "14     {'criterion': 'gini', 'max_features': 3}         0.937694\n",
            "21  {'criterion': 'entropy', 'max_features': 8}         0.936582\n"
          ],
          "name": "stdout"
        }
      ]
    },
    {
      "cell_type": "code",
      "metadata": {
        "id": "hJm3NFG-cNbG",
        "colab": {
          "base_uri": "https://localhost:8080/",
          "height": 282
        },
        "outputId": "5d6c61e2-2ab2-4b75-e566-0f1df2f25f5b"
      },
      "source": [
        "\n",
        "# top performing models\n",
        "distinct_results[distinct_results.mean_test_score > 0.93].sort_values('mean_test_score').plot.barh(x='params', xlim=(0.9))"
      ],
      "execution_count": null,
      "outputs": [
        {
          "output_type": "execute_result",
          "data": {
            "text/plain": [
              "<matplotlib.axes._subplots.AxesSubplot at 0x7fbf496dff90>"
            ]
          },
          "metadata": {
            "tags": []
          },
          "execution_count": 29
        },
        {
          "output_type": "display_data",
          "data": {
            "image/png": "[encoded data removed]",
            "text/plain": [
              "<Figure size 432x288 with 1 Axes>"
            ]
          },
          "metadata": {
            "tags": [],
            "needs_background": "light"
          }
        }
      ]
    },
    {
      "cell_type": "code",
      "metadata": {
        "id": "mNUH45-OcOpr",
        "colab": {
          "base_uri": "https://localhost:8080/",
          "height": 204
        },
        "outputId": "405997d5-344f-4bd8-a4e7-5d0105425a42"
      },
      "source": [
        "## Mushroom classification\n",
        "import pandas as pd\n",
        "mushrooms = pd.read_csv(\"https://raw.githubusercontent.com/PacktWorkshops/The-Data-Science-Workshop/master/Chapter08/Dataset/agaricus-lepiota.data\")\n",
        "mushrooms.head()"
      ],
      "execution_count": null,
      "outputs": [
        {
          "output_type": "execute_result",
          "data": {
            "text/html": [
              "<div>\n",
              "<style scoped>\n",
              "    .dataframe tbody tr th:only-of-type {\n",
              "        vertical-align: middle;\n",
              "    }\n",
              "\n",
              "    .dataframe tbody tr th {\n",
              "        vertical-align: top;\n",
              "    }\n",
              "\n",
              "    .dataframe thead th {\n",
              "        text-align: right;\n",
              "    }\n",
              "</style>\n",
              "<table border=\"1\" class=\"dataframe\">\n",
              "  <thead>\n",
              "    <tr style=\"text-align: right;\">\n",
              "      <th></th>\n",
              "      <th>p</th>\n",
              "      <th>x</th>\n",
              "      <th>s</th>\n",
              "      <th>n</th>\n",
              "      <th>t</th>\n",
              "      <th>p.1</th>\n",
              "      <th>f</th>\n",
              "      <th>c</th>\n",
              "      <th>n.1</th>\n",
              "      <th>k</th>\n",
              "      <th>e</th>\n",
              "      <th>e.1</th>\n",
              "      <th>s.1</th>\n",
              "      <th>s.2</th>\n",
              "      <th>w</th>\n",
              "      <th>w.1</th>\n",
              "      <th>p.2</th>\n",
              "      <th>w.2</th>\n",
              "      <th>o</th>\n",
              "      <th>p.3</th>\n",
              "      <th>k.1</th>\n",
              "      <th>s.3</th>\n",
              "      <th>u</th>\n",
              "    </tr>\n",
              "  </thead>\n",
              "  <tbody>\n",
              "    <tr>\n",
              "      <th>0</th>\n",
              "      <td>e</td>\n",
              "      <td>x</td>\n",
              "      <td>s</td>\n",
              "      <td>y</td>\n",
              "      <td>t</td>\n",
              "      <td>a</td>\n",
              "      <td>f</td>\n",
              "      <td>c</td>\n",
              "      <td>b</td>\n",
              "      <td>k</td>\n",
              "      <td>e</td>\n",
              "      <td>c</td>\n",
              "      <td>s</td>\n",
              "      <td>s</td>\n",
              "      <td>w</td>\n",
              "      <td>w</td>\n",
              "      <td>p</td>\n",
              "      <td>w</td>\n",
              "      <td>o</td>\n",
              "      <td>p</td>\n",
              "      <td>n</td>\n",
              "      <td>n</td>\n",
              "      <td>g</td>\n",
              "    </tr>\n",
              "    <tr>\n",
              "      <th>1</th>\n",
              "      <td>e</td>\n",
              "      <td>b</td>\n",
              "      <td>s</td>\n",
              "      <td>w</td>\n",
              "      <td>t</td>\n",
              "      <td>l</td>\n",
              "      <td>f</td>\n",
              "      <td>c</td>\n",
              "      <td>b</td>\n",
              "      <td>n</td>\n",
              "      <td>e</td>\n",
              "      <td>c</td>\n",
              "      <td>s</td>\n",
              "      <td>s</td>\n",
              "      <td>w</td>\n",
              "      <td>w</td>\n",
              "      <td>p</td>\n",
              "      <td>w</td>\n",
              "      <td>o</td>\n",
              "      <td>p</td>\n",
              "      <td>n</td>\n",
              "      <td>n</td>\n",
              "      <td>m</td>\n",
              "    </tr>\n",
              "    <tr>\n",
              "      <th>2</th>\n",
              "      <td>p</td>\n",
              "      <td>x</td>\n",
              "      <td>y</td>\n",
              "      <td>w</td>\n",
              "      <td>t</td>\n",
              "      <td>p</td>\n",
              "      <td>f</td>\n",
              "      <td>c</td>\n",
              "      <td>n</td>\n",
              "      <td>n</td>\n",
              "      <td>e</td>\n",
              "      <td>e</td>\n",
              "      <td>s</td>\n",
              "      <td>s</td>\n",
              "      <td>w</td>\n",
              "      <td>w</td>\n",
              "      <td>p</td>\n",
              "      <td>w</td>\n",
              "      <td>o</td>\n",
              "      <td>p</td>\n",
              "      <td>k</td>\n",
              "      <td>s</td>\n",
              "      <td>u</td>\n",
              "    </tr>\n",
              "    <tr>\n",
              "      <th>3</th>\n",
              "      <td>e</td>\n",
              "      <td>x</td>\n",
              "      <td>s</td>\n",
              "      <td>g</td>\n",
              "      <td>f</td>\n",
              "      <td>n</td>\n",
              "      <td>f</td>\n",
              "      <td>w</td>\n",
              "      <td>b</td>\n",
              "      <td>k</td>\n",
              "      <td>t</td>\n",
              "      <td>e</td>\n",
              "      <td>s</td>\n",
              "      <td>s</td>\n",
              "      <td>w</td>\n",
              "      <td>w</td>\n",
              "      <td>p</td>\n",
              "      <td>w</td>\n",
              "      <td>o</td>\n",
              "      <td>e</td>\n",
              "      <td>n</td>\n",
              "      <td>a</td>\n",
              "      <td>g</td>\n",
              "    </tr>\n",
              "    <tr>\n",
              "      <th>4</th>\n",
              "      <td>e</td>\n",
              "      <td>x</td>\n",
              "      <td>y</td>\n",
              "      <td>y</td>\n",
              "      <td>t</td>\n",
              "      <td>a</td>\n",
              "      <td>f</td>\n",
              "      <td>c</td>\n",
              "      <td>b</td>\n",
              "      <td>n</td>\n",
              "      <td>e</td>\n",
              "      <td>c</td>\n",
              "      <td>s</td>\n",
              "      <td>s</td>\n",
              "      <td>w</td>\n",
              "      <td>w</td>\n",
              "      <td>p</td>\n",
              "      <td>w</td>\n",
              "      <td>o</td>\n",
              "      <td>p</td>\n",
              "      <td>k</td>\n",
              "      <td>n</td>\n",
              "      <td>g</td>\n",
              "    </tr>\n",
              "  </tbody>\n",
              "</table>\n",
              "</div>"
            ],
            "text/plain": [
              "   p  x  s  n  t p.1  f  c n.1  k  e  ... s.1 s.2  w w.1 p.2 w.2  o p.3 k.1 s.3  u\n",
              "0  e  x  s  y  t   a  f  c   b  k  e  ...   s   s  w   w   p   w  o   p   n   n  g\n",
              "1  e  b  s  w  t   l  f  c   b  n  e  ...   s   s  w   w   p   w  o   p   n   n  m\n",
              "2  p  x  y  w  t   p  f  c   n  n  e  ...   s   s  w   w   p   w  o   p   k   s  u\n",
              "3  e  x  s  g  f   n  f  w   b  k  t  ...   s   s  w   w   p   w  o   e   n   a  g\n",
              "4  e  x  y  y  t   a  f  c   b  n  e  ...   s   s  w   w   p   w  o   p   k   n  g\n",
              "\n",
              "[5 rows x 23 columns]"
            ]
          },
          "metadata": {
            "tags": []
          },
          "execution_count": 30
        }
      ]
    },
    {
      "cell_type": "code",
      "metadata": {
        "id": "Wm4yYc6PyFti"
      },
      "source": [
        "y_raw = mushrooms.iloc[:,0]\n",
        "X_raw = mushrooms.iloc[:,1:]\n",
        "# code p into 1 e into 0\n",
        "y = (y_raw == 'p') * 1"
      ],
      "execution_count": null,
      "outputs": []
    },
    {
      "cell_type": "code",
      "metadata": {
        "id": "vsEm_vWhyHMK",
        "colab": {
          "base_uri": "https://localhost:8080/"
        },
        "outputId": "705f4e1b-5b9c-4023-c68d-b0aece3bf0b3"
      },
      "source": [
        "# one hot encoding x feature\n",
        "from sklearn import preprocessing\n",
        "encoder = preprocessing.OneHotEncoder()\n",
        "\n",
        "encoder.fit(X_raw)\n",
        "\n",
        "X = encoder.transform(X_raw).toarray()\n",
        "X"
      ],
      "execution_count": null,
      "outputs": [
        {
          "output_type": "execute_result",
          "data": {
            "text/plain": [
              "array([[0., 0., 0., ..., 0., 0., 0.],\n",
              "       [1., 0., 0., ..., 0., 0., 0.],\n",
              "       [0., 0., 0., ..., 0., 1., 0.],\n",
              "       ...,\n",
              "       [0., 0., 1., ..., 0., 0., 0.],\n",
              "       [0., 0., 0., ..., 0., 0., 0.],\n",
              "       [0., 0., 0., ..., 0., 0., 0.]])"
            ]
          },
          "metadata": {
            "tags": []
          },
          "execution_count": 32
        }
      ]
    },
    {
      "cell_type": "code",
      "metadata": {
        "colab": {
          "base_uri": "https://localhost:8080/",
          "height": 889
        },
        "id": "m54KySFj1AA8",
        "outputId": "7181df66-c80d-4c8c-ea99-4cc54faa1715"
      },
      "source": [
        "#Initialize the classifier.\n",
        "from sklearn import ensemble\n",
        "rfc = ensemble.RandomForestClassifier(n_estimators=100, random_state=100)\n",
        "\n",
        "#Conduct a grid search.\n",
        "from sklearn import model_selection\n",
        "grid = {\n",
        "    'criterion': ['gini', 'entropy'],\n",
        "    'max_features': [2, 4, 6, 8, 10, 12, 14]\n",
        "}\n",
        "gscv = model_selection.GridSearchCV(estimator=rfc, param_grid=grid, cv=5, scoring='accuracy')\n",
        "gscv.fit(X,y)\n",
        "results = pd.DataFrame(gscv.cv_results_)\n",
        "results.sort_values('rank_test_score', ascending=True).head(10)\n",
        "\n",
        "#Conduct a random search.\n",
        "from scipy import stats\n",
        "max_features = X.shape[1]\n",
        "param_dist = {\n",
        "    'criterion': ['gini', 'entropy'],\n",
        "    'max_features': stats.randint(low=1, high=max_features)\n",
        "}\n",
        "rscv = model_selection.RandomizedSearchCV(estimator=rfc, param_distributions=param_dist, n_iter=50, cv=5, scoring='accuracy', random_state=100)\n",
        "rscv.fit(X,y)\n",
        "results = pd.DataFrame(rscv.cv_results_)\n",
        "results.sort_values('rank_test_score', ascending=True).head(10)"
      ],
      "execution_count": null,
      "outputs": [
        {
          "output_type": "execute_result",
          "data": {
            "text/html": [
              "<div>\n",
              "<style scoped>\n",
              "    .dataframe tbody tr th:only-of-type {\n",
              "        vertical-align: middle;\n",
              "    }\n",
              "\n",
              "    .dataframe tbody tr th {\n",
              "        vertical-align: top;\n",
              "    }\n",
              "\n",
              "    .dataframe thead th {\n",
              "        text-align: right;\n",
              "    }\n",
              "</style>\n",
              "<table border=\"1\" class=\"dataframe\">\n",
              "  <thead>\n",
              "    <tr style=\"text-align: right;\">\n",
              "      <th></th>\n",
              "      <th>mean_fit_time</th>\n",
              "      <th>std_fit_time</th>\n",
              "      <th>mean_score_time</th>\n",
              "      <th>std_score_time</th>\n",
              "      <th>param_criterion</th>\n",
              "      <th>param_max_features</th>\n",
              "      <th>params</th>\n",
              "      <th>split0_test_score</th>\n",
              "      <th>split1_test_score</th>\n",
              "      <th>split2_test_score</th>\n",
              "      <th>split3_test_score</th>\n",
              "      <th>split4_test_score</th>\n",
              "      <th>mean_test_score</th>\n",
              "      <th>std_test_score</th>\n",
              "      <th>rank_test_score</th>\n",
              "    </tr>\n",
              "  </thead>\n",
              "  <tbody>\n",
              "    <tr>\n",
              "      <th>25</th>\n",
              "      <td>1.082610</td>\n",
              "      <td>0.122526</td>\n",
              "      <td>0.016687</td>\n",
              "      <td>0.000561</td>\n",
              "      <td>gini</td>\n",
              "      <td>106</td>\n",
              "      <td>{'criterion': 'gini', 'max_features': 106}</td>\n",
              "      <td>1.000000</td>\n",
              "      <td>1.0</td>\n",
              "      <td>0.996308</td>\n",
              "      <td>1.0</td>\n",
              "      <td>0.737685</td>\n",
              "      <td>0.946798</td>\n",
              "      <td>0.104567</td>\n",
              "      <td>1</td>\n",
              "    </tr>\n",
              "    <tr>\n",
              "      <th>41</th>\n",
              "      <td>1.086183</td>\n",
              "      <td>0.130390</td>\n",
              "      <td>0.016952</td>\n",
              "      <td>0.000938</td>\n",
              "      <td>gini</td>\n",
              "      <td>105</td>\n",
              "      <td>{'criterion': 'gini', 'max_features': 105}</td>\n",
              "      <td>1.000000</td>\n",
              "      <td>1.0</td>\n",
              "      <td>0.996308</td>\n",
              "      <td>1.0</td>\n",
              "      <td>0.737685</td>\n",
              "      <td>0.946798</td>\n",
              "      <td>0.104567</td>\n",
              "      <td>1</td>\n",
              "    </tr>\n",
              "    <tr>\n",
              "      <th>29</th>\n",
              "      <td>1.138543</td>\n",
              "      <td>0.141717</td>\n",
              "      <td>0.016879</td>\n",
              "      <td>0.000791</td>\n",
              "      <td>gini</td>\n",
              "      <td>111</td>\n",
              "      <td>{'criterion': 'gini', 'max_features': 111}</td>\n",
              "      <td>1.000000</td>\n",
              "      <td>1.0</td>\n",
              "      <td>0.996308</td>\n",
              "      <td>1.0</td>\n",
              "      <td>0.737685</td>\n",
              "      <td>0.946798</td>\n",
              "      <td>0.104567</td>\n",
              "      <td>1</td>\n",
              "    </tr>\n",
              "    <tr>\n",
              "      <th>6</th>\n",
              "      <td>1.033734</td>\n",
              "      <td>0.118530</td>\n",
              "      <td>0.017404</td>\n",
              "      <td>0.000792</td>\n",
              "      <td>gini</td>\n",
              "      <td>99</td>\n",
              "      <td>{'criterion': 'gini', 'max_features': 99}</td>\n",
              "      <td>1.000000</td>\n",
              "      <td>1.0</td>\n",
              "      <td>0.996308</td>\n",
              "      <td>1.0</td>\n",
              "      <td>0.737685</td>\n",
              "      <td>0.946798</td>\n",
              "      <td>0.104567</td>\n",
              "      <td>1</td>\n",
              "    </tr>\n",
              "    <tr>\n",
              "      <th>27</th>\n",
              "      <td>0.708563</td>\n",
              "      <td>0.053016</td>\n",
              "      <td>0.016660</td>\n",
              "      <td>0.000811</td>\n",
              "      <td>gini</td>\n",
              "      <td>64</td>\n",
              "      <td>{'criterion': 'gini', 'max_features': 64}</td>\n",
              "      <td>0.963077</td>\n",
              "      <td>1.0</td>\n",
              "      <td>0.996308</td>\n",
              "      <td>1.0</td>\n",
              "      <td>0.754310</td>\n",
              "      <td>0.942739</td>\n",
              "      <td>0.095233</td>\n",
              "      <td>5</td>\n",
              "    </tr>\n",
              "    <tr>\n",
              "      <th>10</th>\n",
              "      <td>1.111873</td>\n",
              "      <td>0.131394</td>\n",
              "      <td>0.017387</td>\n",
              "      <td>0.000831</td>\n",
              "      <td>gini</td>\n",
              "      <td>108</td>\n",
              "      <td>{'criterion': 'gini', 'max_features': 108}</td>\n",
              "      <td>1.000000</td>\n",
              "      <td>1.0</td>\n",
              "      <td>0.996308</td>\n",
              "      <td>1.0</td>\n",
              "      <td>0.693350</td>\n",
              "      <td>0.937931</td>\n",
              "      <td>0.122299</td>\n",
              "      <td>6</td>\n",
              "    </tr>\n",
              "    <tr>\n",
              "      <th>46</th>\n",
              "      <td>1.094710</td>\n",
              "      <td>0.121820</td>\n",
              "      <td>0.016692</td>\n",
              "      <td>0.001330</td>\n",
              "      <td>gini</td>\n",
              "      <td>107</td>\n",
              "      <td>{'criterion': 'gini', 'max_features': 107}</td>\n",
              "      <td>1.000000</td>\n",
              "      <td>1.0</td>\n",
              "      <td>0.996308</td>\n",
              "      <td>1.0</td>\n",
              "      <td>0.693350</td>\n",
              "      <td>0.937931</td>\n",
              "      <td>0.122299</td>\n",
              "      <td>6</td>\n",
              "    </tr>\n",
              "    <tr>\n",
              "      <th>34</th>\n",
              "      <td>0.722090</td>\n",
              "      <td>0.055410</td>\n",
              "      <td>0.016599</td>\n",
              "      <td>0.000561</td>\n",
              "      <td>gini</td>\n",
              "      <td>65</td>\n",
              "      <td>{'criterion': 'gini', 'max_features': 65}</td>\n",
              "      <td>0.921231</td>\n",
              "      <td>1.0</td>\n",
              "      <td>0.996308</td>\n",
              "      <td>1.0</td>\n",
              "      <td>0.754310</td>\n",
              "      <td>0.934370</td>\n",
              "      <td>0.094916</td>\n",
              "      <td>8</td>\n",
              "    </tr>\n",
              "    <tr>\n",
              "      <th>15</th>\n",
              "      <td>0.249438</td>\n",
              "      <td>0.007650</td>\n",
              "      <td>0.019491</td>\n",
              "      <td>0.000587</td>\n",
              "      <td>gini</td>\n",
              "      <td>5</td>\n",
              "      <td>{'criterion': 'gini', 'max_features': 5}</td>\n",
              "      <td>0.843077</td>\n",
              "      <td>1.0</td>\n",
              "      <td>1.000000</td>\n",
              "      <td>1.0</td>\n",
              "      <td>0.815887</td>\n",
              "      <td>0.931793</td>\n",
              "      <td>0.083978</td>\n",
              "      <td>9</td>\n",
              "    </tr>\n",
              "    <tr>\n",
              "      <th>18</th>\n",
              "      <td>0.248852</td>\n",
              "      <td>0.007679</td>\n",
              "      <td>0.019722</td>\n",
              "      <td>0.000763</td>\n",
              "      <td>gini</td>\n",
              "      <td>5</td>\n",
              "      <td>{'criterion': 'gini', 'max_features': 5}</td>\n",
              "      <td>0.843077</td>\n",
              "      <td>1.0</td>\n",
              "      <td>1.000000</td>\n",
              "      <td>1.0</td>\n",
              "      <td>0.815887</td>\n",
              "      <td>0.931793</td>\n",
              "      <td>0.083978</td>\n",
              "      <td>9</td>\n",
              "    </tr>\n",
              "  </tbody>\n",
              "</table>\n",
              "</div>"
            ],
            "text/plain": [
              "    mean_fit_time  std_fit_time  ...  std_test_score  rank_test_score\n",
              "25       1.082610      0.122526  ...        0.104567                1\n",
              "41       1.086183      0.130390  ...        0.104567                1\n",
              "29       1.138543      0.141717  ...        0.104567                1\n",
              "6        1.033734      0.118530  ...        0.104567                1\n",
              "27       0.708563      0.053016  ...        0.095233                5\n",
              "10       1.111873      0.131394  ...        0.122299                6\n",
              "46       1.094710      0.121820  ...        0.122299                6\n",
              "34       0.722090      0.055410  ...        0.094916                8\n",
              "15       0.249438      0.007650  ...        0.083978                9\n",
              "18       0.248852      0.007679  ...        0.083978                9\n",
              "\n",
              "[10 rows x 15 columns]"
            ]
          },
          "metadata": {
            "tags": []
          },
          "execution_count": 33
        }
      ]
    },
    {
      "cell_type": "code",
      "metadata": {
        "colab": {
          "base_uri": "https://localhost:8080/",
          "height": 282
        },
        "id": "s2rPlC5y1CrQ",
        "outputId": "ff6417ac-e191-4a23-9ae0-3b8fae236fbd"
      },
      "source": [
        "results.loc[:,'params'] = results.loc[:,'params'].astype(str)\n",
        "\n",
        "(\n",
        "    results.sort_values('rank_test_score', ascending=False)\n",
        "    .loc[:,['params','mean_test_score']]\n",
        "    .drop_duplicates()\n",
        "    .head(10)\n",
        "    .plot.barh(x='params', xlim=(0.8))\n",
        ")"
      ],
      "execution_count": null,
      "outputs": [
        {
          "output_type": "execute_result",
          "data": {
            "text/plain": [
              "<matplotlib.axes._subplots.AxesSubplot at 0x7fbf494ea8d0>"
            ]
          },
          "metadata": {
            "tags": []
          },
          "execution_count": 34
        },
        {
          "output_type": "display_data",
          "data": {
            "image/png": "[encoded data removed]",
            "text/plain": [
              "<Figure size 432x288 with 1 Axes>"
            ]
          },
          "metadata": {
            "tags": [],
            "needs_background": "light"
          }
        }
      ]
    },
    {
      "cell_type": "code",
      "metadata": {
        "id": "jYs8WUrq1OLL"
      },
      "source": [
        ""
      ],
      "execution_count": null,
      "outputs": []
    }
  ]
}