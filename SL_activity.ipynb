{
  "nbformat": 4,
  "nbformat_minor": 0,
  "metadata": {
    "colab": {
      "name": "SL_activity.ipynb",
      "provenance": [],
      "collapsed_sections": [],
      "authorship_tag": "ABX9TyOYd3Ft/8zgelyhCsImMxqD",
      "include_colab_link": true
    },
    "kernelspec": {
      "name": "python3",
      "display_name": "Python 3"
    },
    "language_info": {
      "name": "python"
    }
  },
  "cells": [
    {
      "cell_type": "markdown",
      "metadata": {
        "id": "view-in-github",
        "colab_type": "text"
      },
      "source": [
        "<a href=\"https://colab.research.google.com/github/chitinglow/Classification-Machine-learning/blob/master/SL_activity.ipynb\" target=\"_parent\"><img src=\"https://colab.research.google.com/assets/colab-badge.svg\" alt=\"Open In Colab\"/></a>"
      ]
    },
    {
      "cell_type": "code",
      "metadata": {
        "colab": {
          "base_uri": "https://localhost:8080/"
        },
        "id": "bwox4_SrtIcu",
        "outputId": "c225f54c-7cce-4f8f-d456-689b54d80a01"
      },
      "source": [
        "import pandas as pd\n",
        "from sklearn.model_selection import train_test_split\n",
        "from sklearn.model_selection import KFold\n",
        "from sklearn.datasets import load_digits\n",
        "\n",
        "data = load_digits()\n",
        "\n",
        "X = pd.DataFrame(data.data)\n",
        "Y = pd.DataFrame(data.target)\n",
        "print(X.shape, Y.shape)"
      ],
      "execution_count": 2,
      "outputs": [
        {
          "output_type": "stream",
          "text": [
            "(1797, 64) (1797, 1)\n"
          ],
          "name": "stdout"
        }
      ]
    },
    {
      "cell_type": "code",
      "metadata": {
        "colab": {
          "base_uri": "https://localhost:8080/"
        },
        "id": "Rppm3VTgtMps",
        "outputId": "2710b36d-e15a-49c8-9468-9355f237c289"
      },
      "source": [
        "X, X_test, Y, Y_test = train_test_split(X, Y, test_size = 0.2)\n",
        "print(X.shape, X_test.shape, Y.shape, Y_test.shape)"
      ],
      "execution_count": 3,
      "outputs": [
        {
          "output_type": "stream",
          "text": [
            "(1437, 64) (360, 64) (1437, 1) (360, 1)\n"
          ],
          "name": "stdout"
        }
      ]
    },
    {
      "cell_type": "code",
      "metadata": {
        "colab": {
          "base_uri": "https://localhost:8080/"
        },
        "id": "XpB5yJfq-iQy",
        "outputId": "38138f7a-afb9-4457-c78a-d14bc2c596fe"
      },
      "source": [
        "data = load_digits()\n",
        "\n",
        "X = pd.DataFrame(data.data)\n",
        "Y = pd.DataFrame(data.target)\n",
        "X, X_test, Y, Y_test = train_test_split(X, Y, test_size = 0.1)\n",
        "kf = KFold(n_splits=10)\n",
        "splits = kf.split(X)\n",
        "\n",
        "for train_index, test_index in splits:\n",
        "  X_train, X_dev = X.iloc[train_index,:], X.iloc[test_index,:]\n",
        "  Y_train, Y_dev = Y.iloc[train_index,:], Y.iloc[test_index,:]\n",
        "\n",
        "print(X_train.shape, Y_train.shape, X_dev.shape, Y_dev.shape, X_test.shape, Y_test.shape)"
      ],
      "execution_count": 5,
      "outputs": [
        {
          "output_type": "stream",
          "text": [
            "(1456, 64) (1456, 1) (161, 64) (161, 1) (180, 64) (180, 1)\n"
          ],
          "name": "stdout"
        }
      ]
    },
    {
      "cell_type": "code",
      "metadata": {
        "colab": {
          "base_uri": "https://localhost:8080/"
        },
        "id": "NcKQxKAg-z2R",
        "outputId": "d100ea82-6d38-49f8-c4cf-676e0be93352"
      },
      "source": [
        "from sklearn import tree\n",
        "from sklearn.metrics import confusion_matrix\n",
        "from sklearn.metrics import accuracy_score\n",
        "from sklearn.metrics import precision_score\n",
        "from sklearn.metrics import recall_score\n",
        "from sklearn import linear_model\n",
        "from sklearn.metrics import mean_absolute_error\n",
        "from sklearn.metrics import mean_squared_error\n",
        "import numpy as np\n",
        "data = load_digits()\n",
        "\n",
        "X = pd.DataFrame(data.data)\n",
        "Y = pd.DataFrame(data.target)\n",
        "print(X.shape, Y.shape)"
      ],
      "execution_count": 6,
      "outputs": [
        {
          "output_type": "stream",
          "text": [
            "(1797, 64) (1797, 1)\n"
          ],
          "name": "stdout"
        }
      ]
    },
    {
      "cell_type": "code",
      "metadata": {
        "colab": {
          "base_uri": "https://localhost:8080/"
        },
        "id": "JM5tmMkCDYtM",
        "outputId": "2fa654ff-c4cb-46bd-e086-f81089940dbe"
      },
      "source": [
        "X_train, X_test, Y_train, Y_test = train_test_split(X, Y, test_size = 0.2)\n",
        "print(X_train.shape, X_test.shape, Y_train.shape, Y_test.shape)"
      ],
      "execution_count": 8,
      "outputs": [
        {
          "output_type": "stream",
          "text": [
            "(1437, 64) (360, 64) (1437, 1) (360, 1)\n"
          ],
          "name": "stdout"
        }
      ]
    },
    {
      "cell_type": "code",
      "metadata": {
        "id": "WCdetwNkDcZR"
      },
      "source": [
        "model = tree.DecisionTreeClassifier(random_state=0)\n",
        "model = model.fit(X_train, Y_train)\n",
        "Y_pred = model.predict(X_test)"
      ],
      "execution_count": 10,
      "outputs": []
    },
    {
      "cell_type": "code",
      "metadata": {
        "colab": {
          "base_uri": "https://localhost:8080/"
        },
        "id": "3H11Hb-fDsOR",
        "outputId": "09780558-8353-4921-9928-cab3e130594a"
      },
      "source": [
        "confusion_matrix(Y_test, Y_pred)"
      ],
      "execution_count": 11,
      "outputs": [
        {
          "output_type": "execute_result",
          "data": {
            "text/plain": [
              "array([[33,  0,  0,  0,  2,  1,  0,  0,  0,  1],\n",
              "       [ 1, 27,  2,  1,  2,  0,  0,  0,  1,  4],\n",
              "       [ 1,  2, 26,  1,  0,  0,  0,  0,  1,  2],\n",
              "       [ 0,  2,  2, 26,  1,  2,  0,  0,  2,  1],\n",
              "       [ 0,  3,  0,  1, 24,  1,  0,  1,  0,  2],\n",
              "       [ 0,  0,  0,  1,  1, 26,  1,  0,  0,  2],\n",
              "       [ 0,  0,  0,  0,  0,  0, 36,  0,  1,  0],\n",
              "       [ 0,  0,  0,  0,  1,  2,  0, 36,  0,  4],\n",
              "       [ 0,  6,  0,  0,  0,  1,  1,  0, 29,  2],\n",
              "       [ 0,  1,  0,  0,  1,  1,  0,  0,  1, 30]])"
            ]
          },
          "metadata": {
            "tags": []
          },
          "execution_count": 11
        }
      ]
    },
    {
      "cell_type": "code",
      "metadata": {
        "colab": {
          "base_uri": "https://localhost:8080/"
        },
        "id": "D1OHDllzD3LY",
        "outputId": "1baf4e5b-5665-4d93-f1ed-ed0d8402a0e5"
      },
      "source": [
        "accuracy = accuracy_score(Y_test, Y_pred)\n",
        "accuracy"
      ],
      "execution_count": 13,
      "outputs": [
        {
          "output_type": "execute_result",
          "data": {
            "text/plain": [
              "0.8138888888888889"
            ]
          },
          "metadata": {
            "tags": []
          },
          "execution_count": 13
        }
      ]
    },
    {
      "cell_type": "code",
      "metadata": {
        "colab": {
          "base_uri": "https://localhost:8080/"
        },
        "id": "nIF55ZLKD7wR",
        "outputId": "1a6b7669-38d0-49f8-d222-f95eb348d808"
      },
      "source": [
        "Y_test_2 = Y_test[:]\n",
        "Y_test_2[Y_test_2 != 6] = 1\n",
        "Y_test_2[Y_test_2 == 6] = 0\n",
        "\n",
        "Y_pred_2 = Y_pred\n",
        "Y_pred_2[Y_pred_2 != 6] = 1\n",
        "Y_pred_2[Y_pred_2 == 6] = 0\n",
        "precision = precision_score(Y_test_2, Y_pred_2)\n",
        "print(\"precision:\", precision)"
      ],
      "execution_count": 16,
      "outputs": [
        {
          "output_type": "stream",
          "text": [
            "precision: 0.9968944099378882\n"
          ],
          "name": "stdout"
        }
      ]
    },
    {
      "cell_type": "code",
      "metadata": {
        "colab": {
          "base_uri": "https://localhost:8080/"
        },
        "id": "AsnYpuwQEBKx",
        "outputId": "ad18cebb-4223-45c7-a7f4-081b4f9fc3cc"
      },
      "source": [
        "recall = recall_score(Y_test_2, Y_pred_2)\n",
        "print(\"recall:\", recall)"
      ],
      "execution_count": 17,
      "outputs": [
        {
          "output_type": "stream",
          "text": [
            "recall: 0.9938080495356038\n"
          ],
          "name": "stdout"
        }
      ]
    },
    {
      "cell_type": "code",
      "metadata": {
        "id": "hNKGhLu4ETfY"
      },
      "source": [
        "digits = load_digits()\n",
        "\n",
        "X = pd.DataFrame(digits.data)\n",
        "Y = pd.DataFrame(digits.target)"
      ],
      "execution_count": 18,
      "outputs": []
    },
    {
      "cell_type": "code",
      "metadata": {
        "colab": {
          "base_uri": "https://localhost:8080/"
        },
        "id": "y-woDn6uFb7L",
        "outputId": "c599c1d9-76a9-4e2a-a757-f1825e1bccfd"
      },
      "source": [
        "X_new, X_test, Y_new, Y_test = train_test_split(X, Y, test_size=0.1, random_state=101)\n",
        "test_size = X_test.shape[0] / X_new.shape[0]\n",
        "X_train, X_dev, Y_train, Y_dev = train_test_split(X_new, Y_new, test_size=test_size, random_state=101)\n",
        "\n",
        "print(X_train.shape, Y_train.shape, X_dev.shape, Y_dev.shape, X_test.shape, Y_test.shape)"
      ],
      "execution_count": 19,
      "outputs": [
        {
          "output_type": "stream",
          "text": [
            "(1437, 64) (1437, 1) (180, 64) (180, 1) (180, 64) (180, 1)\n"
          ],
          "name": "stdout"
        }
      ]
    },
    {
      "cell_type": "code",
      "metadata": {
        "colab": {
          "base_uri": "https://localhost:8080/"
        },
        "id": "2__eza5SFc3J",
        "outputId": "73f4566a-b7e3-4af1-8584-74f777ec923b"
      },
      "source": [
        "np.random.seed(101)\n",
        "\n",
        "indices_train = np.random.randint(0,len(X_train),90)\n",
        "indices_dev = np.random.randint(0,len(X_dev),90)\n",
        "\n",
        "X_train_dev = pd.concat([X_train.iloc[indices_train,:],X_dev.iloc[indices_dev,:]])\n",
        "Y_train_dev = pd.concat([Y_train.iloc[indices_train,:],Y_dev.iloc[indices_dev,:]])\n",
        "\n",
        "print(X_train_dev.shape, Y_train_dev.shape)"
      ],
      "execution_count": 20,
      "outputs": [
        {
          "output_type": "stream",
          "text": [
            "(180, 64) (180, 1)\n"
          ],
          "name": "stdout"
        }
      ]
    },
    {
      "cell_type": "code",
      "metadata": {
        "id": "ZozqE6KUFd9R"
      },
      "source": [
        "model = tree.DecisionTreeClassifier(random_state=101)\n",
        "model = model.fit(X_train, Y_train)"
      ],
      "execution_count": 21,
      "outputs": []
    },
    {
      "cell_type": "code",
      "metadata": {
        "colab": {
          "base_uri": "https://localhost:8080/"
        },
        "id": "YOf3XBqvFfEo",
        "outputId": "f3ec9061-2008-492a-902b-179875fd545a"
      },
      "source": [
        "sets = [\"Training\", \"Train/dev\", \"Validation\", \"Testing\"]\n",
        "X_sets = [X_train, X_train_dev, X_dev, X_test]\n",
        "Y_sets = [Y_train, Y_train_dev, Y_dev, Y_test]\n",
        "\n",
        "scores = {}\n",
        "for i in range(0,len(X_sets)):\n",
        "    pred = model.predict(X_sets[i])\n",
        "    score = accuracy_score(Y_sets[i],pred)\n",
        "    scores[sets[i]] = score\n",
        "\n",
        "print(scores)"
      ],
      "execution_count": 22,
      "outputs": [
        {
          "output_type": "stream",
          "text": [
            "{'Training': 1.0, 'Train/dev': 0.9444444444444444, 'Validation': 0.8833333333333333, 'Testing': 0.8833333333333333}\n"
          ],
          "name": "stdout"
        }
      ]
    },
    {
      "cell_type": "code",
      "metadata": {
        "id": "ueMik9tbFgSJ"
      },
      "source": [
        ""
      ],
      "execution_count": null,
      "outputs": []
    }
  ]
}