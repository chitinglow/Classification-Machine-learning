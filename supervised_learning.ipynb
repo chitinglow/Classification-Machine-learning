{
  "nbformat": 4,
  "nbformat_minor": 0,
  "metadata": {
    "colab": {
      "name": "supervised_learning.ipynb",
      "provenance": [],
      "collapsed_sections": [],
      "authorship_tag": "ABX9TyM+IymwtAORBnWwGcqxkLga",
      "include_colab_link": true
    },
    "kernelspec": {
      "name": "python3",
      "display_name": "Python 3"
    },
    "language_info": {
      "name": "python"
    }
  },
  "cells": [
    {
      "cell_type": "markdown",
      "metadata": {
        "id": "view-in-github",
        "colab_type": "text"
      },
      "source": [
        "<a href=\"https://colab.research.google.com/github/chitinglow/Classification-Machine-learning/blob/master/supervised_learning.ipynb\" target=\"_parent\"><img src=\"https://colab.research.google.com/assets/colab-badge.svg\" alt=\"Open In Colab\"/></a>"
      ]
    },
    {
      "cell_type": "code",
      "metadata": {
        "id": "TmO9Z31wtAsl"
      },
      "source": [
        "import pandas as pd\n",
        "from sklearn.datasets import load_wine\n",
        "from sklearn.model_selection import train_test_split\n",
        "\n",
        "data = load_wine()"
      ],
      "execution_count": 3,
      "outputs": []
    },
    {
      "cell_type": "code",
      "metadata": {
        "colab": {
          "base_uri": "https://localhost:8080/"
        },
        "id": "8kEvvB_JtFTk",
        "outputId": "33c66b98-9db4-44c2-ba01-0921fafbd37f"
      },
      "source": [
        "X = pd.DataFrame(data.data)\n",
        "Y = pd.DataFrame(data.target)\n",
        "print(X.shape, Y.shape)"
      ],
      "execution_count": 4,
      "outputs": [
        {
          "output_type": "stream",
          "text": [
            "(178, 13) (178, 1)\n"
          ],
          "name": "stdout"
        }
      ]
    },
    {
      "cell_type": "code",
      "metadata": {
        "colab": {
          "base_uri": "https://localhost:8080/"
        },
        "id": "faYxuHyV8mbr",
        "outputId": "1c6b941e-6f96-43a5-c102-36653b605bfe"
      },
      "source": [
        "X, X_test, Y, Y_test = train_test_split(X, Y, test_size = 0.2)\n",
        "print(X.shape, X_test.shape, Y.shape, Y_test.shape)"
      ],
      "execution_count": 5,
      "outputs": [
        {
          "output_type": "stream",
          "text": [
            "(142, 13) (36, 13) (142, 1) (36, 1)\n"
          ],
          "name": "stdout"
        }
      ]
    },
    {
      "cell_type": "code",
      "metadata": {
        "id": "c7pu_Wmw806h"
      },
      "source": [
        "dev_size = 36/142\n",
        "X_train, X_dev, Y_train, Y_dev = train_test_split(X, Y, test_size = dev_size)"
      ],
      "execution_count": 8,
      "outputs": []
    },
    {
      "cell_type": "code",
      "metadata": {
        "colab": {
          "base_uri": "https://localhost:8080/"
        },
        "id": "zkAgPa6C84YJ",
        "outputId": "9b04968d-6308-4718-b853-7f0cd04eded9"
      },
      "source": [
        "# Cross validation \n",
        "from sklearn.model_selection import KFold\n",
        "\n",
        "X = pd.DataFrame(data.data)\n",
        "Y = pd.DataFrame(data.target)\n",
        "print(X.shape, Y.shape)\n",
        "\n",
        "X, X_test, Y, Y_test = train_test_split(X, Y, test_size = 0.10)\n",
        "kf = KFold(n_splits = 10)\n",
        "splits = kf.split(X)"
      ],
      "execution_count": 11,
      "outputs": [
        {
          "output_type": "stream",
          "text": [
            "(178, 13) (178, 1)\n"
          ],
          "name": "stdout"
        }
      ]
    },
    {
      "cell_type": "code",
      "metadata": {
        "colab": {
          "base_uri": "https://localhost:8080/"
        },
        "id": "Y7q0HQxK9aA5",
        "outputId": "35a1dd4c-2ecf-4b3d-9fa4-24d122bdaf0e"
      },
      "source": [
        "for train_index, test_index in splits:\n",
        "  X_train, X_dev = X.iloc[train_index,:], X.iloc[test_index,:]\n",
        "  Y_train, Y_dev = Y.iloc[train_index,:], Y.iloc[test_index,:]\n",
        "\n",
        "print(X_train.shape, Y_train.shape, X_dev.shape, Y_dev.shape, X_test.shape, Y_test.shape)"
      ],
      "execution_count": 12,
      "outputs": [
        {
          "output_type": "stream",
          "text": [
            "(144, 13) (144, 1) (16, 13) (16, 1) (18, 13) (18, 1)\n"
          ],
          "name": "stdout"
        }
      ]
    },
    {
      "cell_type": "code",
      "metadata": {
        "id": "F0A3k-WA9yRB"
      },
      "source": [
        "# Evaluation metrics\n",
        "from sklearn.datasets import load_breast_cancer\n",
        "from sklearn import tree\n",
        "from sklearn.metrics import confusion_matrix\n",
        "from sklearn.metrics import accuracy_score\n",
        "from sklearn.metrics import precision_score\n",
        "from sklearn.metrics import recall_score\n",
        "\n",
        "data = load_breast_cancer()\n",
        "X = pd.DataFrame(data.data)\n",
        "Y = pd.DataFrame(data.target)\n",
        "\n",
        "X_train, X_test, Y_train, Y_test = train_test_split(X, Y, test_size=0.1)"
      ],
      "execution_count": 14,
      "outputs": []
    },
    {
      "cell_type": "code",
      "metadata": {
        "id": "sFMo5_DaBQps"
      },
      "source": [
        "model = tree.DecisionTreeClassifier(random_state=0)\n",
        "model = model.fit(X_train, Y_train)\n",
        "Y_pred = model.predict(X_test)"
      ],
      "execution_count": 17,
      "outputs": []
    },
    {
      "cell_type": "code",
      "metadata": {
        "colab": {
          "base_uri": "https://localhost:8080/"
        },
        "id": "14JzfSchBejR",
        "outputId": "5f0f0ffd-dcff-4095-dee7-109734065466"
      },
      "source": [
        "confusion_matrix(Y_test, Y_pred)"
      ],
      "execution_count": 19,
      "outputs": [
        {
          "output_type": "execute_result",
          "data": {
            "text/plain": [
              "array([[20,  3],\n",
              "       [ 0, 34]])"
            ]
          },
          "metadata": {
            "tags": []
          },
          "execution_count": 19
        }
      ]
    },
    {
      "cell_type": "code",
      "metadata": {
        "colab": {
          "base_uri": "https://localhost:8080/"
        },
        "id": "fpHcT0hMBl4R",
        "outputId": "37cdf0ae-b51b-42c0-9c32-68b8f5c74c01"
      },
      "source": [
        "accuracy = accuracy_score(Y_test, Y_pred)\n",
        "print(accuracy)"
      ],
      "execution_count": 20,
      "outputs": [
        {
          "output_type": "stream",
          "text": [
            "0.9473684210526315\n"
          ],
          "name": "stdout"
        }
      ]
    },
    {
      "cell_type": "code",
      "metadata": {
        "colab": {
          "base_uri": "https://localhost:8080/"
        },
        "id": "z3zFRra0BtnZ",
        "outputId": "ed7a8a53-3f51-4d15-bbae-6a536ed7d74e"
      },
      "source": [
        "precision = precision_score(Y_test, Y_pred)\n",
        "print(precision)"
      ],
      "execution_count": 21,
      "outputs": [
        {
          "output_type": "stream",
          "text": [
            "0.918918918918919\n"
          ],
          "name": "stdout"
        }
      ]
    },
    {
      "cell_type": "code",
      "metadata": {
        "colab": {
          "base_uri": "https://localhost:8080/"
        },
        "id": "MivPBS_gBzu5",
        "outputId": "4be837d7-ef2f-4d1d-8859-c1130707e494"
      },
      "source": [
        "recall = recall_score(Y_test, Y_pred)\n",
        "print(recall)"
      ],
      "execution_count": 23,
      "outputs": [
        {
          "output_type": "stream",
          "text": [
            "1.0\n"
          ],
          "name": "stdout"
        }
      ]
    },
    {
      "cell_type": "code",
      "metadata": {
        "id": "_A0oqtpAB2lJ"
      },
      "source": [
        "# Evaluation for regression tasks\n",
        "# MAE (the average absolute difference between a prediction and the ground truth)\n",
        "# Root Mean squared error (quadratic mteric measures the average magnitude of error between the ground truth and predicition)\n",
        "\n",
        "from sklearn.datasets import load_boston\n",
        "from sklearn import linear_model\n",
        "from sklearn.metrics import mean_absolute_error\n",
        "from sklearn.metrics import mean_squared_error\n",
        "import numpy as np\n",
        "\n",
        "data = load_boston()\n",
        "X = pd.DataFrame(data.data)\n",
        "Y = pd.DataFrame(data.target)\n",
        "\n",
        "X_train, X_test, Y_train, Y_test = train_test_split(X, Y, test_size=0.1)"
      ],
      "execution_count": 24,
      "outputs": []
    },
    {
      "cell_type": "code",
      "metadata": {
        "id": "6QqFR3aIC2bc"
      },
      "source": [
        "model = linear_model.LinearRegression()\n",
        "model = model.fit(X_train, Y_train)\n",
        "Y_pred = model.predict(X_test)"
      ],
      "execution_count": 25,
      "outputs": []
    },
    {
      "cell_type": "code",
      "metadata": {
        "colab": {
          "base_uri": "https://localhost:8080/"
        },
        "id": "NzcjbTftC_x6",
        "outputId": "940fe4c9-4916-4ad0-c7f2-fe88d673ce02"
      },
      "source": [
        "MAE = mean_absolute_error(Y_test, Y_pred)\n",
        "print(MAE)"
      ],
      "execution_count": 26,
      "outputs": [
        {
          "output_type": "stream",
          "text": [
            "3.932810579004414\n"
          ],
          "name": "stdout"
        }
      ]
    },
    {
      "cell_type": "code",
      "metadata": {
        "colab": {
          "base_uri": "https://localhost:8080/"
        },
        "id": "RjAzRB8PDD4x",
        "outputId": "7dc172b6-8729-413c-9a83-389451081a29"
      },
      "source": [
        "RMSE = np.sqrt(mean_squared_error(Y_test, Y_pred))\n",
        "print(RMSE)"
      ],
      "execution_count": 28,
      "outputs": [
        {
          "output_type": "stream",
          "text": [
            "4.980256324362114\n"
          ],
          "name": "stdout"
        }
      ]
    },
    {
      "cell_type": "code",
      "metadata": {
        "colab": {
          "base_uri": "https://localhost:8080/"
        },
        "id": "Hkx1f6snDIVR",
        "outputId": "2bb31eb4-2098-4249-c99c-f3e57c9bedb6"
      },
      "source": [
        "# Error activity\n",
        "data = load_breast_cancer()\n",
        "X = pd.DataFrame(data.data)\n",
        "Y = pd.DataFrame(data.target)\n",
        "\n",
        "X_new, X_test, Y_new, Y_test = train_test_split(X, Y, test_size=0.1, random_state=101)\n",
        "test_size = X_test.shape[0] / X_new.shape[0]\n",
        "X_train, X_dev, Y_train, Y_dev = train_test_split(X_new, Y_new, test_size=test_size, random_state=101)\n",
        "\n",
        "print(X_train.shape, Y_train.shape, X_dev.shape, Y_dev.shape, X_test.shape, Y_test.shape)"
      ],
      "execution_count": 29,
      "outputs": [
        {
          "output_type": "stream",
          "text": [
            "(455, 30) (455, 1) (57, 30) (57, 1) (57, 30) (57, 1)\n"
          ],
          "name": "stdout"
        }
      ]
    },
    {
      "cell_type": "code",
      "metadata": {
        "colab": {
          "base_uri": "https://localhost:8080/"
        },
        "id": "aJT3LHaVFGbr",
        "outputId": "693384ed-7a94-4b90-b0dd-815d034148eb"
      },
      "source": [
        "np.random.seed(101)\n",
        "\n",
        "indices_train = np.random.randint(0,len(X_train),25)\n",
        "indices_dev = np.random.randint(0,len(X_dev),25)\n",
        "\n",
        "X_train_dev = pd.concat([X_train.iloc[indices_train,:],X_dev.iloc[indices_dev,:]])\n",
        "Y_train_dev = pd.concat([Y_train.iloc[indices_train,:],Y_dev.iloc[indices_dev,:]])\n",
        "\n",
        "print(X_train_dev.shape, Y_train_dev.shape)"
      ],
      "execution_count": 30,
      "outputs": [
        {
          "output_type": "stream",
          "text": [
            "(50, 30) (50, 1)\n"
          ],
          "name": "stdout"
        }
      ]
    },
    {
      "cell_type": "code",
      "metadata": {
        "id": "1IqmMsCCFHir"
      },
      "source": [
        "model = tree.DecisionTreeClassifier(random_state=101)\n",
        "model = model.fit(X_train, Y_train)"
      ],
      "execution_count": 31,
      "outputs": []
    },
    {
      "cell_type": "code",
      "metadata": {
        "colab": {
          "base_uri": "https://localhost:8080/"
        },
        "id": "wkZ0XqfvFJD5",
        "outputId": "07100c63-4f6b-4884-be4b-4ad0eb264e23"
      },
      "source": [
        "\n",
        "sets = [\"Training\", \"Train/dev\", \"Validation\", \"Testing\"]\n",
        "X_sets = [X_train, X_train_dev, X_dev, X_test]\n",
        "Y_sets = [Y_train, Y_train_dev, Y_dev, Y_test]\n",
        "\n",
        "scores = {}\n",
        "for i in range(0,len(X_sets)):\n",
        "    pred = model.predict(X_sets[i])\n",
        "    score = recall_score(Y_sets[i],pred)\n",
        "    scores[sets[i]] = score\n",
        "\n",
        "print(scores)"
      ],
      "execution_count": 32,
      "outputs": [
        {
          "output_type": "stream",
          "text": [
            "{'Training': 1.0, 'Train/dev': 0.9705882352941176, 'Validation': 0.9333333333333333, 'Testing': 0.9714285714285714}\n"
          ],
          "name": "stdout"
        }
      ]
    },
    {
      "cell_type": "code",
      "metadata": {
        "id": "TrVmgx7KFJ-J"
      },
      "source": [
        ""
      ],
      "execution_count": null,
      "outputs": []
    }
  ]
}