{
  "nbformat": 4,
  "nbformat_minor": 0,
  "metadata": {
    "colab": {
      "name": "meteor_showers.ipynb",
      "provenance": [],
      "collapsed_sections": [],
      "mount_file_id": "11JKzMI49NanQvVS66dTVZ_9u50IlBeRn",
      "authorship_tag": "ABX9TyM1ifAEaJ/XN62zlpJTFoeq",
      "include_colab_link": true
    },
    "kernelspec": {
      "name": "python3",
      "display_name": "Python 3"
    }
  },
  "cells": [
    {
      "cell_type": "markdown",
      "metadata": {
        "id": "view-in-github",
        "colab_type": "text"
      },
      "source": [
        "<a href=\"https://colab.research.google.com/github/chitinglow/Classification-Machine-learning/blob/master/meteor_showers.ipynb\" target=\"_parent\"><img src=\"https://colab.research.google.com/assets/colab-badge.svg\" alt=\"Open In Colab\"/></a>"
      ]
    },
    {
      "cell_type": "code",
      "metadata": {
        "id": "dqkU2zQKMEGX"
      },
      "source": [
        "import numpy as np\n",
        "import pandas as pd"
      ],
      "execution_count": 36,
      "outputs": []
    },
    {
      "cell_type": "code",
      "metadata": {
        "id": "JwfR07iXN6Kd"
      },
      "source": [
        "meteor_showers = pd.read_csv('/content/drive/Shared drives/shareddrive/over-the-moon/data/meteorshowers.csv')\n",
        "moon_phases = pd.read_csv('/content/drive/Shared drives/shareddrive/over-the-moon/data/moonphases.csv')\n",
        "constellations = pd.read_csv('/content/drive/Shared drives/shareddrive/over-the-moon/data/constellations.csv')\n",
        "cities = pd.read_csv('/content/drive/Shared drives/shareddrive/over-the-moon/data/cities.csv')"
      ],
      "execution_count": 37,
      "outputs": []
    },
    {
      "cell_type": "code",
      "metadata": {
        "id": "ZZ5JK8eWN-hB",
        "outputId": "71f55ae4-d84a-43af-8f7a-a43b723ac59e",
        "colab": {
          "base_uri": "https://localhost:8080/",
          "height": 204
        }
      },
      "source": [
        "meteor_showers.head()"
      ],
      "execution_count": 38,
      "outputs": [
        {
          "output_type": "execute_result",
          "data": {
            "text/html": [
              "<div>\n",
              "<style scoped>\n",
              "    .dataframe tbody tr th:only-of-type {\n",
              "        vertical-align: middle;\n",
              "    }\n",
              "\n",
              "    .dataframe tbody tr th {\n",
              "        vertical-align: top;\n",
              "    }\n",
              "\n",
              "    .dataframe thead th {\n",
              "        text-align: right;\n",
              "    }\n",
              "</style>\n",
              "<table border=\"1\" class=\"dataframe\">\n",
              "  <thead>\n",
              "    <tr style=\"text-align: right;\">\n",
              "      <th></th>\n",
              "      <th>name</th>\n",
              "      <th>radiant</th>\n",
              "      <th>bestmonth</th>\n",
              "      <th>startmonth</th>\n",
              "      <th>startday</th>\n",
              "      <th>endmonth</th>\n",
              "      <th>endday</th>\n",
              "      <th>hemisphere</th>\n",
              "      <th>preferredhemisphere</th>\n",
              "    </tr>\n",
              "  </thead>\n",
              "  <tbody>\n",
              "    <tr>\n",
              "      <th>0</th>\n",
              "      <td>Lyrids</td>\n",
              "      <td>Lyra</td>\n",
              "      <td>april</td>\n",
              "      <td>april</td>\n",
              "      <td>21</td>\n",
              "      <td>april</td>\n",
              "      <td>22</td>\n",
              "      <td>northern</td>\n",
              "      <td>northern</td>\n",
              "    </tr>\n",
              "    <tr>\n",
              "      <th>1</th>\n",
              "      <td>Eta Aquarids</td>\n",
              "      <td>Aquarius</td>\n",
              "      <td>may</td>\n",
              "      <td>april</td>\n",
              "      <td>19</td>\n",
              "      <td>may</td>\n",
              "      <td>28</td>\n",
              "      <td>northern, southern</td>\n",
              "      <td>southern</td>\n",
              "    </tr>\n",
              "    <tr>\n",
              "      <th>2</th>\n",
              "      <td>Orionids</td>\n",
              "      <td>Orion</td>\n",
              "      <td>october</td>\n",
              "      <td>october</td>\n",
              "      <td>2</td>\n",
              "      <td>november</td>\n",
              "      <td>7</td>\n",
              "      <td>northern, southern</td>\n",
              "      <td>northern, southern</td>\n",
              "    </tr>\n",
              "    <tr>\n",
              "      <th>3</th>\n",
              "      <td>Perseids</td>\n",
              "      <td>Perseus</td>\n",
              "      <td>august</td>\n",
              "      <td>july</td>\n",
              "      <td>14</td>\n",
              "      <td>august</td>\n",
              "      <td>24</td>\n",
              "      <td>northern</td>\n",
              "      <td>northern</td>\n",
              "    </tr>\n",
              "    <tr>\n",
              "      <th>4</th>\n",
              "      <td>Leonids</td>\n",
              "      <td>Leo</td>\n",
              "      <td>november</td>\n",
              "      <td>november</td>\n",
              "      <td>6</td>\n",
              "      <td>november</td>\n",
              "      <td>30</td>\n",
              "      <td>northern, southern</td>\n",
              "      <td>northern, southern</td>\n",
              "    </tr>\n",
              "  </tbody>\n",
              "</table>\n",
              "</div>"
            ],
            "text/plain": [
              "           name   radiant  ...          hemisphere preferredhemisphere\n",
              "0        Lyrids      Lyra  ...            northern            northern\n",
              "1  Eta Aquarids  Aquarius  ...  northern, southern            southern\n",
              "2      Orionids     Orion  ...  northern, southern  northern, southern\n",
              "3      Perseids   Perseus  ...            northern            northern\n",
              "4       Leonids       Leo  ...  northern, southern  northern, southern\n",
              "\n",
              "[5 rows x 9 columns]"
            ]
          },
          "metadata": {
            "tags": []
          },
          "execution_count": 38
        }
      ]
    },
    {
      "cell_type": "code",
      "metadata": {
        "id": "unIXj0EwORyb",
        "outputId": "6b1ed78b-fb03-43a4-d21c-a2026f84ef12",
        "colab": {
          "base_uri": "https://localhost:8080/"
        }
      },
      "source": [
        "meteor_showers.info()"
      ],
      "execution_count": 39,
      "outputs": [
        {
          "output_type": "stream",
          "text": [
            "<class 'pandas.core.frame.DataFrame'>\n",
            "RangeIndex: 5 entries, 0 to 4\n",
            "Data columns (total 9 columns):\n",
            " #   Column               Non-Null Count  Dtype \n",
            "---  ------               --------------  ----- \n",
            " 0   name                 5 non-null      object\n",
            " 1   radiant              5 non-null      object\n",
            " 2   bestmonth            5 non-null      object\n",
            " 3   startmonth           5 non-null      object\n",
            " 4   startday             5 non-null      int64 \n",
            " 5   endmonth             5 non-null      object\n",
            " 6   endday               5 non-null      int64 \n",
            " 7   hemisphere           5 non-null      object\n",
            " 8   preferredhemisphere  5 non-null      object\n",
            "dtypes: int64(2), object(7)\n",
            "memory usage: 488.0+ bytes\n"
          ],
          "name": "stdout"
        }
      ]
    },
    {
      "cell_type": "code",
      "metadata": {
        "id": "NbgfLyPNOUaZ",
        "outputId": "60e31e1a-01ea-43ed-fa8c-ccf9899e27ec",
        "colab": {
          "base_uri": "https://localhost:8080/",
          "height": 204
        }
      },
      "source": [
        "moon_phases.head()"
      ],
      "execution_count": 40,
      "outputs": [
        {
          "output_type": "execute_result",
          "data": {
            "text/html": [
              "<div>\n",
              "<style scoped>\n",
              "    .dataframe tbody tr th:only-of-type {\n",
              "        vertical-align: middle;\n",
              "    }\n",
              "\n",
              "    .dataframe tbody tr th {\n",
              "        vertical-align: top;\n",
              "    }\n",
              "\n",
              "    .dataframe thead th {\n",
              "        text-align: right;\n",
              "    }\n",
              "</style>\n",
              "<table border=\"1\" class=\"dataframe\">\n",
              "  <thead>\n",
              "    <tr style=\"text-align: right;\">\n",
              "      <th></th>\n",
              "      <th>month</th>\n",
              "      <th>day</th>\n",
              "      <th>moonphase</th>\n",
              "      <th>specialevent</th>\n",
              "    </tr>\n",
              "  </thead>\n",
              "  <tbody>\n",
              "    <tr>\n",
              "      <th>0</th>\n",
              "      <td>january</td>\n",
              "      <td>1</td>\n",
              "      <td>NaN</td>\n",
              "      <td>NaN</td>\n",
              "    </tr>\n",
              "    <tr>\n",
              "      <th>1</th>\n",
              "      <td>january</td>\n",
              "      <td>2</td>\n",
              "      <td>first quarter</td>\n",
              "      <td>NaN</td>\n",
              "    </tr>\n",
              "    <tr>\n",
              "      <th>2</th>\n",
              "      <td>january</td>\n",
              "      <td>3</td>\n",
              "      <td>NaN</td>\n",
              "      <td>NaN</td>\n",
              "    </tr>\n",
              "    <tr>\n",
              "      <th>3</th>\n",
              "      <td>january</td>\n",
              "      <td>4</td>\n",
              "      <td>NaN</td>\n",
              "      <td>NaN</td>\n",
              "    </tr>\n",
              "    <tr>\n",
              "      <th>4</th>\n",
              "      <td>january</td>\n",
              "      <td>5</td>\n",
              "      <td>NaN</td>\n",
              "      <td>NaN</td>\n",
              "    </tr>\n",
              "  </tbody>\n",
              "</table>\n",
              "</div>"
            ],
            "text/plain": [
              "     month  day      moonphase specialevent\n",
              "0  january    1            NaN          NaN\n",
              "1  january    2  first quarter          NaN\n",
              "2  january    3            NaN          NaN\n",
              "3  january    4            NaN          NaN\n",
              "4  january    5            NaN          NaN"
            ]
          },
          "metadata": {
            "tags": []
          },
          "execution_count": 40
        }
      ]
    },
    {
      "cell_type": "code",
      "metadata": {
        "id": "1Y9NN7lWOav6",
        "outputId": "e1244c57-6115-4c9f-ba27-beeb91a3395a",
        "colab": {
          "base_uri": "https://localhost:8080/"
        }
      },
      "source": [
        "moon_phases.info()"
      ],
      "execution_count": 41,
      "outputs": [
        {
          "output_type": "stream",
          "text": [
            "<class 'pandas.core.frame.DataFrame'>\n",
            "RangeIndex: 366 entries, 0 to 365\n",
            "Data columns (total 4 columns):\n",
            " #   Column        Non-Null Count  Dtype \n",
            "---  ------        --------------  ----- \n",
            " 0   month         366 non-null    object\n",
            " 1   day           366 non-null    int64 \n",
            " 2   moonphase     50 non-null     object\n",
            " 3   specialevent  10 non-null     object\n",
            "dtypes: int64(1), object(3)\n",
            "memory usage: 11.6+ KB\n"
          ],
          "name": "stdout"
        }
      ]
    },
    {
      "cell_type": "code",
      "metadata": {
        "id": "x--wPnJ2OdTq",
        "outputId": "1bc61ce2-fe4d-47dd-e708-549ab94f1bd0",
        "colab": {
          "base_uri": "https://localhost:8080/",
          "height": 204
        }
      },
      "source": [
        "constellations.head()"
      ],
      "execution_count": 42,
      "outputs": [
        {
          "output_type": "execute_result",
          "data": {
            "text/html": [
              "<div>\n",
              "<style scoped>\n",
              "    .dataframe tbody tr th:only-of-type {\n",
              "        vertical-align: middle;\n",
              "    }\n",
              "\n",
              "    .dataframe tbody tr th {\n",
              "        vertical-align: top;\n",
              "    }\n",
              "\n",
              "    .dataframe thead th {\n",
              "        text-align: right;\n",
              "    }\n",
              "</style>\n",
              "<table border=\"1\" class=\"dataframe\">\n",
              "  <thead>\n",
              "    <tr style=\"text-align: right;\">\n",
              "      <th></th>\n",
              "      <th>constellation</th>\n",
              "      <th>bestmonth</th>\n",
              "      <th>latitudestart</th>\n",
              "      <th>latitudeend</th>\n",
              "      <th>besttime</th>\n",
              "      <th>hemisphere</th>\n",
              "    </tr>\n",
              "  </thead>\n",
              "  <tbody>\n",
              "    <tr>\n",
              "      <th>0</th>\n",
              "      <td>Lyra</td>\n",
              "      <td>august</td>\n",
              "      <td>90</td>\n",
              "      <td>-40</td>\n",
              "      <td>21:00</td>\n",
              "      <td>northern</td>\n",
              "    </tr>\n",
              "    <tr>\n",
              "      <th>1</th>\n",
              "      <td>Aquarius</td>\n",
              "      <td>october</td>\n",
              "      <td>65</td>\n",
              "      <td>-90</td>\n",
              "      <td>21:00</td>\n",
              "      <td>southern</td>\n",
              "    </tr>\n",
              "    <tr>\n",
              "      <th>2</th>\n",
              "      <td>Orion</td>\n",
              "      <td>january</td>\n",
              "      <td>85</td>\n",
              "      <td>-75</td>\n",
              "      <td>21:00</td>\n",
              "      <td>northern</td>\n",
              "    </tr>\n",
              "    <tr>\n",
              "      <th>3</th>\n",
              "      <td>Perseus</td>\n",
              "      <td>december</td>\n",
              "      <td>90</td>\n",
              "      <td>-35</td>\n",
              "      <td>21:00</td>\n",
              "      <td>northern</td>\n",
              "    </tr>\n",
              "    <tr>\n",
              "      <th>4</th>\n",
              "      <td>Leo</td>\n",
              "      <td>april</td>\n",
              "      <td>90</td>\n",
              "      <td>65</td>\n",
              "      <td>21:00</td>\n",
              "      <td>northern</td>\n",
              "    </tr>\n",
              "  </tbody>\n",
              "</table>\n",
              "</div>"
            ],
            "text/plain": [
              "  constellation bestmonth  latitudestart  latitudeend besttime hemisphere\n",
              "0          Lyra    august             90          -40    21:00   northern\n",
              "1      Aquarius   october             65          -90    21:00   southern\n",
              "2         Orion   january             85          -75    21:00   northern\n",
              "3       Perseus  december             90          -35    21:00   northern\n",
              "4           Leo     april             90           65    21:00   northern"
            ]
          },
          "metadata": {
            "tags": []
          },
          "execution_count": 42
        }
      ]
    },
    {
      "cell_type": "code",
      "metadata": {
        "id": "RMspmP5tOfUT",
        "outputId": "92e45816-c8bc-4e11-d91a-3c234ea66e8a",
        "colab": {
          "base_uri": "https://localhost:8080/"
        }
      },
      "source": [
        "constellations.info()"
      ],
      "execution_count": 43,
      "outputs": [
        {
          "output_type": "stream",
          "text": [
            "<class 'pandas.core.frame.DataFrame'>\n",
            "RangeIndex: 5 entries, 0 to 4\n",
            "Data columns (total 6 columns):\n",
            " #   Column         Non-Null Count  Dtype \n",
            "---  ------         --------------  ----- \n",
            " 0   constellation  5 non-null      object\n",
            " 1   bestmonth      5 non-null      object\n",
            " 2   latitudestart  5 non-null      int64 \n",
            " 3   latitudeend    5 non-null      int64 \n",
            " 4   besttime       5 non-null      object\n",
            " 5   hemisphere     5 non-null      object\n",
            "dtypes: int64(2), object(4)\n",
            "memory usage: 368.0+ bytes\n"
          ],
          "name": "stdout"
        }
      ]
    },
    {
      "cell_type": "code",
      "metadata": {
        "id": "napLh_HnOgIb",
        "outputId": "853f6edb-cc6d-4060-aa26-f4f0f8f6da16",
        "colab": {
          "base_uri": "https://localhost:8080/",
          "height": 204
        }
      },
      "source": [
        "cities.head()"
      ],
      "execution_count": 44,
      "outputs": [
        {
          "output_type": "execute_result",
          "data": {
            "text/html": [
              "<div>\n",
              "<style scoped>\n",
              "    .dataframe tbody tr th:only-of-type {\n",
              "        vertical-align: middle;\n",
              "    }\n",
              "\n",
              "    .dataframe tbody tr th {\n",
              "        vertical-align: top;\n",
              "    }\n",
              "\n",
              "    .dataframe thead th {\n",
              "        text-align: right;\n",
              "    }\n",
              "</style>\n",
              "<table border=\"1\" class=\"dataframe\">\n",
              "  <thead>\n",
              "    <tr style=\"text-align: right;\">\n",
              "      <th></th>\n",
              "      <th>city</th>\n",
              "      <th>latitude</th>\n",
              "      <th>country</th>\n",
              "    </tr>\n",
              "  </thead>\n",
              "  <tbody>\n",
              "    <tr>\n",
              "      <th>0</th>\n",
              "      <td>Abu Dhabi</td>\n",
              "      <td>24.47</td>\n",
              "      <td>United Arab Emirates</td>\n",
              "    </tr>\n",
              "    <tr>\n",
              "      <th>1</th>\n",
              "      <td>Abuja</td>\n",
              "      <td>9.07</td>\n",
              "      <td>Nigeria</td>\n",
              "    </tr>\n",
              "    <tr>\n",
              "      <th>2</th>\n",
              "      <td>Accra</td>\n",
              "      <td>5.55</td>\n",
              "      <td>Ghana</td>\n",
              "    </tr>\n",
              "    <tr>\n",
              "      <th>3</th>\n",
              "      <td>Adamstown</td>\n",
              "      <td>-25.07</td>\n",
              "      <td>Pitcairn Islands</td>\n",
              "    </tr>\n",
              "    <tr>\n",
              "      <th>4</th>\n",
              "      <td>Addis Ababa</td>\n",
              "      <td>9.02</td>\n",
              "      <td>Ethiopia</td>\n",
              "    </tr>\n",
              "  </tbody>\n",
              "</table>\n",
              "</div>"
            ],
            "text/plain": [
              "          city  latitude               country\n",
              "0    Abu Dhabi     24.47  United Arab Emirates\n",
              "1        Abuja      9.07               Nigeria\n",
              "2        Accra      5.55                 Ghana\n",
              "3    Adamstown    -25.07      Pitcairn Islands\n",
              "4  Addis Ababa      9.02              Ethiopia"
            ]
          },
          "metadata": {
            "tags": []
          },
          "execution_count": 44
        }
      ]
    },
    {
      "cell_type": "code",
      "metadata": {
        "id": "NFyVCHYFOiAA",
        "outputId": "0e547f75-2381-4a82-e933-ac9186b25e40",
        "colab": {
          "base_uri": "https://localhost:8080/"
        }
      },
      "source": [
        "cities.info()"
      ],
      "execution_count": 45,
      "outputs": [
        {
          "output_type": "stream",
          "text": [
            "<class 'pandas.core.frame.DataFrame'>\n",
            "RangeIndex: 256 entries, 0 to 255\n",
            "Data columns (total 3 columns):\n",
            " #   Column    Non-Null Count  Dtype  \n",
            "---  ------    --------------  -----  \n",
            " 0   city      256 non-null    object \n",
            " 1   latitude  256 non-null    float64\n",
            " 2   country   256 non-null    object \n",
            "dtypes: float64(1), object(2)\n",
            "memory usage: 6.1+ KB\n"
          ],
          "name": "stdout"
        }
      ]
    },
    {
      "cell_type": "code",
      "metadata": {
        "id": "59IaUJtNOiyU"
      },
      "source": [
        "## Map the month to number\n",
        "\n",
        "months = {'january':1, 'february':2, 'march':3, 'april':4, 'may':5, 'june':6, 'july':7, 'august':8, 'september':9, 'october':10, 'november':11, 'december':12}\n",
        "meteor_showers.bestmonth = meteor_showers.bestmonth.map(months)\n",
        "meteor_showers.startmonth = meteor_showers.startmonth.map(months)\n",
        "meteor_showers.endmonth = meteor_showers.endmonth.map(months)\n",
        "moon_phases.month = moon_phases.month.map(months)\n",
        "constellations.bestmonth = constellations.bestmonth.map(months)"
      ],
      "execution_count": 46,
      "outputs": []
    },
    {
      "cell_type": "code",
      "metadata": {
        "id": "WiBZN2TYOvmL",
        "outputId": "2e05ca33-45b9-435a-dc41-c6bc065e7b71",
        "colab": {
          "base_uri": "https://localhost:8080/",
          "height": 204
        }
      },
      "source": [
        "meteor_showers.head()"
      ],
      "execution_count": 47,
      "outputs": [
        {
          "output_type": "execute_result",
          "data": {
            "text/html": [
              "<div>\n",
              "<style scoped>\n",
              "    .dataframe tbody tr th:only-of-type {\n",
              "        vertical-align: middle;\n",
              "    }\n",
              "\n",
              "    .dataframe tbody tr th {\n",
              "        vertical-align: top;\n",
              "    }\n",
              "\n",
              "    .dataframe thead th {\n",
              "        text-align: right;\n",
              "    }\n",
              "</style>\n",
              "<table border=\"1\" class=\"dataframe\">\n",
              "  <thead>\n",
              "    <tr style=\"text-align: right;\">\n",
              "      <th></th>\n",
              "      <th>name</th>\n",
              "      <th>radiant</th>\n",
              "      <th>bestmonth</th>\n",
              "      <th>startmonth</th>\n",
              "      <th>startday</th>\n",
              "      <th>endmonth</th>\n",
              "      <th>endday</th>\n",
              "      <th>hemisphere</th>\n",
              "      <th>preferredhemisphere</th>\n",
              "    </tr>\n",
              "  </thead>\n",
              "  <tbody>\n",
              "    <tr>\n",
              "      <th>0</th>\n",
              "      <td>Lyrids</td>\n",
              "      <td>Lyra</td>\n",
              "      <td>4</td>\n",
              "      <td>4</td>\n",
              "      <td>21</td>\n",
              "      <td>4</td>\n",
              "      <td>22</td>\n",
              "      <td>northern</td>\n",
              "      <td>northern</td>\n",
              "    </tr>\n",
              "    <tr>\n",
              "      <th>1</th>\n",
              "      <td>Eta Aquarids</td>\n",
              "      <td>Aquarius</td>\n",
              "      <td>5</td>\n",
              "      <td>4</td>\n",
              "      <td>19</td>\n",
              "      <td>5</td>\n",
              "      <td>28</td>\n",
              "      <td>northern, southern</td>\n",
              "      <td>southern</td>\n",
              "    </tr>\n",
              "    <tr>\n",
              "      <th>2</th>\n",
              "      <td>Orionids</td>\n",
              "      <td>Orion</td>\n",
              "      <td>10</td>\n",
              "      <td>10</td>\n",
              "      <td>2</td>\n",
              "      <td>11</td>\n",
              "      <td>7</td>\n",
              "      <td>northern, southern</td>\n",
              "      <td>northern, southern</td>\n",
              "    </tr>\n",
              "    <tr>\n",
              "      <th>3</th>\n",
              "      <td>Perseids</td>\n",
              "      <td>Perseus</td>\n",
              "      <td>8</td>\n",
              "      <td>7</td>\n",
              "      <td>14</td>\n",
              "      <td>8</td>\n",
              "      <td>24</td>\n",
              "      <td>northern</td>\n",
              "      <td>northern</td>\n",
              "    </tr>\n",
              "    <tr>\n",
              "      <th>4</th>\n",
              "      <td>Leonids</td>\n",
              "      <td>Leo</td>\n",
              "      <td>11</td>\n",
              "      <td>11</td>\n",
              "      <td>6</td>\n",
              "      <td>11</td>\n",
              "      <td>30</td>\n",
              "      <td>northern, southern</td>\n",
              "      <td>northern, southern</td>\n",
              "    </tr>\n",
              "  </tbody>\n",
              "</table>\n",
              "</div>"
            ],
            "text/plain": [
              "           name   radiant  ...          hemisphere  preferredhemisphere\n",
              "0        Lyrids      Lyra  ...            northern             northern\n",
              "1  Eta Aquarids  Aquarius  ...  northern, southern             southern\n",
              "2      Orionids     Orion  ...  northern, southern   northern, southern\n",
              "3      Perseids   Perseus  ...            northern             northern\n",
              "4       Leonids       Leo  ...  northern, southern   northern, southern\n",
              "\n",
              "[5 rows x 9 columns]"
            ]
          },
          "metadata": {
            "tags": []
          },
          "execution_count": 47
        }
      ]
    },
    {
      "cell_type": "code",
      "metadata": {
        "id": "iuuGuzUIO1vi",
        "outputId": "87d24f3d-6ce1-463a-b0cb-5bb4e4522352",
        "colab": {
          "base_uri": "https://localhost:8080/"
        }
      },
      "source": [
        "meteor_showers.info()"
      ],
      "execution_count": 48,
      "outputs": [
        {
          "output_type": "stream",
          "text": [
            "<class 'pandas.core.frame.DataFrame'>\n",
            "RangeIndex: 5 entries, 0 to 4\n",
            "Data columns (total 9 columns):\n",
            " #   Column               Non-Null Count  Dtype \n",
            "---  ------               --------------  ----- \n",
            " 0   name                 5 non-null      object\n",
            " 1   radiant              5 non-null      object\n",
            " 2   bestmonth            5 non-null      int64 \n",
            " 3   startmonth           5 non-null      int64 \n",
            " 4   startday             5 non-null      int64 \n",
            " 5   endmonth             5 non-null      int64 \n",
            " 6   endday               5 non-null      int64 \n",
            " 7   hemisphere           5 non-null      object\n",
            " 8   preferredhemisphere  5 non-null      object\n",
            "dtypes: int64(5), object(4)\n",
            "memory usage: 488.0+ bytes\n"
          ],
          "name": "stdout"
        }
      ]
    },
    {
      "cell_type": "code",
      "metadata": {
        "id": "XK5CXi4PO23q",
        "outputId": "41ebf506-77f9-46e3-84f6-fdbdfc4fce39",
        "colab": {
          "base_uri": "https://localhost:8080/"
        }
      },
      "source": [
        "meteor_showers.info()"
      ],
      "execution_count": 49,
      "outputs": [
        {
          "output_type": "stream",
          "text": [
            "<class 'pandas.core.frame.DataFrame'>\n",
            "RangeIndex: 5 entries, 0 to 4\n",
            "Data columns (total 9 columns):\n",
            " #   Column               Non-Null Count  Dtype \n",
            "---  ------               --------------  ----- \n",
            " 0   name                 5 non-null      object\n",
            " 1   radiant              5 non-null      object\n",
            " 2   bestmonth            5 non-null      int64 \n",
            " 3   startmonth           5 non-null      int64 \n",
            " 4   startday             5 non-null      int64 \n",
            " 5   endmonth             5 non-null      int64 \n",
            " 6   endday               5 non-null      int64 \n",
            " 7   hemisphere           5 non-null      object\n",
            " 8   preferredhemisphere  5 non-null      object\n",
            "dtypes: int64(5), object(4)\n",
            "memory usage: 488.0+ bytes\n"
          ],
          "name": "stdout"
        }
      ]
    },
    {
      "cell_type": "code",
      "metadata": {
        "id": "7ausr3XPO3dD"
      },
      "source": [
        "#Create two new columns: startdate and enddate. These columns will contain a month and day in 2020:\n",
        "meteor_showers['startdate'] = pd.to_datetime(2020*10000+meteor_showers.startmonth*100+meteor_showers.startday,format='%Y%m%d')\n",
        "meteor_showers['enddate'] = pd.to_datetime(2020*10000+meteor_showers.endmonth*100+meteor_showers.endday,format='%Y%m%d')"
      ],
      "execution_count": 50,
      "outputs": []
    },
    {
      "cell_type": "code",
      "metadata": {
        "id": "pCqWjnG4O7xS"
      },
      "source": [
        "moon_phases['date'] = pd.to_datetime(2020*10000+moon_phases.month*100+moon_phases.day,format='%Y%m%d')"
      ],
      "execution_count": 51,
      "outputs": []
    },
    {
      "cell_type": "code",
      "metadata": {
        "id": "D6w2uEgaO9OC"
      },
      "source": [
        "hemispheres = {'northern':0, 'southern':1, 'northern, southern':3}\n",
        "meteor_showers.hemisphere = meteor_showers.hemisphere.map(hemispheres)\n",
        "constellations.hemisphere = constellations.hemisphere.map(hemispheres)"
      ],
      "execution_count": 52,
      "outputs": []
    },
    {
      "cell_type": "code",
      "metadata": {
        "id": "oKO53rPrPIgi",
        "outputId": "ce1bbbf4-9953-475c-c13f-a4d9f181441d",
        "colab": {
          "base_uri": "https://localhost:8080/",
          "height": 204
        }
      },
      "source": [
        "phases = {'new moon':0,'third quarter':0.5, 'first quarter':0.5,'full moon':1.0}\n",
        "moon_phases['percentage'] = moon_phases.moonphase.map(phases)\n",
        "moon_phases.head()"
      ],
      "execution_count": 53,
      "outputs": [
        {
          "output_type": "execute_result",
          "data": {
            "text/html": [
              "<div>\n",
              "<style scoped>\n",
              "    .dataframe tbody tr th:only-of-type {\n",
              "        vertical-align: middle;\n",
              "    }\n",
              "\n",
              "    .dataframe tbody tr th {\n",
              "        vertical-align: top;\n",
              "    }\n",
              "\n",
              "    .dataframe thead th {\n",
              "        text-align: right;\n",
              "    }\n",
              "</style>\n",
              "<table border=\"1\" class=\"dataframe\">\n",
              "  <thead>\n",
              "    <tr style=\"text-align: right;\">\n",
              "      <th></th>\n",
              "      <th>month</th>\n",
              "      <th>day</th>\n",
              "      <th>moonphase</th>\n",
              "      <th>specialevent</th>\n",
              "      <th>date</th>\n",
              "      <th>percentage</th>\n",
              "    </tr>\n",
              "  </thead>\n",
              "  <tbody>\n",
              "    <tr>\n",
              "      <th>0</th>\n",
              "      <td>1</td>\n",
              "      <td>1</td>\n",
              "      <td>NaN</td>\n",
              "      <td>NaN</td>\n",
              "      <td>2020-01-01</td>\n",
              "      <td>NaN</td>\n",
              "    </tr>\n",
              "    <tr>\n",
              "      <th>1</th>\n",
              "      <td>1</td>\n",
              "      <td>2</td>\n",
              "      <td>first quarter</td>\n",
              "      <td>NaN</td>\n",
              "      <td>2020-01-02</td>\n",
              "      <td>0.5</td>\n",
              "    </tr>\n",
              "    <tr>\n",
              "      <th>2</th>\n",
              "      <td>1</td>\n",
              "      <td>3</td>\n",
              "      <td>NaN</td>\n",
              "      <td>NaN</td>\n",
              "      <td>2020-01-03</td>\n",
              "      <td>NaN</td>\n",
              "    </tr>\n",
              "    <tr>\n",
              "      <th>3</th>\n",
              "      <td>1</td>\n",
              "      <td>4</td>\n",
              "      <td>NaN</td>\n",
              "      <td>NaN</td>\n",
              "      <td>2020-01-04</td>\n",
              "      <td>NaN</td>\n",
              "    </tr>\n",
              "    <tr>\n",
              "      <th>4</th>\n",
              "      <td>1</td>\n",
              "      <td>5</td>\n",
              "      <td>NaN</td>\n",
              "      <td>NaN</td>\n",
              "      <td>2020-01-05</td>\n",
              "      <td>NaN</td>\n",
              "    </tr>\n",
              "  </tbody>\n",
              "</table>\n",
              "</div>"
            ],
            "text/plain": [
              "   month  day      moonphase specialevent       date  percentage\n",
              "0      1    1            NaN          NaN 2020-01-01         NaN\n",
              "1      1    2  first quarter          NaN 2020-01-02         0.5\n",
              "2      1    3            NaN          NaN 2020-01-03         NaN\n",
              "3      1    4            NaN          NaN 2020-01-04         NaN\n",
              "4      1    5            NaN          NaN 2020-01-05         NaN"
            ]
          },
          "metadata": {
            "tags": []
          },
          "execution_count": 53
        }
      ]
    },
    {
      "cell_type": "code",
      "metadata": {
        "id": "quUlqEz0PUgS",
        "outputId": "7fd43f6d-283d-4729-9d23-979ecbf7ccac",
        "colab": {
          "base_uri": "https://localhost:8080/"
        }
      },
      "source": [
        "## Fill missing data\n",
        "lastPhase = 0\n",
        "\n",
        "for index, row in moon_phases.iterrows():\n",
        "    if pd.isnull(row['percentage']):\n",
        "        moon_phases.at[index,'percentage'] = lastPhase\n",
        "    else:\n",
        "        lastPhase = row['percentage']\n",
        "\n",
        "moon_phases.info()"
      ],
      "execution_count": 54,
      "outputs": [
        {
          "output_type": "stream",
          "text": [
            "<class 'pandas.core.frame.DataFrame'>\n",
            "RangeIndex: 366 entries, 0 to 365\n",
            "Data columns (total 6 columns):\n",
            " #   Column        Non-Null Count  Dtype         \n",
            "---  ------        --------------  -----         \n",
            " 0   month         366 non-null    int64         \n",
            " 1   day           366 non-null    int64         \n",
            " 2   moonphase     50 non-null     object        \n",
            " 3   specialevent  10 non-null     object        \n",
            " 4   date          366 non-null    datetime64[ns]\n",
            " 5   percentage    366 non-null    float64       \n",
            "dtypes: datetime64[ns](1), float64(1), int64(2), object(2)\n",
            "memory usage: 17.3+ KB\n"
          ],
          "name": "stdout"
        }
      ]
    },
    {
      "cell_type": "code",
      "metadata": {
        "id": "kpYKEdbgPoqz",
        "outputId": "01f6c617-ccdb-4976-f601-4ae74d6ce1b5",
        "colab": {
          "base_uri": "https://localhost:8080/"
        }
      },
      "source": [
        "### Write Prediction Function\n",
        "\n",
        "meteor_showers.info()"
      ],
      "execution_count": 55,
      "outputs": [
        {
          "output_type": "stream",
          "text": [
            "<class 'pandas.core.frame.DataFrame'>\n",
            "RangeIndex: 5 entries, 0 to 4\n",
            "Data columns (total 11 columns):\n",
            " #   Column               Non-Null Count  Dtype         \n",
            "---  ------               --------------  -----         \n",
            " 0   name                 5 non-null      object        \n",
            " 1   radiant              5 non-null      object        \n",
            " 2   bestmonth            5 non-null      int64         \n",
            " 3   startmonth           5 non-null      int64         \n",
            " 4   startday             5 non-null      int64         \n",
            " 5   endmonth             5 non-null      int64         \n",
            " 6   endday               5 non-null      int64         \n",
            " 7   hemisphere           5 non-null      int64         \n",
            " 8   preferredhemisphere  5 non-null      object        \n",
            " 9   startdate            5 non-null      datetime64[ns]\n",
            " 10  enddate              5 non-null      datetime64[ns]\n",
            "dtypes: datetime64[ns](2), int64(6), object(3)\n",
            "memory usage: 568.0+ bytes\n"
          ],
          "name": "stdout"
        }
      ]
    },
    {
      "cell_type": "code",
      "metadata": {
        "id": "NKEEKWz-QhCJ",
        "outputId": "2108b0b7-37d2-48a4-d694-aad59d7e76ff",
        "colab": {
          "base_uri": "https://localhost:8080/"
        }
      },
      "source": [
        "moon_phases.info()"
      ],
      "execution_count": 56,
      "outputs": [
        {
          "output_type": "stream",
          "text": [
            "<class 'pandas.core.frame.DataFrame'>\n",
            "RangeIndex: 366 entries, 0 to 365\n",
            "Data columns (total 6 columns):\n",
            " #   Column        Non-Null Count  Dtype         \n",
            "---  ------        --------------  -----         \n",
            " 0   month         366 non-null    int64         \n",
            " 1   day           366 non-null    int64         \n",
            " 2   moonphase     50 non-null     object        \n",
            " 3   specialevent  10 non-null     object        \n",
            " 4   date          366 non-null    datetime64[ns]\n",
            " 5   percentage    366 non-null    float64       \n",
            "dtypes: datetime64[ns](1), float64(1), int64(2), object(2)\n",
            "memory usage: 17.3+ KB\n"
          ],
          "name": "stdout"
        }
      ]
    },
    {
      "cell_type": "code",
      "metadata": {
        "id": "xIbKQ3aPQhxK",
        "outputId": "454c39ca-898f-4ae3-c534-4af1e6f14e9b",
        "colab": {
          "base_uri": "https://localhost:8080/"
        }
      },
      "source": [
        "cities.info()"
      ],
      "execution_count": 57,
      "outputs": [
        {
          "output_type": "stream",
          "text": [
            "<class 'pandas.core.frame.DataFrame'>\n",
            "RangeIndex: 256 entries, 0 to 255\n",
            "Data columns (total 3 columns):\n",
            " #   Column    Non-Null Count  Dtype  \n",
            "---  ------    --------------  -----  \n",
            " 0   city      256 non-null    object \n",
            " 1   latitude  256 non-null    float64\n",
            " 2   country   256 non-null    object \n",
            "dtypes: float64(1), object(2)\n",
            "memory usage: 6.1+ KB\n"
          ],
          "name": "stdout"
        }
      ]
    },
    {
      "cell_type": "code",
      "metadata": {
        "id": "oC7ohvsYQi_6",
        "outputId": "e921f9c5-b16f-423c-d220-6912972be611",
        "colab": {
          "base_uri": "https://localhost:8080/"
        }
      },
      "source": [
        "constellations.info()"
      ],
      "execution_count": 58,
      "outputs": [
        {
          "output_type": "stream",
          "text": [
            "<class 'pandas.core.frame.DataFrame'>\n",
            "RangeIndex: 5 entries, 0 to 4\n",
            "Data columns (total 6 columns):\n",
            " #   Column         Non-Null Count  Dtype \n",
            "---  ------         --------------  ----- \n",
            " 0   constellation  5 non-null      object\n",
            " 1   bestmonth      5 non-null      int64 \n",
            " 2   latitudestart  5 non-null      int64 \n",
            " 3   latitudeend    5 non-null      int64 \n",
            " 4   besttime       5 non-null      object\n",
            " 5   hemisphere     5 non-null      int64 \n",
            "dtypes: int64(4), object(2)\n",
            "memory usage: 368.0+ bytes\n"
          ],
          "name": "stdout"
        }
      ]
    },
    {
      "cell_type": "markdown",
      "metadata": {
        "id": "T48C09NzQkmk"
      },
      "source": [
        "The function that we write needs to:\n",
        "\n",
        "1.   Determine the latitude of a city.\n",
        "2.   Use that latitude to figure out which constellations are visible to that city.\n",
        "3.   Use the constellations to determine which meteor showers are visible to that city.\n",
        "4.   Use the meteor showers to determine the dates that they're visible.\n",
        "5.   Use the dates to find the optimal date that has the least amount of light from the Moon."
      ]
    },
    {
      "cell_type": "code",
      "metadata": {
        "id": "CylFl-ZAQj3j",
        "outputId": "13f126ca-b67e-4cf1-8ac3-33796e32d519",
        "colab": {
          "base_uri": "https://localhost:8080/"
        }
      },
      "source": [
        "def predict_best_meteor_shower_viewing(city):\n",
        "    # Get the latitude of the city from the cities dataframe\n",
        "    latitude = cities.loc[cities['city'] == city, 'latitude'].iloc[0]\n",
        "\n",
        "    return latitude\n",
        "\n",
        "print(predict_best_meteor_shower_viewing('Abu Dhabi'))"
      ],
      "execution_count": 59,
      "outputs": [
        {
          "output_type": "stream",
          "text": [
            "24.47\n"
          ],
          "name": "stdout"
        }
      ]
    },
    {
      "cell_type": "code",
      "metadata": {
        "id": "ipr4UgyeRG3A"
      },
      "source": [
        "## Use latitude to determine constellation"
      ],
      "execution_count": 60,
      "outputs": []
    },
    {
      "cell_type": "markdown",
      "metadata": {
        "id": "jFj-rpvoRTid"
      },
      "source": [
        "We can break down this line as follows:\n",
        "\n",
        "* (constellations['latitudestart'] >= latitude) &  (constellations['latitudeend'] <= latitude)\n",
        "\n",
        "  * Mark a row as True only if the latitude found in the previous line is within the latitudestart and latitudeend values for that row.\n",
        "\n",
        "* constellations.loc[(constellations['latitudestart'] >= latitude) & (constellations['latitudeend'] <= latitude)\n",
        "  * Get all of the rows where the latitude is within range for that constellation.\n",
        "\n",
        "* constellations.loc[(constellations['latitudestart'] >= latitude) & (constellations['latitudeend'] <= latitude), 'constellation']\n",
        "  * Get only the constellation column from those rows.\n",
        "\n",
        "* constellations.loc[(constellations['latitudestart'] >= latitude) & (constellations['latitudeend'] <= latitude), 'constellation'].tolist()\n",
        "  * Convert the series returned from the .loc function to a list."
      ]
    },
    {
      "cell_type": "code",
      "metadata": {
        "id": "HmBRxCx4RRZb",
        "outputId": "7f67a1e3-15b1-4c6c-95e2-5f29f8c570b0",
        "colab": {
          "base_uri": "https://localhost:8080/"
        }
      },
      "source": [
        "## Print the constellation list\n",
        "def predict_best_meteor_shower_viewing(city):\n",
        "    # Get the latitude of the city from the cities data frame\n",
        "    latitude = cities.loc[cities['city'] == city, 'latitude'].iloc[0]\n",
        "\n",
        "    # Get the list of constellations that are viewable from that latitude\n",
        "    constellation_list = constellations.loc[(constellations['latitudestart'] >= latitude) & (constellations['latitudeend'] <= latitude), 'constellation'].tolist()\n",
        "    \n",
        "    return constellation_list\n",
        "\n",
        "print(predict_best_meteor_shower_viewing('Abu Dhabi'))"
      ],
      "execution_count": 61,
      "outputs": [
        {
          "output_type": "stream",
          "text": [
            "['Lyra', 'Aquarius', 'Orion', 'Perseus']\n"
          ],
          "name": "stdout"
        }
      ]
    },
    {
      "cell_type": "code",
      "metadata": {
        "id": "EyQ9pK6bSllM"
      },
      "source": [
        "def predict_best_meteor_shower_viewing(city):\n",
        "    # Create an empty string to return the message back to the user\n",
        "    meteor_shower_string = \"\"\n",
        "\n",
        "    if city not in cities.values:\n",
        "        meteor_shower_string = \"Unfortunately, \" + city + \" isn't available for a prediction at this time.\"\n",
        "        return meteor_shower_string\n",
        "\n",
        "    # Get the latitude of the city from the cities data frame\n",
        "    latitude = cities.loc[cities['city'] == city, 'latitude'].iloc[0]\n",
        "\n",
        "    # Get the list of constellations that are viewable from that latitude\n",
        "    constellation_list = constellations.loc[(constellations['latitudestart'] >= latitude) & (constellations['latitudeend'] <= latitude), 'constellation'].tolist()\n",
        "\n",
        "    # If no constellations are viewable, let the user know\n",
        "    if not constellation_list:\n",
        "        meteor_shower_string = \"Unfortunately, there are no meteor showers viewable from \"+ city + \".\"\n",
        "\n",
        "        return meteor_shower_string\n",
        "\n",
        "    meteor_shower_string = \"In \" + city + \" you can see the following meteor showers:\\n\"\n",
        "    \n",
        "    # Iterate through each constellation that is viewable from the city\n",
        "    for constellation in constellation_list:\n",
        "        # Find the meteor shower that is nearest to that constellation\n",
        "        meteor_shower = meteor_showers.loc[meteor_showers['radiant'] == constellation, 'name'].iloc[0]\n",
        "\n",
        "        # Find the start and end dates for that meteor shower\n",
        "        meteor_shower_startdate = meteor_showers.loc[meteor_showers['radiant'] == constellation, 'startdate'].iloc[0]\n",
        "        meteor_shower_enddate = meteor_showers.loc[meteor_showers['radiant'] == constellation, 'enddate'].iloc[0]\n",
        "\n",
        "        # Find the Moon phases for each date within the viewable time frame of that meteor shower\n",
        "        moon_phases_list = moon_phases.loc[(moon_phases['date'] >= meteor_shower_startdate) & (moon_phases['date'] <= meteor_shower_enddate)]\n",
        "\n",
        "        # Find the first date where the Moon is the least visible\n",
        "        best_moon_date = moon_phases_list.loc[moon_phases_list['percentage'].idxmin()]['date']\n",
        "\n",
        "        # Add that date to the string to report back to the user\n",
        "        meteor_shower_string += meteor_shower + \" is best seen if you look towards the \" + constellation + \" constellation on \" +  best_moon_date.to_pydatetime().strftime(\"%B %d, %Y\") + \".\\n\"\n",
        "    \n",
        "    return meteor_shower_string"
      ],
      "execution_count": 62,
      "outputs": []
    },
    {
      "cell_type": "code",
      "metadata": {
        "id": "zoaSKkiSSx9a",
        "outputId": "c5305c36-171a-4ba8-f638-5611a26e6a84",
        "colab": {
          "base_uri": "https://localhost:8080/"
        }
      },
      "source": [
        "print(predict_best_meteor_shower_viewing('Abu Dhabi'))"
      ],
      "execution_count": 63,
      "outputs": [
        {
          "output_type": "stream",
          "text": [
            "In Abu Dhabi you can see the following meteor showers:\n",
            "Lyrids is best seen if you look towards the Lyra constellation on April 22, 2020.\n",
            "Eta Aquarids is best seen if you look towards the Aquarius constellation on April 22, 2020.\n",
            "Orionids is best seen if you look towards the Orion constellation on October 16, 2020.\n",
            "Perseids is best seen if you look towards the Perseus constellation on July 20, 2020.\n",
            "\n"
          ],
          "name": "stdout"
        }
      ]
    },
    {
      "cell_type": "code",
      "metadata": {
        "id": "pr7cqbOBS51y"
      },
      "source": [
        "change_meteor_shower = {'name':'Chang\\'e','radiant':'Draco','bestmonth':'october','startmonth':'october','startday':1,'endmonth':'october','endday':31,'hemisphere':'northern','preferredhemisphere':'northern'}"
      ],
      "execution_count": 64,
      "outputs": []
    },
    {
      "cell_type": "code",
      "metadata": {
        "id": "gKG6OK60TCkT"
      },
      "source": [
        "draco_constellation = {'constellation':'Draco','bestmonth':'july','latitudestart':90,'latitudeend':-15,'besttime':2100,'hemisphere':'northern'}"
      ],
      "execution_count": 65,
      "outputs": []
    },
    {
      "cell_type": "code",
      "metadata": {
        "id": "BF1RJAeRTDlb"
      },
      "source": [
        "change_meteor_shower = {'name':'Chang\\'e','radiant':'Draco','bestmonth':'october','startmonth':'october','startday':1,'endmonth':'october','endday':31,'hemisphere':'northern','preferredhemisphere':'northern'}\n",
        "\n",
        "meteor_showers = meteor_showers.append(change_meteor_shower, ignore_index=True)"
      ],
      "execution_count": 66,
      "outputs": []
    },
    {
      "cell_type": "code",
      "metadata": {
        "id": "WbC65-E4TFec"
      },
      "source": [
        "draco_constellation = {'constellation':'Draco','bestmonth':'july','latitudestart':90,'latitudeend':-15,'besttime':2100,'hemisphere':'northern'}\n",
        "\n",
        "constellations = constellations.append(draco_constellation, ignore_index=True)"
      ],
      "execution_count": 67,
      "outputs": []
    },
    {
      "cell_type": "code",
      "metadata": {
        "id": "aMd-uP4lTGjz"
      },
      "source": [
        "#print(predict_best_meteor_shower_viewing('Beijing'))"
      ],
      "execution_count": 68,
      "outputs": []
    },
    {
      "cell_type": "code",
      "metadata": {
        "id": "D9ZjA0kyTLIL"
      },
      "source": [
        ""
      ],
      "execution_count": 68,
      "outputs": []
    }
  ]
}